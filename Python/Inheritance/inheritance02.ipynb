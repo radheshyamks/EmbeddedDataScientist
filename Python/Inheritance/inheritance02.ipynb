{
 "cells": [
  {
   "cell_type": "code",
   "execution_count": 9,
   "id": "f631fa67-3096-4fba-9e44-2874788ecacb",
   "metadata": {},
   "outputs": [
    {
     "name": "stdout",
     "output_type": "stream",
     "text": [
      "obj <__main__.student object at 0x0000017D1D1E0590>  is destroyed\n",
      "Student ID:  123\n",
      "College Name:  AESI Delhi\n",
      "Student Name:  Radheshyam\n",
      "Student Height:  5.6\n",
      "Meals:  Roti, Rice and Daal\n"
     ]
    }
   ],
   "source": [
    "class person(object):\n",
    "    def __init__(self, name, height, meals):\n",
    "        self.Height = height\n",
    "        self.Name = name\n",
    "        self.Meals = meals\n",
    "    def print_attr(self):\n",
    "        print(\"Student Name: \",self.Name)\n",
    "        print(\"Student Height: \",self.Height)\n",
    "        print(\"Meals: \",self.Meals)\n",
    "    def __del__(self):\n",
    "        print(f'Obj {self} is destroyed')\n",
    "class student(person):\n",
    "    def __init__(self, name, height, meals,**StudentsDetails):\n",
    "        self.id = StudentsDetails.get('ID')\n",
    "        self.collegeName = StudentsDetails.get('collegeName')\n",
    "        super().__init__(name, height, meals)\n",
    "    def print_studentDetails(self):\n",
    "        print(\"Student ID: \",self.id)\n",
    "        print(\"College Name: \",self.collegeName)\n",
    "        super().print_attr()\n",
    "    def __del__(self):\n",
    "        print(f'obj {self}  is destroyed')\n",
    "student_details = {'ID': 123, 'collegeName':\"AESI Delhi\"}\n",
    "p1 = student(\"Radheshyam\", 5.6, \"Roti, Rice and Daal\", ID=123, collegeName=\"AESI Delhi\")\n",
    "# p1.print_attr()\n",
    "p1.print_studentDetails()\n",
    "# del p1"
   ]
  }
 ],
 "metadata": {
  "kernelspec": {
   "display_name": "Python 3 (ipykernel)",
   "language": "python",
   "name": "python3"
  },
  "language_info": {
   "codemirror_mode": {
    "name": "ipython",
    "version": 3
   },
   "file_extension": ".py",
   "mimetype": "text/x-python",
   "name": "python",
   "nbconvert_exporter": "python",
   "pygments_lexer": "ipython3",
   "version": "3.11.4"
  }
 },
 "nbformat": 4,
 "nbformat_minor": 5
}
