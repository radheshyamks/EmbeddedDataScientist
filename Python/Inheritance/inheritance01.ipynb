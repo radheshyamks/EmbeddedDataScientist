{
 "cells": [
  {
   "cell_type": "code",
   "execution_count": 1,
   "id": "ca3622a3-41c6-4645-a941-b0c385adbf0f",
   "metadata": {},
   "outputs": [
    {
     "name": "stdout",
     "output_type": "stream",
     "text": [
      "Hello, World\n"
     ]
    }
   ],
   "source": [
    "# Inheritance allows us to define a class that inherits all the methods and properties from another class.\n",
    "# Parent class is the class being inherited from, also called base class.\n",
    "# Child class is the class that inherits from another class, also called derived class.\n",
    "print('Hello, World')"
   ]
  },
  {
   "cell_type": "code",
   "execution_count": 20,
   "id": "0238b066-84c3-4f7d-881d-e88759f0ac84",
   "metadata": {},
   "outputs": [
    {
     "name": "stdout",
     "output_type": "stream",
     "text": [
      "Hello, Inheritance\n",
      "Bye Bye class\n",
      "Hello, Inheritance\n",
      "Hello, Inheritance\n",
      "Bye Bye class\n",
      "Bye Bye class\n",
      "var1 = 4 var2 = 6\n"
     ]
    }
   ],
   "source": [
    "class A(object):\n",
    "    def __init__(self,val1=0,val2=0):\n",
    "        self.var1 = val1\n",
    "        self.var2 = val2\n",
    "        print(\"Hello, Inheritance\")\n",
    "    def __add__(self,other):\n",
    "        self.var1 = self.var1+other.var1\n",
    "        self.var2 = self.var2+other.var2\n",
    "        return self\n",
    "    def print_val(self):\n",
    "        print(f'var1 = {self.var1} var2 = {self.var2}')\n",
    "    def __del__(self):\n",
    "        print(\"Bye Bye class\")\n",
    "# var1 = 1;\n",
    "# var2 = 2\n",
    "p1 = A(1,2)\n",
    "p2 = A(3,4)\n",
    "p3 = A(5,6)\n",
    "# p3 = p2+p1 # this one is also correct\n",
    "p3 = p2.__add__(p1)\n",
    "p3.print_val()"
   ]
  }
 ],
 "metadata": {
  "kernelspec": {
   "display_name": "Python 3 (ipykernel)",
   "language": "python",
   "name": "python3"
  },
  "language_info": {
   "codemirror_mode": {
    "name": "ipython",
    "version": 3
   },
   "file_extension": ".py",
   "mimetype": "text/x-python",
   "name": "python",
   "nbconvert_exporter": "python",
   "pygments_lexer": "ipython3",
   "version": "3.11.4"
  }
 },
 "nbformat": 4,
 "nbformat_minor": 5
}
