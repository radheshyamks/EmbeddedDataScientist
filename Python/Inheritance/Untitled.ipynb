{
 "cells": [
  {
   "cell_type": "code",
   "execution_count": 3,
   "id": "4f5751d3-55f7-4795-9b60-63fa6b099d9d",
   "metadata": {},
   "outputs": [
    {
     "name": "stdout",
     "output_type": "stream",
     "text": [
      "Object has created\n",
      "this is destructor\n",
      "x =  10\n",
      "y =  20\n",
      "Class A Class Method\n",
      "ERROR\n",
      "x =  10\n"
     ]
    }
   ],
   "source": [
    "class A(object):\n",
    "    error=''\n",
    "    def __init__(self, x,y):\n",
    "        self.x = x;\n",
    "        self.y = y;\n",
    "        print(\"Object has created\")\n",
    "    def get_x(self):\n",
    "        return self.x;\n",
    "    def get_y(self):\n",
    "        return self.y;\n",
    "    @classmethod\n",
    "    def class_A(cls):\n",
    "        print(\"Class A Class Method\")\n",
    "        cls.error = \"ERROR\"\n",
    "        cls.x = 10;\n",
    "        return cls.error;\n",
    "    def __del__(self):\n",
    "        print(\"this is destructor\")\n",
    "obj1 = A(10,20)\n",
    "print(\"x = \",obj1.get_x())\n",
    "print(\"y = \", obj1.get_y())\n",
    "print(obj1.class_A())\n",
    "print(\"x = \",obj1.get_x())"
   ]
  },
  {
   "cell_type": "code",
   "execution_count": 17,
   "id": "3f731dcd-c5c6-4a8e-9df9-336aec5cfa9c",
   "metadata": {},
   "outputs": [
    {
     "name": "stdout",
     "output_type": "stream",
     "text": [
      "object deleted\n",
      "object deleted\n",
      "10\n",
      "20\n",
      "1\n",
      "2\n",
      "1\n",
      "3\n",
      "2\n",
      "3\n"
     ]
    }
   ],
   "source": [
    "class A(object):\n",
    "    error = ''\n",
    "    def __init__(self, x):\n",
    "        A.error = 1\n",
    "        self.x = x\n",
    "    def get_x(other):\n",
    "        return other.x\n",
    "    def __del__(self):\n",
    "        print(\"object deleted\")\n",
    "obj1 = A(10)\n",
    "obj2 = A(20)\n",
    "print(obj1.get_x())\n",
    "print(obj2.get_x())\n",
    "obj1.error = 2;\n",
    "print(A.error)\n",
    "print(obj1.error)\n",
    "print(obj2.error)\n",
    "A.error = 3;\n",
    "print(A.error)\n",
    "print(obj1.error)\n",
    "print(obj2.error)"
   ]
  }
 ],
 "metadata": {
  "kernelspec": {
   "display_name": "Python 3 (ipykernel)",
   "language": "python",
   "name": "python3"
  },
  "language_info": {
   "codemirror_mode": {
    "name": "ipython",
    "version": 3
   },
   "file_extension": ".py",
   "mimetype": "text/x-python",
   "name": "python",
   "nbconvert_exporter": "python",
   "pygments_lexer": "ipython3",
   "version": "3.11.4"
  }
 },
 "nbformat": 4,
 "nbformat_minor": 5
}
