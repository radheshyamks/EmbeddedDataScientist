{
 "cells": [
  {
   "cell_type": "code",
   "execution_count": 13,
   "id": "e2301d55-de1a-4c1b-b265-92a0eae57199",
   "metadata": {},
   "outputs": [],
   "source": [
    "import scapy\n",
    "import selenium\n",
    "import bs4\n",
    "from bs4 import BeautifulSoup as bts\n",
    "import pandas as pd\n",
    "import numpy as np\n",
    "import matplotlib.pyplot as plt\n",
    "import re"
   ]
  },
  {
   "cell_type": "code",
   "execution_count": null,
   "id": "b6e9c6a8-a9fa-4cd3-b8a5-a495f7ed2cd8",
   "metadata": {},
   "outputs": [],
   "source": []
  }
 ],
 "metadata": {
  "kernelspec": {
   "display_name": "Python 3 (ipykernel)",
   "language": "python",
   "name": "python3"
  },
  "language_info": {
   "codemirror_mode": {
    "name": "ipython",
    "version": 3
   },
   "file_extension": ".py",
   "mimetype": "text/x-python",
   "name": "python",
   "nbconvert_exporter": "python",
   "pygments_lexer": "ipython3",
   "version": "3.11.4"
  }
 },
 "nbformat": 4,
 "nbformat_minor": 5
}
