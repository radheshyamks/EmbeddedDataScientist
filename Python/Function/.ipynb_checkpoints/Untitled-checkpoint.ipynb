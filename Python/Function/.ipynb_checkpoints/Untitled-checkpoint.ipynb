{
 "cells": [
  {
   "cell_type": "code",
   "execution_count": 12,
   "id": "0be049b6-2e54-45e1-9a68-30dd06ec4582",
   "metadata": {},
   "outputs": [
    {
     "name": "stdout",
     "output_type": "stream",
     "text": [
      "3\n",
      "<class 'float'>\n",
      "[   4   16   36   64  100  144  196  256  324  400  484  576  676  784\n",
      "  900 1024 1156 1296 1444 1600 1764 1936 2116 2304 2500 2704 2916 3136\n",
      " 3364 3600 3844 4096 4356 4624 4900 5184 5476 5776 6084 6400 6724 7056\n",
      " 7396 7744 8100 8464 8836 9216 9604]\n"
     ]
    }
   ],
   "source": [
    "import numpy as np\n",
    "import pandas as pd\n",
    "import matplotlib as mpl\n",
    "import matplotlib.pyplot as plt\n",
    "print(np.add(1,2))\n",
    "num = np.inf\n",
    "# print(type(num))\n",
    "# print(num)\n",
    "# print(np.log(-1.))\n",
    "arr = np.array([i**2 for i in range(1,100) if i%2==0])\n",
    "print(arr)"
   ]
  }
 ],
 "metadata": {
  "kernelspec": {
   "display_name": "Python 3 (ipykernel)",
   "language": "python",
   "name": "python3"
  },
  "language_info": {
   "codemirror_mode": {
    "name": "ipython",
    "version": 3
   },
   "file_extension": ".py",
   "mimetype": "text/x-python",
   "name": "python",
   "nbconvert_exporter": "python",
   "pygments_lexer": "ipython3",
   "version": "3.11.4"
  }
 },
 "nbformat": 4,
 "nbformat_minor": 5
}
