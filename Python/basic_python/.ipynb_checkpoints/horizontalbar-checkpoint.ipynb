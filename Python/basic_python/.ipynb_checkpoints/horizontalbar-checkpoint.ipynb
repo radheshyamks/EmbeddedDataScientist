{
 "cells": [
  {
   "cell_type": "code",
   "execution_count": 5,
   "id": "1fa1e27a-3c95-4d7d-af43-3fb5329d18de",
   "metadata": {},
   "outputs": [
    {
     "name": "stdout",
     "output_type": "stream",
     "text": [
      "\n",
      "Life is awesome.\n",
      "just live it\n",
      "\n",
      "\n",
      "Always look \n",
      "on the bright side\n",
      "of the life\n"
     ]
    }
   ],
   "source": [
    "import os\n",
    "import re\n",
    "my_str = \"\"\"\n",
    "Life is awesome.\n",
    "just live it\n",
    "\"\"\"\n",
    "print(my_str)\n",
    "bright_side = \"\"\"\n",
    "Always look \n",
    "on the bright side\n",
    "of the life\"\"\"\n",
    "print(bright_side)"
   ]
  }
 ],
 "metadata": {
  "kernelspec": {
   "display_name": "Python 3 (ipykernel)",
   "language": "python",
   "name": "python3"
  },
  "language_info": {
   "codemirror_mode": {
    "name": "ipython",
    "version": 3
   },
   "file_extension": ".py",
   "mimetype": "text/x-python",
   "name": "python",
   "nbconvert_exporter": "python",
   "pygments_lexer": "ipython3",
   "version": "3.11.4"
  }
 },
 "nbformat": 4,
 "nbformat_minor": 5
}
