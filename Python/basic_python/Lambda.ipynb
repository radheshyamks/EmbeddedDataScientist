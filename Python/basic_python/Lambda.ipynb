{
 "cells": [
  {
   "cell_type": "markdown",
   "id": "119c1f3d-b1e5-4b1b-94ac-1912fefb4162",
   "metadata": {},
   "source": [
    "# Lambda Function"
   ]
  },
  {
   "cell_type": "code",
   "execution_count": 3,
   "id": "1db17e01-7f99-44de-86df-c77ede623e06",
   "metadata": {},
   "outputs": [
    {
     "name": "stdout",
     "output_type": "stream",
     "text": [
      "sum = 5\n"
     ]
    }
   ],
   "source": [
    "add = lambda x,y:x+y\n",
    "sum = add(2,3)\n",
    "print(f'sum = {sum}')"
   ]
  },
  {
   "cell_type": "markdown",
   "id": "b1d44100-9479-4f71-abb7-c486410cad01",
   "metadata": {},
   "source": [
    "# Addition of two even number\n",
    "## if both numbers are even then it will return addition of both otherwise it will return 0"
   ]
  },
  {
   "cell_type": "code",
   "execution_count": 18,
   "id": "4fcf55a5-292d-44d3-ba10-42bddd555fc9",
   "metadata": {},
   "outputs": [
    {
     "name": "stdout",
     "output_type": "stream",
     "text": [
      "sum = 6\n"
     ]
    }
   ],
   "source": [
    "sum_add = lambda x,y: x+y if x%2==0 and y%2==0 else 0\n",
    "sum = sum_add(2,4)\n",
    "if sum:\n",
    "    print(f\"sum = {sum}\")\n",
    "else:\n",
    "    print(f'odd number')"
   ]
  }
 ],
 "metadata": {
  "kernelspec": {
   "display_name": "Python 3 (ipykernel)",
   "language": "python",
   "name": "python3"
  },
  "language_info": {
   "codemirror_mode": {
    "name": "ipython",
    "version": 3
   },
   "file_extension": ".py",
   "mimetype": "text/x-python",
   "name": "python",
   "nbconvert_exporter": "python",
   "pygments_lexer": "ipython3",
   "version": "3.11.4"
  }
 },
 "nbformat": 4,
 "nbformat_minor": 5
}
