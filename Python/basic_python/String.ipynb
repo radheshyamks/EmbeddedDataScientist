{
 "cells": [
  {
   "cell_type": "code",
   "execution_count": 1,
   "id": "2e4670fd-0d15-4710-b169-50de544cc112",
   "metadata": {},
   "outputs": [
    {
     "name": "stdout",
     "output_type": "stream",
     "text": [
      "Hello,My name is Radheshyam and my hobby is Playing Football\n"
     ]
    }
   ],
   "source": [
    "import string\n",
    "X = \"Radheshyam\"\n",
    "Y = \"Playing Football\"\n",
    "greeting_string = f'Hello,My name is {X} and my hobby is {Y}'\n",
    "print(greeting_string)"
   ]
  },
  {
   "cell_type": "code",
   "execution_count": 2,
   "id": "ac9bfad1-5301-43e6-8612-795858a65d1f",
   "metadata": {},
   "outputs": [
    {
     "name": "stdout",
     "output_type": "stream",
     "text": [
      "['Formatter', 'Template', '_ChainMap', '__all__', '__builtins__', '__cached__', '__doc__', '__file__', '__loader__', '__name__', '__package__', '__spec__', '_re', '_sentinel_dict', '_string', 'ascii_letters', 'ascii_lowercase', 'ascii_uppercase', 'capwords', 'digits', 'hexdigits', 'octdigits', 'printable', 'punctuation', 'whitespace']\n"
     ]
    }
   ],
   "source": [
    "import string\n",
    "print(dir(string))"
   ]
  },
  {
   "cell_type": "code",
   "execution_count": 4,
   "id": "8145fcb2-0b1f-4916-8e2f-a2bccb3d76e5",
   "metadata": {},
   "outputs": [
    {
     "name": "stdout",
     "output_type": "stream",
     "text": [
      "Hello,My name is Radheshyam\n",
      "and my hobby is Playing football\n"
     ]
    }
   ],
   "source": [
    "X = \"Radheshyam\"\n",
    "Y = \"Playing football\"\n",
    "greeting_string = f'Hello,My name is {X}\\nand my hobby is {Y}'\n",
    "print(greeting_string)"
   ]
  },
  {
   "cell_type": "markdown",
   "id": "9cf33709-a70f-4a43-bb08-6d116e878eb3",
   "metadata": {},
   "source": [
    "# List"
   ]
  },
  {
   "cell_type": "code",
   "execution_count": 14,
   "id": "dc001b42-08ca-4309-adae-eae6549aa76c",
   "metadata": {},
   "outputs": [
    {
     "name": "stdout",
     "output_type": "stream",
     "text": [
      "[1, 2, 3, 4, 5, 6, 7, 8, 9, 10]\n",
      "10\n",
      "[2, 3, 4]\n",
      "[1, 3]\n",
      "[1, 3, 5, 7, 9]\n",
      "[10, 9, 8, 7, 6, 5, 4, 3, 2]\n",
      "[10, 9, 8, 7, 6, 5, 4, 3, 2, 1]\n"
     ]
    }
   ],
   "source": [
    "test_list = [i for i in range(1,11)]\n",
    "print(test_list)\n",
    "print(len(test_list))\n",
    "# list slicing\n",
    "print(test_list[1:4])\n",
    "print(test_list[0:4:2])\n",
    "print(test_list[0:10:2])\n",
    "print(test_list[10:0:-1])\n",
    "# list revers\n",
    "print(test_list[::-1])"
   ]
  },
  {
   "cell_type": "markdown",
   "id": "464c8390-3201-469d-aaa5-2d9e219e9900",
   "metadata": {},
   "source": [
    "# deep copy"
   ]
  },
  {
   "cell_type": "code",
   "execution_count": 21,
   "id": "03ed7b73-8740-4a81-ab03-2ec92a08a922",
   "metadata": {},
   "outputs": [
    {
     "name": "stdout",
     "output_type": "stream",
     "text": [
      "[1, 2, 3, [4, 5], 6, 7]\n",
      "[1, 2, 3, [4, 5], 6, 7]\n",
      "[1, 2, 3, [10, 5], 6, 7]\n",
      "[1, 2, 3, [10, 5], 6, 7]\n",
      "[1, 2, 3, [10, 5], 6, 7]\n",
      "Normal list: [1, 2, 3, [10, 5], 6, 7]\n",
      "deep copied list: [1, 2, 3, [10, 20], 6, 7]\n"
     ]
    }
   ],
   "source": [
    "import copy\n",
    "test_list = [1,2,3,[4,5],6,7]\n",
    "# sallow copy\n",
    "copy_list = copy.copy(test_list)\n",
    "print(copy_list)\n",
    "print(test_list)\n",
    "copy_list[3][0]=10\n",
    "print(copy_list)\n",
    "print(test_list)\n",
    "# deep copy\n",
    "deep_list = copy.deepcopy(test_list)\n",
    "print(deep_list)\n",
    "deep_list[3][1] = 20\n",
    "print(f\"Normal list: {test_list}\")\n",
    "print(f\"deep copied list: {deep_list}\")"
   ]
  },
  {
   "cell_type": "code",
   "execution_count": 1,
   "id": "de41c59e-9ea7-40f3-94c3-f6e51af8b2b7",
   "metadata": {},
   "outputs": [
    {
     "name": "stdout",
     "output_type": "stream",
     "text": [
      "Radheshyam Singh\n"
     ]
    }
   ],
   "source": [
    "# concatinating two string\n",
    "str1 = \"Radheshyam\"\n",
    "str2 = \"Singh\"\n",
    "print(str1+\" \"+str2)"
   ]
  },
  {
   "cell_type": "code",
   "execution_count": 2,
   "id": "a90c7a33-1b56-4f65-bf40-7cc528340ac7",
   "metadata": {},
   "outputs": [
    {
     "name": "stdout",
     "output_type": "stream",
     "text": [
      "Radheshyam Kumar Singh\n"
     ]
    }
   ],
   "source": [
    "# joining a list\n",
    "list1 = [\"Radheshyam\", \"Kumar\",\"Singh\"]\n",
    "joined_str = \" \".join(list1)\n",
    "print(joined_str)"
   ]
  },
  {
   "cell_type": "code",
   "execution_count": 5,
   "id": "29bdf77d-8f9f-4d6d-9112-605b6e1e8688",
   "metadata": {},
   "outputs": [
    {
     "name": "stdout",
     "output_type": "stream",
     "text": [
      "Name title\n"
     ]
    }
   ],
   "source": [
    "# joining a dictionary\n",
    "dict1 = {\"Name\":\"Radheshyam\",\"title\": \"Kumar Singh\"}\n",
    "str1 = \" \".join(dict1.keys())\n",
    "print(str1)"
   ]
  },
  {
   "cell_type": "code",
   "execution_count": 6,
   "id": "55948b8a-a1b1-4b5b-b782-5b56c88019b2",
   "metadata": {},
   "outputs": [
    {
     "name": "stdout",
     "output_type": "stream",
     "text": [
      "Radheshyam Kumar Singh\n"
     ]
    }
   ],
   "source": [
    "# joining a dictionary\n",
    "dict1 = {\"Name\":\"Radheshyam\", \"title\": \"Kumar Singh\"}\n",
    "str1 = \" \".join(dict1.values())\n",
    "print(str1)"
   ]
  },
  {
   "cell_type": "code",
   "execution_count": null,
   "id": "a357f11c-d4f5-4ec8-8677-7320cea49e96",
   "metadata": {},
   "outputs": [],
   "source": [
    "# "
   ]
  }
 ],
 "metadata": {
  "kernelspec": {
   "display_name": "Python 3 (ipykernel)",
   "language": "python",
   "name": "python3"
  },
  "language_info": {
   "codemirror_mode": {
    "name": "ipython",
    "version": 3
   },
   "file_extension": ".py",
   "mimetype": "text/x-python",
   "name": "python",
   "nbconvert_exporter": "python",
   "pygments_lexer": "ipython3",
   "version": "3.11.4"
  }
 },
 "nbformat": 4,
 "nbformat_minor": 5
}
