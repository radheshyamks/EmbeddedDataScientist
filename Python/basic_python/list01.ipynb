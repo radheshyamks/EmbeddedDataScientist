{
 "cells": [
  {
   "cell_type": "code",
   "execution_count": 9,
   "id": "45d325c8-2682-4ae1-b43c-38d227cc9b36",
   "metadata": {},
   "outputs": [
    {
     "name": "stdout",
     "output_type": "stream",
     "text": [
      "[1, 0, 3, 5, 2, 7, 6, 8, 9]\n"
     ]
    },
    {
     "data": {
      "text/plain": [
       "9"
      ]
     },
     "execution_count": 9,
     "metadata": {},
     "output_type": "execute_result"
    }
   ],
   "source": [
    "l = [1,0,3,5,2,7,6,8,9]\n",
    "print(l)\n",
    "def less(x):\n",
    "    return 10\n",
    "max(l)"
   ]
  },
  {
   "cell_type": "code",
   "execution_count": 14,
   "id": "23242757-2c20-43a1-915b-af8b3a93142d",
   "metadata": {},
   "outputs": [
    {
     "name": "stdout",
     "output_type": "stream",
     "text": [
      "[9, 8, 7, 6, 5, 3, 2, 1, 0]\n"
     ]
    }
   ],
   "source": [
    "l = [1,0,3,5,2,7,6,8,9]\n",
    "l.sort(reverse=True)\n",
    "print(l)"
   ]
  },
  {
   "cell_type": "code",
   "execution_count": 15,
   "id": "1f2d2cf6-3056-4b76-ba0c-741eaf29cfa6",
   "metadata": {},
   "outputs": [
    {
     "name": "stdout",
     "output_type": "stream",
     "text": [
      "[0, 1, 2, 3, 5, 6, 7, 8, 9]\n"
     ]
    }
   ],
   "source": [
    "l = [1,0,3,5,2,7,6,8,9]\n",
    "l.sort(reverse=False)\n",
    "print(l)"
   ]
  },
  {
   "cell_type": "code",
   "execution_count": 17,
   "id": "fd10570e-d7fa-41bc-bcfe-cd5e8b441f15",
   "metadata": {},
   "outputs": [
    {
     "name": "stdout",
     "output_type": "stream",
     "text": [
      "[0, 1, 2, 3, 5, -6, 7, 8, -9]\n"
     ]
    }
   ],
   "source": [
    "l = [1,0,3,5,2,7,-6,8,-9]\n",
    "l.sort(key=abs,reverse=False)\n",
    "print(l)"
   ]
  },
  {
   "cell_type": "code",
   "execution_count": 26,
   "id": "eea91790-43f9-4e20-91ac-8dc95a59d851",
   "metadata": {},
   "outputs": [
    {
     "name": "stdout",
     "output_type": "stream",
     "text": [
      "[-9, -6, 0, 1, 2, 3, 5, 7, 8]\n"
     ]
    }
   ],
   "source": [
    "def _absfun_(x):\n",
    "    if x<0:\n",
    "        return -x\n",
    "    else:\n",
    "        return x\n",
    "def absfun(x):\n",
    "    if x<0:\n",
    "        return x-1\n",
    "    else:\n",
    "        return x\n",
    "l = [1,0,3,5,2,7,-6,8,-9]\n",
    "l.sort(key=absfun, reverse=False)\n",
    "print(l)"
   ]
  }
 ],
 "metadata": {
  "kernelspec": {
   "display_name": "Python 3 (ipykernel)",
   "language": "python",
   "name": "python3"
  },
  "language_info": {
   "codemirror_mode": {
    "name": "ipython",
    "version": 3
   },
   "file_extension": ".py",
   "mimetype": "text/x-python",
   "name": "python",
   "nbconvert_exporter": "python",
   "pygments_lexer": "ipython3",
   "version": "3.11.4"
  }
 },
 "nbformat": 4,
 "nbformat_minor": 5
}
