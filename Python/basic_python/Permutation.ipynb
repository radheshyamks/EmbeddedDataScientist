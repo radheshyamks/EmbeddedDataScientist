{
 "cells": [
  {
   "cell_type": "code",
   "execution_count": 7,
   "id": "b520d548-1c14-4883-a974-54ddb01a70e3",
   "metadata": {},
   "outputs": [
    {
     "name": "stdout",
     "output_type": "stream",
     "text": [
      "('E', 'H', 'C', 'S')\n",
      "('E', 'H', 'T', 'S')\n",
      "('E', 'H', 'T', 'S')\n",
      "('E', 'C', 'H', 'S')\n",
      "('E', 'C', 'T', 'S')\n",
      "('E', 'C', 'T', 'S')\n",
      "('E', 'R', 'H', 'S')\n",
      "('E', 'R', 'C', 'S')\n",
      "('E', 'R', 'T', 'S')\n",
      "('E', 'R', 'T', 'S')\n",
      "('H', 'E', 'C', 'S')\n",
      "('H', 'E', 'T', 'S')\n",
      "('H', 'E', 'T', 'S')\n",
      "('H', 'C', 'E', 'S')\n",
      "('H', 'C', 'T', 'S')\n",
      "('H', 'C', 'T', 'S')\n",
      "('H', 'R', 'E', 'S')\n",
      "('H', 'R', 'C', 'S')\n",
      "('H', 'R', 'T', 'S')\n",
      "('H', 'R', 'T', 'S')\n",
      "('C', 'E', 'H', 'S')\n",
      "('C', 'E', 'T', 'S')\n",
      "('C', 'E', 'T', 'S')\n",
      "('C', 'H', 'E', 'S')\n",
      "('C', 'H', 'T', 'S')\n",
      "('C', 'H', 'T', 'S')\n",
      "('C', 'R', 'E', 'S')\n",
      "('C', 'R', 'H', 'S')\n",
      "('C', 'R', 'T', 'S')\n",
      "('C', 'R', 'T', 'S')\n"
     ]
    }
   ],
   "source": [
    "from itertools import permutations\n",
    "perm = permutations(['E','H','C','R','T','T','S'], 4)\n",
    "for i in list(perm):\n",
    "    if i[-1]=='S' and i[0] != 'T' and i[1]!='T' and i[2]!='R' and i[0]!='R':\n",
    "        print(i)"
   ]
  },
  {
   "cell_type": "code",
   "execution_count": 5,
   "id": "7c019f98-5ecb-4ed4-a106-42d65ec59efc",
   "metadata": {},
   "outputs": [
    {
     "name": "stdout",
     "output_type": "stream",
     "text": [
      "NSBO\n",
      "NSBU\n",
      "NSOB\n",
      "NSOU\n",
      "NSUB\n",
      "NSUO\n",
      "NBSO\n",
      "NBSU\n",
      "NBOS\n",
      "NBOU\n",
      "NBUS\n",
      "NBUO\n",
      "NOSB\n",
      "NOSU\n",
      "NOBS\n",
      "NOBU\n",
      "NOUS\n",
      "NOUB\n",
      "NUSB\n",
      "NUSO\n",
      "NUBS\n",
      "NUBO\n",
      "NUOS\n",
      "NUOB\n",
      "SNBO\n",
      "SNBU\n",
      "SNOB\n",
      "SNOU\n",
      "SNUB\n",
      "SNUO\n",
      "SBNO\n",
      "SBNU\n",
      "SBON\n",
      "SBOU\n",
      "SBUN\n",
      "SBUO\n",
      "SONB\n",
      "SONU\n",
      "SOBN\n",
      "SOBU\n",
      "SOUN\n",
      "SOUB\n",
      "SUNB\n",
      "SUNO\n",
      "SUBN\n",
      "SUBO\n",
      "SUON\n",
      "SUOB\n",
      "BNSO\n",
      "BNSU\n",
      "BNOS\n",
      "BNOU\n",
      "BNUS\n",
      "BNUO\n",
      "BSNO\n",
      "BSNU\n",
      "BSON\n",
      "BSOU\n",
      "BSUN\n",
      "BSUO\n",
      "BONS\n",
      "BONU\n",
      "BOSN\n",
      "BOSU\n",
      "BOUN\n",
      "BOUS\n",
      "BUNS\n",
      "BUNO\n",
      "BUSN\n",
      "BUSO\n",
      "BUON\n",
      "BUOS\n",
      "ONSB\n",
      "ONSU\n",
      "ONBS\n",
      "ONBU\n",
      "ONUS\n",
      "ONUB\n",
      "OSNB\n",
      "OSNU\n",
      "OSBN\n",
      "OSBU\n",
      "OSUN\n",
      "OSUB\n",
      "OBNS\n",
      "OBNU\n",
      "OBSN\n",
      "OBSU\n",
      "OBUN\n",
      "OBUS\n",
      "OUNS\n",
      "OUNB\n",
      "OUSN\n",
      "OUSB\n",
      "OUBN\n",
      "OUBS\n",
      "UNSB\n",
      "UNSO\n",
      "UNBS\n",
      "UNBO\n",
      "UNOS\n",
      "UNOB\n",
      "USNB\n",
      "USNO\n",
      "USBN\n",
      "USBO\n",
      "USON\n",
      "USOB\n",
      "UBNS\n",
      "UBNO\n",
      "UBSN\n",
      "UBSO\n",
      "UBON\n",
      "UBOS\n",
      "UONS\n",
      "UONB\n",
      "UOSN\n",
      "UOSB\n",
      "UOBN\n",
      "UOBS\n"
     ]
    }
   ],
   "source": [
    "from itertools import permutations;\n",
    "perm = permutations(['N','S','B', 'O', 'U'],4)\n",
    "# print(list(perm))\n",
    "wrds=''\n",
    "for words in list(perm):\n",
    "    for word in words:\n",
    "        wrds += word\n",
    "    print(wrds)\n",
    "    wrds=''"
   ]
  },
  {
   "cell_type": "code",
   "execution_count": 9,
   "id": "1211150a-bf77-40ae-92b3-deadb891eff2",
   "metadata": {},
   "outputs": [],
   "source": [
    "from itertools import permutations\n",
    "*_, = \"ZENTCII\"\n",
    "per = _\n",
    "# # print(per)\n",
    "# perm = permutations(per, 4)\n",
    "# for word in perm:\n",
    "#     if word[-1]!='I' and word[-2]!='I':\n",
    "#         print(word)"
   ]
  },
  {
   "cell_type": "code",
   "execution_count": 18,
   "id": "bf97a76d-c0ea-406e-804a-8d3f909faa28",
   "metadata": {},
   "outputs": [],
   "source": [
    "# # import enchant\n",
    "# import enchant\n",
    "# from itertools import permutations\n",
    "# *_, = \"ZENTCII\"\n",
    "# perm  = permutations(_, 4)\n",
    "# d = enchant.dict(\"en_US\")\n",
    "# # for word"
   ]
  },
  {
   "cell_type": "code",
   "execution_count": 47,
   "id": "8262063b-72b4-47c8-b557-921ace0b860b",
   "metadata": {},
   "outputs": [],
   "source": [
    "import enchant\n",
    "# d = enchant.Dict(\"en_US\")\n",
    "# !pip install nltk\n",
    "# help(enchant)\n",
    "# dir(enchant)\n",
    "from nltk.corpus import words\n",
    "*_, = \"ZENTCII\"\n",
    "perm = permutations(_,4)\n",
    "wrd=''\n",
    "for wrd in list(perm):\n",
    "    for i in perm:\n",
    "        for item in i:\n",
    "            # global wrd\n",
    "            wrd = wrd+item\n",
    "            print(type(item))\n",
    "        if wrd in words.words():\n",
    "            print(wrd)\n",
    "        wrd = ''"
   ]
  },
  {
   "cell_type": "code",
   "execution_count": 59,
   "id": "4308d4b5-cc7b-452a-a293-748ae0fc3f2a",
   "metadata": {},
   "outputs": [],
   "source": [
    "import enchant\n",
    "# d = enchant.Dict(\"en_US\")\n",
    "# !pip install nltk\n",
    "# help(enchant)\n",
    "# dir(enchant)\n",
    "from nltk.corpus import words\n",
    "*_, = \"ZENTCII\"\n",
    "perm = permutations(_,4)\n",
    "wrd=''\n",
    "for wrd in list(perm):\n",
    "    for i in perm:\n",
    "        for item in i:\n",
    "            # global wrd\n",
    "            wrd = wrd+item\n",
    "            # print(type(item))\n",
    "        if wrd in words.words():\n",
    "            print(wrd)\n",
    "        wrd = ''"
   ]
  },
  {
   "cell_type": "code",
   "execution_count": 1,
   "id": "64070462-cb12-41e0-891f-0e1369493616",
   "metadata": {},
   "outputs": [
    {
     "name": "stdout",
     "output_type": "stream",
     "text": [
      "corpus\n"
     ]
    }
   ],
   "source": [
    "import nltk\n",
    "# print(dir(nltk))\n",
    "for item in dir(nltk):\n",
    "    if item == 'corpus':\n",
    "        print(item)\n",
    "        # for itm in item:\n",
    "        #     if itm=='words':\n",
    "        #         print(words)\n",
    "        # for itm in dir(item):\n",
    "        #     print(itm)\n",
    "    # print(type(item))\n",
    "    # print(item)"
   ]
  },
  {
   "cell_type": "code",
   "execution_count": 15,
   "id": "9906147f-7972-47ad-aefc-97a269e5a8a7",
   "metadata": {},
   "outputs": [
    {
     "name": "stdout",
     "output_type": "stream",
     "text": [
      "['__doc__', '__file__', '__loader__', '__name__', '__package__', '__path__', '__spec__']\n"
     ]
    }
   ],
   "source": [
    "import enchant as enc\n",
    "print(dir(enc))\n",
    "# enchant.list_languages()"
   ]
  },
  {
   "cell_type": "code",
   "execution_count": 17,
   "id": "50170c31-8702-4ea4-8402-4a64b4af8ee4",
   "metadata": {},
   "outputs": [
    {
     "name": "stdout",
     "output_type": "stream",
     "text": [
      "['__doc__', '__file__', '__loader__', '__name__', '__package__', '__path__', '__spec__']\n"
     ]
    }
   ],
   "source": [
    "# !pip install PyEnchant\n",
    "import enchant\n",
    "print(dir(enchant))"
   ]
  }
 ],
 "metadata": {
  "kernelspec": {
   "display_name": "Python 3 (ipykernel)",
   "language": "python",
   "name": "python3"
  },
  "language_info": {
   "codemirror_mode": {
    "name": "ipython",
    "version": 3
   },
   "file_extension": ".py",
   "mimetype": "text/x-python",
   "name": "python",
   "nbconvert_exporter": "python",
   "pygments_lexer": "ipython3",
   "version": "3.11.4"
  }
 },
 "nbformat": 4,
 "nbformat_minor": 5
}
