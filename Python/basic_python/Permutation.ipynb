{
 "cells": [
  {
   "cell_type": "code",
   "execution_count": 1,
   "id": "b520d548-1c14-4883-a974-54ddb01a70e3",
   "metadata": {},
   "outputs": [],
   "source": [
    "# from itertools import permutations\n",
    "# perm = permutations(['E','H','C','R','T','T','S'], 4)\n",
    "# for i in list(perm):\n",
    "#     if i[-1]=='S' and i[0] != 'T' and i[1]!='T' and i[2]!='R' and i[0]!='R':\n",
    "#         print(i)"
   ]
  },
  {
   "cell_type": "code",
   "execution_count": 2,
   "id": "7c019f98-5ecb-4ed4-a106-42d65ec59efc",
   "metadata": {},
   "outputs": [],
   "source": [
    "# from itertools import permutations;\n",
    "# perm = permutations(['N','S','B', 'O', 'U'],4)\n",
    "# # print(list(perm))\n",
    "# wrds=''\n",
    "# for words in list(perm):\n",
    "#     for word in words:\n",
    "#         wrds += word\n",
    "#     print(wrds)\n",
    "#     wrds=''"
   ]
  },
  {
   "cell_type": "code",
   "execution_count": 9,
   "id": "1211150a-bf77-40ae-92b3-deadb891eff2",
   "metadata": {},
   "outputs": [],
   "source": [
    "from itertools import permutations\n",
    "*_, = \"ZENTCII\"\n",
    "per = _\n",
    "# # print(per)\n",
    "# perm = permutations(per, 4)\n",
    "# for word in perm:\n",
    "#     if word[-1]!='I' and word[-2]!='I':\n",
    "#         print(word)"
   ]
  },
  {
   "cell_type": "code",
   "execution_count": 18,
   "id": "bf97a76d-c0ea-406e-804a-8d3f909faa28",
   "metadata": {},
   "outputs": [],
   "source": [
    "# # import enchant\n",
    "# import enchant\n",
    "# from itertools import permutations\n",
    "# *_, = \"ZENTCII\"\n",
    "# perm  = permutations(_, 4)\n",
    "# d = enchant.dict(\"en_US\")\n",
    "# # for word"
   ]
  },
  {
   "cell_type": "code",
   "execution_count": 47,
   "id": "8262063b-72b4-47c8-b557-921ace0b860b",
   "metadata": {},
   "outputs": [],
   "source": [
    "import enchant\n",
    "# d = enchant.Dict(\"en_US\")\n",
    "# !pip install nltk\n",
    "# help(enchant)\n",
    "# dir(enchant)\n",
    "from nltk.corpus import words\n",
    "*_, = \"ZENTCII\"\n",
    "perm = permutations(_,4)\n",
    "wrd=''\n",
    "for wrd in list(perm):\n",
    "    for i in perm:\n",
    "        for item in i:\n",
    "            # global wrd\n",
    "            wrd = wrd+item\n",
    "            print(type(item))\n",
    "        if wrd in words.words():\n",
    "            print(wrd)\n",
    "        wrd = ''"
   ]
  },
  {
   "cell_type": "code",
   "execution_count": 59,
   "id": "4308d4b5-cc7b-452a-a293-748ae0fc3f2a",
   "metadata": {},
   "outputs": [],
   "source": [
    "import enchant\n",
    "# d = enchant.Dict(\"en_US\")\n",
    "# !pip install nltk\n",
    "# help(enchant)\n",
    "# dir(enchant)\n",
    "from nltk.corpus import words\n",
    "*_, = \"ZENTCII\"\n",
    "perm = permutations(_,4)\n",
    "wrd=''\n",
    "for wrd in list(perm):\n",
    "    for i in perm:\n",
    "        for item in i:\n",
    "            # global wrd\n",
    "            wrd = wrd+item\n",
    "            # print(type(item))\n",
    "        if wrd in words.words():\n",
    "            print(wrd)\n",
    "        wrd = ''"
   ]
  },
  {
   "cell_type": "code",
   "execution_count": 1,
   "id": "64070462-cb12-41e0-891f-0e1369493616",
   "metadata": {},
   "outputs": [
    {
     "name": "stdout",
     "output_type": "stream",
     "text": [
      "corpus\n"
     ]
    }
   ],
   "source": [
    "import nltk\n",
    "# print(dir(nltk))\n",
    "for item in dir(nltk):\n",
    "    if item == 'corpus':\n",
    "        print(item)\n",
    "        # for itm in item:\n",
    "        #     if itm=='words':\n",
    "        #         print(words)\n",
    "        # for itm in dir(item):\n",
    "        #     print(itm)\n",
    "    # print(type(item))\n",
    "    # print(item)"
   ]
  },
  {
   "cell_type": "code",
   "execution_count": 15,
   "id": "9906147f-7972-47ad-aefc-97a269e5a8a7",
   "metadata": {},
   "outputs": [
    {
     "name": "stdout",
     "output_type": "stream",
     "text": [
      "['__doc__', '__file__', '__loader__', '__name__', '__package__', '__path__', '__spec__']\n"
     ]
    }
   ],
   "source": [
    "import enchant as enc\n",
    "print(dir(enc))\n",
    "# enchant.list_languages()"
   ]
  },
  {
   "cell_type": "code",
   "execution_count": 17,
   "id": "50170c31-8702-4ea4-8402-4a64b4af8ee4",
   "metadata": {},
   "outputs": [
    {
     "name": "stdout",
     "output_type": "stream",
     "text": [
      "['__doc__', '__file__', '__loader__', '__name__', '__package__', '__path__', '__spec__']\n"
     ]
    }
   ],
   "source": [
    "# !pip install PyEnchant\n",
    "import enchant\n",
    "print(dir(enchant))"
   ]
  },
  {
   "cell_type": "code",
   "execution_count": 21,
   "id": "f87c117b-3695-4a3d-9f89-414f013ea44d",
   "metadata": {},
   "outputs": [
    {
     "name": "stdout",
     "output_type": "stream",
     "text": [
      "trio\n",
      "iris\n",
      "stir\n",
      "sort\n",
      "sori\n",
      "riot\n",
      "rist\n",
      "roit\n"
     ]
    }
   ],
   "source": [
    "from itertools import permutations as prm\n",
    "from nltk.corpus import words\n",
    "eng_word = set(words.words())\n",
    "*_, = \"tiovisr\"\n",
    "# print(_)\n",
    "uniq_wrd=[]\n",
    "prmt = prm(_,4)\n",
    "def is_engwords(wrd):\n",
    "    return wrd in eng_word\n",
    "for i in list(prmt):\n",
    "    # print(i)\n",
    "    wrd=''\n",
    "    for item in i:\n",
    "        wrd+=item\n",
    "    # print(wrd)\n",
    "    if (wrd not in uniq_wrd) and is_engwords(wrd):\n",
    "        print(wrd)\n",
    "        uniq_wrd.append(wrd)"
   ]
  }
 ],
 "metadata": {
  "kernelspec": {
   "display_name": "Python 3 (ipykernel)",
   "language": "python",
   "name": "python3"
  },
  "language_info": {
   "codemirror_mode": {
    "name": "ipython",
    "version": 3
   },
   "file_extension": ".py",
   "mimetype": "text/x-python",
   "name": "python",
   "nbconvert_exporter": "python",
   "pygments_lexer": "ipython3",
   "version": "3.11.4"
  }
 },
 "nbformat": 4,
 "nbformat_minor": 5
}
