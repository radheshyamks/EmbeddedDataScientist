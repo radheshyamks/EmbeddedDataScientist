{
 "cells": [
  {
   "cell_type": "code",
   "execution_count": 1,
   "id": "2237d20b-6ac5-4e59-a886-e438dc1a93d4",
   "metadata": {},
   "outputs": [
    {
     "name": "stdout",
     "output_type": "stream",
     "text": [
      "{'Name': 'Radheshyam', 'title': 'Kumar'}\n"
     ]
    }
   ],
   "source": [
    "# dictionary\n",
    "dict1 = dict({\"Name\":\"Radheshyam\",\"title\":\"Kumar\"})\n",
    "print(dict1)"
   ]
  },
  {
   "cell_type": "code",
   "execution_count": 2,
   "id": "dc962976-9e02-4f07-b33a-1c1acbd31021",
   "metadata": {},
   "outputs": [
    {
     "name": "stdout",
     "output_type": "stream",
     "text": [
      "{'Name': 'Radheshyam', 'title': 'Kumar Singh'}\n"
     ]
    }
   ],
   "source": [
    "dict1 = dict(Name=\"Radheshyam\", title=\"Kumar Singh\")\n",
    "print(dict1)"
   ]
  },
  {
   "cell_type": "code",
   "execution_count": 3,
   "id": "0f4fb3d9-1633-4d9d-8bba-a757c3f03ec3",
   "metadata": {},
   "outputs": [
    {
     "name": "stdout",
     "output_type": "stream",
     "text": [
      "{'Name': 'Radheshyam', 'title': 'Kumar Singh', 'country': 'Bharat'}\n"
     ]
    }
   ],
   "source": [
    "dict1 = dict(Name=\"Radheshyam\", title=\"Kumar Singh\", country=\"Bharat\")\n",
    "print(dict1)"
   ]
  },
  {
   "cell_type": "code",
   "execution_count": 4,
   "id": "3960106d-2812-44ac-a95f-e33c5d2d9cb2",
   "metadata": {},
   "outputs": [
    {
     "name": "stdout",
     "output_type": "stream",
     "text": [
      "Radheshyam\n"
     ]
    }
   ],
   "source": [
    "dict1 = dict(Name=\"Radheshyam\", title=\"Kumar Singh\", country=\"Bharat\")\n",
    "print(dict1['Name'])"
   ]
  },
  {
   "cell_type": "code",
   "execution_count": 13,
   "id": "b4d2cfed-97e2-4438-9d59-a1ec9f5d8379",
   "metadata": {},
   "outputs": [
    {
     "name": "stdout",
     "output_type": "stream",
     "text": [
      "Radheshyam\n",
      "None\n"
     ]
    }
   ],
   "source": [
    "dict1 = dict(Name=\"Radheshyam\", title=\"Kumar Singh\", country=\"Bharat\")\n",
    "# it will fetch the value of binding\n",
    "# dictionary.get(keyname, value)\n",
    "print(dict1.get('Name'))\n",
    "# if the key does not exist then it will give None\n",
    "print(dict1.get('age'))\n",
    "# it will throw an error because the key 'age' does not exist\n",
    "# print(dict1['age'])"
   ]
  },
  {
   "cell_type": "code",
   "execution_count": 12,
   "id": "800f48b9-d1c5-44b8-8bc1-d6f54101a3f8",
   "metadata": {},
   "outputs": [
    {
     "name": "stdout",
     "output_type": "stream",
     "text": [
      "Help on built-in function pop:\n",
      "\n",
      "pop(...) method of builtins.dict instance\n",
      "    D.pop(k[,d]) -> v, remove specified key and return the corresponding value.\n",
      "    \n",
      "    If the key is not found, return the default if given; otherwise,\n",
      "    raise a KeyError.\n",
      "\n",
      "None\n",
      "Bharat\n"
     ]
    }
   ],
   "source": [
    "dict1 = dict(name=\"Radheshyam\", title=\"kumar singh\", country=\"Bharat\",age=32)\n",
    "# dictionary.pop(keyname, defaultvalue)\n",
    "print(help(dict1.pop))\n",
    "print(dict1.pop('country'))"
   ]
  },
  {
   "cell_type": "code",
   "execution_count": 16,
   "id": "e11882b9-afc7-456f-9dcb-e6454684f5bd",
   "metadata": {},
   "outputs": [
    {
     "name": "stdout",
     "output_type": "stream",
     "text": [
      "32\n",
      "Mitwar\n"
     ]
    }
   ],
   "source": [
    "dict1 = dict(name=\"Radheshyam\",title=\"kumar singh\", country=\"Bharat\",age=32)\n",
    "print(dict1.pop('age', 23))\n",
    "# the key 'vill' is not exsting hence it will return the given default value ('Mitwar')\n",
    "print(dict1.pop('vill','Mitwar'))"
   ]
  },
  {
   "cell_type": "code",
   "execution_count": 18,
   "id": "a14c05ff-c445-44c4-be18-dbe1919ad669",
   "metadata": {},
   "outputs": [
    {
     "name": "stdout",
     "output_type": "stream",
     "text": [
      "{}\n"
     ]
    }
   ],
   "source": [
    "dict1 = dict(name=\"Radheshyam\", title=\"kumar singh\", country=\"Bharat\", age=30)\n",
    "# it will clear the dictionary\n",
    "dict1.clear()\n",
    "print(dict1)"
   ]
  },
  {
   "cell_type": "code",
   "execution_count": 20,
   "id": "878324fa-4674-4588-89ad-a3e7ab6300b7",
   "metadata": {},
   "outputs": [
    {
     "name": "stdout",
     "output_type": "stream",
     "text": [
      "{'name': 'Radheshyam', 'title': 'kumar singh', 'country': 'Bharat', 'age': 31}\n"
     ]
    }
   ],
   "source": [
    "dict1 = dict(name='Radheshyam', title='kumar singh', country=\"Bharat\", age=31)\n",
    "# it will creat another of of the dictionary dict1\n",
    "dict2 = dict1.copy()\n",
    "print(dict2)"
   ]
  },
  {
   "cell_type": "code",
   "execution_count": 28,
   "id": "a6316501-5633-40da-afe8-8c8559a764a1",
   "metadata": {},
   "outputs": [
    {
     "name": "stdout",
     "output_type": "stream",
     "text": [
      "{'n': 'Shyam Singh'}\n",
      "{'n': 'Shyam', 'a': 'Shyam', 'm': 'Shyam', 'e': 'Shyam'}\n"
     ]
    }
   ],
   "source": [
    "dict1 = dict(name='Radheshyam', title='kumar singh', country=\"Bharat\", age=31)\n",
    "# dict.fromkeys(keys, value)\n",
    "print(dict1.fromkeys('n', 'Shyam Singh'))\n",
    "print(dict1.fromkeys('name', 'Shyam'))"
   ]
  }
 ],
 "metadata": {
  "kernelspec": {
   "display_name": "Python 3 (ipykernel)",
   "language": "python",
   "name": "python3"
  },
  "language_info": {
   "codemirror_mode": {
    "name": "ipython",
    "version": 3
   },
   "file_extension": ".py",
   "mimetype": "text/x-python",
   "name": "python",
   "nbconvert_exporter": "python",
   "pygments_lexer": "ipython3",
   "version": "3.11.4"
  }
 },
 "nbformat": 4,
 "nbformat_minor": 5
}
