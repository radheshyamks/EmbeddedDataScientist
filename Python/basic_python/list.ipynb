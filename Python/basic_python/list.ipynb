{
 "cells": [
  {
   "cell_type": "markdown",
   "id": "faf5c684-d887-4142-b691-f475eadd8aea",
   "metadata": {},
   "source": [
    "# List"
   ]
  },
  {
   "cell_type": "code",
   "execution_count": 6,
   "id": "cb58a768-57fa-4f2d-a864-3614bf5be07a",
   "metadata": {},
   "outputs": [
    {
     "name": "stdout",
     "output_type": "stream",
     "text": [
      "[1, 2, 3, 1, 2, 3, 1, 2, 3]\n"
     ]
    }
   ],
   "source": [
    "l = [1,2,3]\n",
    "y = l*3\n",
    "# y = [1,2,3]*3\n",
    "# y[0][0]=10\n",
    "print(y)"
   ]
  },
  {
   "cell_type": "markdown",
   "id": "dc888fca-fc1e-4597-a1fc-e945785908ab",
   "metadata": {},
   "source": [
    "# List Comprehension"
   ]
  },
  {
   "cell_type": "code",
   "execution_count": 23,
   "id": "19d9ce27-a090-46c1-b15b-34871ad0eb3e",
   "metadata": {},
   "outputs": [
    {
     "name": "stdout",
     "output_type": "stream",
     "text": [
      "hello\n",
      "8\n",
      "55\n"
     ]
    }
   ],
   "source": [
    "import pandas as pd;\n",
    "import numpy as np;\n",
    "import matplotlib as mlp;\n",
    "import string\n",
    "import sys;\n",
    "import re;\n",
    "import os;\n",
    "import pathlib\n",
    "import random\n",
    "import seaborn\n",
    "import calendar\n",
    "print(\"hello\")\n",
    "a,b,c=1,2,(3,5)\n",
    "# sum method takes iterable\n",
    "l = [i for i in range(0,11)]\n",
    "d = sum(c)\n",
    "e = sum(l)\n",
    "print(d)\n",
    "print(e)"
   ]
  },
  {
   "cell_type": "code",
   "execution_count": 27,
   "id": "a4bdd89b-cb1d-4b54-ae46-3220f3e499e6",
   "metadata": {},
   "outputs": [
    {
     "name": "stdout",
     "output_type": "stream",
     "text": [
      "Enter the number range\n"
     ]
    },
    {
     "name": "stdin",
     "output_type": "stream",
     "text": [
      "First number:  10\n",
      "Last number:  5\n"
     ]
    },
    {
     "name": "stdout",
     "output_type": "stream",
     "text": [
      "num1= 5, num2 = 10\n",
      "rand number:  7\n"
     ]
    }
   ],
   "source": [
    "import sys;\n",
    "import os;\n",
    "import string\n",
    "import pathlib\n",
    "import random\n",
    "import calendar\n",
    "# Guessing a number\n",
    "print(\"Enter the number range\")\n",
    "num1 = int(input(\"First number: \"))\n",
    "num2 = int(input(\"Last number: \"))\n",
    "if num1>num2:\n",
    "    tmp = num1\n",
    "    num1 = num2\n",
    "    num2 = tmp\n",
    "print(f'num1= {num1}, num2 = {num2}')\n",
    "# print('rand number: ',random.randrange(num1,num2))\n",
    "guess_num"
   ]
  }
 ],
 "metadata": {
  "kernelspec": {
   "display_name": "Python 3 (ipykernel)",
   "language": "python",
   "name": "python3"
  },
  "language_info": {
   "codemirror_mode": {
    "name": "ipython",
    "version": 3
   },
   "file_extension": ".py",
   "mimetype": "text/x-python",
   "name": "python",
   "nbconvert_exporter": "python",
   "pygments_lexer": "ipython3",
   "version": "3.11.4"
  }
 },
 "nbformat": 4,
 "nbformat_minor": 5
}
