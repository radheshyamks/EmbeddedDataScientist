{
 "cells": [
  {
   "cell_type": "code",
   "execution_count": 2,
   "id": "715211e5-7299-4787-814a-ffd36996610e",
   "metadata": {},
   "outputs": [],
   "source": [
    "# import glob\n",
    "# print(\"Hello, world\")\n",
    "# print(help(glob))"
   ]
  },
  {
   "cell_type": "code",
   "execution_count": 1,
   "id": "c4781e34-de65-468d-908e-5df315f57189",
   "metadata": {},
   "outputs": [],
   "source": [
    "import re\n",
    "# txt = \"The rain in Spain\"\n",
    "# x = re.search(\"^The.*Spain$\", txt)\n",
    "# print(x)\n",
    "# print(help(x))"
   ]
  },
  {
   "cell_type": "code",
   "execution_count": 84,
   "id": "e3709ecd-0765-4b23-873d-78810deb04a2",
   "metadata": {},
   "outputs": [],
   "source": [
    "import re;\n",
    "# some special character in text\n",
    "# . ^ $ * + ? { } [ ] \\ | ( )\n",
    "# . --> match any character except new line\n",
    "# + --> match one or more time\n",
    "# * --> match zero or more time\n",
    "# ? --> match once or zero time\n",
    "# {} --> 'a/{1,3}b' --> it will match either a/b or a//b or a///b; 'a/{2}b' --> it will match exactly with a//b\n",
    "# {m,n} --> where m is lower bound and n is upper bound\n",
    "# {0,} --> that means *; {0,1} --> that means ?; {1,} --> that means +\n",
    "# [] --> use for match character, can be use for match range of character using -, ex: [abc] it will match a,b,c or [a-c] it will work same\n",
    "# [akm$] --> it will match a,k,m or $; [5^] --> it will match 5 or ^; [^5] --> it will match except 5\n",
    "# \\d --> Matches any decimal digit; this is equivalent to the class [0-9].\n",
    "# \\D --> Matches any non-digit character; this is equivalent to the class [^0-9].\n",
    "# \\s --> Matches any whitespace character; this is equivalent to the class [ \\t\\n\\r\\f\\v].\n",
    "# \\S --> Matches any non-whitespace character; this is equivalent to the class [^ \\t\\n\\r\\f\\v].\n",
    "# \\w --> Matches any alphanumeric character; this is equivalent to the class [a-zA-Z0-9_].\n",
    "# \\W --> Matches any non-alphanumeric character; this is equivalent to the class [^a-zA-Z0-9_].\n",
    "# hese sequences can be included inside a character class.\n",
    "# For example, [\\s,.] is a character class that will match any whitespace character, or ',' or '.'.\n",
    "# \\A --> Matches only at the start of the string. When not in MULTILINE mode, \\A and ^ are \n",
    "# effectively the same. In MULTILINE mode, they’re different: \\A still matches only at the beginning of the string, \n",
    "# but ^ may match at any location inside the string that follows a newline character.\n",
    "# \\Z --> Matches only at the end of the string."
   ]
  },
  {
   "cell_type": "code",
   "execution_count": 6,
   "id": "142b4e7d-c976-4061-a705-3ff55d7254af",
   "metadata": {},
   "outputs": [
    {
     "name": "stdout",
     "output_type": "stream",
     "text": [
      "re.compile('ab*')\n",
      "None\n"
     ]
    }
   ],
   "source": [
    "import re\n",
    "# p = re.compile('ab*', re.IGNORECASE)\n",
    "# match() --> Determine if the RE matches at the beginning of the string.\n",
    "# search() --> Scan through a string, looking for any location where this RE matches.\n",
    "# findall() --> Find all substrings where the RE matches, and returns them as a list.\n",
    "# finditer() --> Find all substrings where the RE matches, and returns them as an iterator.\n",
    "txt = \"Radheshyam is a absolutely good guy\"\n",
    "r = re.compile('ab*')\n",
    "print(r)\n",
    "print(r.match(''))"
   ]
  },
  {
   "cell_type": "code",
   "execution_count": 16,
   "id": "1ffed83c-0acc-4068-b2c7-514d79d83cc8",
   "metadata": {},
   "outputs": [
    {
     "name": "stdout",
     "output_type": "stream",
     "text": [
      "<re.Match object; span=(0, 5), match='tempo'>\n",
      "0\n",
      "5\n",
      "tempo\n",
      "(0, 5)\n"
     ]
    }
   ],
   "source": [
    "import re;\n",
    "txt = \"radheshyam is a abolutely good guy\"\n",
    "r  = re.compile('[a-z]+')\n",
    "# match() --> Determine if the RE matches at the beginning of the string.\n",
    "# match object having methods\n",
    "# group() --> Return the string matched by the RE\n",
    "# start() --> Return the starting position of the match\n",
    "# end() --> Return the ending position of the match\n",
    "# span() --> Return a tuple containing the (start, end) positions of the match\n",
    "res = r.match('tempo')\n",
    "print(res)\n",
    "print(res.start())\n",
    "print(res.end())\n",
    "print(res.group())\n",
    "print(res.span())"
   ]
  },
  {
   "cell_type": "code",
   "execution_count": 1,
   "id": "5fa5d799-315b-4220-98a7-286e1e13bb29",
   "metadata": {},
   "outputs": [
    {
     "name": "stdout",
     "output_type": "stream",
     "text": [
      "None\n"
     ]
    }
   ],
   "source": [
    "import re\n",
    "txt = \"radheshyam is a absolutely good guy\"\n",
    "r = re.compile('[a-z]+')\n",
    "print(r.match('::: message'))"
   ]
  },
  {
   "cell_type": "code",
   "execution_count": 3,
   "id": "817d7e4d-add8-4d21-82ea-6acbe9aa4123",
   "metadata": {},
   "outputs": [
    {
     "name": "stdout",
     "output_type": "stream",
     "text": [
      "<re.Match object; span=(4, 11), match='message'>\n"
     ]
    }
   ],
   "source": [
    "import re;\n",
    "txt = \"radheshyam is a absolutely good guy\"\n",
    "r = re.compile('[a-z]+')\n",
    "r = r.search('::: message')\n",
    "print(r)"
   ]
  },
  {
   "cell_type": "code",
   "execution_count": 5,
   "id": "ddcaff77-1ddb-4799-b680-ca5ebb6bf71f",
   "metadata": {},
   "outputs": [
    {
     "name": "stdout",
     "output_type": "stream",
     "text": [
      "radheshyam\n"
     ]
    }
   ],
   "source": [
    "import re\n",
    "txt = \"radheshyam is a absolutely good guy\"\n",
    "print(re.compile('[a-z]+').match(txt).group())"
   ]
  },
  {
   "cell_type": "code",
   "execution_count": 8,
   "id": "f655f9b2-bdc5-4859-a1fa-2da84ac295c9",
   "metadata": {},
   "outputs": [
    {
     "name": "stdout",
     "output_type": "stream",
     "text": [
      "absolutely\n"
     ]
    }
   ],
   "source": [
    "import re\n",
    "txt = \"radheshyam is a absolutely good guy\"\n",
    "m = re.compile('ab[a-z]+')\n",
    "print(m.search(txt).group())"
   ]
  },
  {
   "cell_type": "code",
   "execution_count": 9,
   "id": "d2679f17-769d-473f-9c49-f56a45b9dc90",
   "metadata": {},
   "outputs": [
    {
     "name": "stdout",
     "output_type": "stream",
     "text": [
      "good\n"
     ]
    }
   ],
   "source": [
    "import re;\n",
    "txt = 'radheshyam is a absolutely good guy'\n",
    "print(re.compile('go{1,2}d').search(txt).group())"
   ]
  },
  {
   "cell_type": "code",
   "execution_count": 16,
   "id": "84872f2a-2d4e-4453-8e5c-ae7c7f000b88",
   "metadata": {},
   "outputs": [
    {
     "name": "stdout",
     "output_type": "stream",
     "text": [
      "absolutely\n"
     ]
    }
   ],
   "source": [
    "import re;\n",
    "txt = 'radheshyam is a absolutely good guy'\n",
    "print(re.compile('[a-z]+so[a-z]{0,}').search(txt).group())"
   ]
  },
  {
   "cell_type": "code",
   "execution_count": 19,
   "id": "56a2bcc2-2020-4dee-bbd0-9713ac3476fb",
   "metadata": {},
   "outputs": [
    {
     "name": "stdout",
     "output_type": "stream",
     "text": [
      "Match found:  string\n"
     ]
    }
   ],
   "source": [
    "import re\n",
    "p = re.compile('[a-z]{0,}')\n",
    "m = p.match('string goes here')\n",
    "if m:\n",
    "    print('Match found: ', m.group())\n",
    "else:\n",
    "    print('No match')"
   ]
  },
  {
   "cell_type": "code",
   "execution_count": 26,
   "id": "f9a86437-328d-4766-989e-04df44d61ead",
   "metadata": {},
   "outputs": [
    {
     "name": "stdout",
     "output_type": "stream",
     "text": [
      "['radheshyam', 'a', 'absolutely']\n",
      "radheshyam\n",
      "a\n",
      "absolutely\n"
     ]
    }
   ],
   "source": [
    "import re;\n",
    "# findall() --> method will return a list\n",
    "txt = 'radheshyam is a absolutely good guy'\n",
    "r = re.compile('[a-z]{0,}a[a-z]{0,}')\n",
    "res = r.findall(txt)\n",
    "print(res)\n",
    "for match in res:\n",
    "    print(match)"
   ]
  },
  {
   "cell_type": "code",
   "execution_count": 30,
   "id": "9f66aaca-3f31-4a50-97c5-2fda0ffaa1f2",
   "metadata": {},
   "outputs": [
    {
     "name": "stdout",
     "output_type": "stream",
     "text": [
      "['radheshyam', 'a', 'absolutely']\n"
     ]
    }
   ],
   "source": [
    "import re;\n",
    "import re;\n",
    "txt = 'radheshyam is a absolutely good guy';\n",
    "print(re.compile('[a-z]{0,}a[a-z]{0,}').findall(txt))"
   ]
  },
  {
   "cell_type": "code",
   "execution_count": 37,
   "id": "e0b86d2d-9f5b-488d-8742-11873989ff9f",
   "metadata": {},
   "outputs": [
    {
     "name": "stdout",
     "output_type": "stream",
     "text": [
      "None\n",
      "<re.Match object; span=(0, 5), match='From '>\n"
     ]
    }
   ],
   "source": [
    "import re;\n",
    "print(re.match(r'From\\s+', 'Fromage amk'))\n",
    "print(re.match(r'From\\s+', 'From amk Thu May 14 19:12:10 1998'))"
   ]
  },
  {
   "cell_type": "code",
   "execution_count": 36,
   "id": "c40234fc-270d-4773-a3ee-a17dac7956d4",
   "metadata": {},
   "outputs": [
    {
     "name": "stdout",
     "output_type": "stream",
     "text": [
      "<callable_iterator object at 0x0000021E1729BF40>\n",
      "<re.Match object; span=(0, 2), match='12'>\n",
      "12\n",
      "<re.Match object; span=(22, 24), match='11'>\n",
      "11\n",
      "<re.Match object; span=(29, 31), match='10'>\n",
      "10\n"
     ]
    }
   ],
   "source": [
    "import re;\n",
    "p = re.compile(r'\\d+')\n",
    "iterator = p.finditer('12 drummers drumming, 11 ... 10 ...')\n",
    "print(iterator)\n",
    "for match in iterator:\n",
    "    print(match)\n",
    "    print(match.group())"
   ]
  },
  {
   "cell_type": "code",
   "execution_count": 39,
   "id": "85b7feb0-1cc1-4f7f-8555-3b0cddcd194f",
   "metadata": {},
   "outputs": [
    {
     "name": "stdout",
     "output_type": "stream",
     "text": [
      "re.compile('\\n &[#]                # Start of a numeric entity reference\\n (\\n     0[0-7]+         # Octal form\\n   | [0-9]+          # Decimal form\\n   | x[0-9a-fA-F]+   # Hexadecimal form\\n )\\n ;              , re.VERBOSE)\n"
     ]
    }
   ],
   "source": [
    "import re\n",
    "charref = re.compile(r\"\"\"\n",
    " &[#]                # Start of a numeric entity reference\n",
    " (\n",
    "     0[0-7]+         # Octal form\n",
    "   | [0-9]+          # Decimal form\n",
    "   | x[0-9a-fA-F]+   # Hexadecimal form\n",
    " )\n",
    " ;                   # Trailing semicolon\n",
    "\"\"\", re.VERBOSE)\n",
    "print(charref)"
   ]
  },
  {
   "cell_type": "code",
   "execution_count": 42,
   "id": "16b3c957-a39c-49d0-a6f0-a9d330e7e2f5",
   "metadata": {},
   "outputs": [
    {
     "name": "stdout",
     "output_type": "stream",
     "text": [
      "<re.Match object; span=(0, 4), match='From'>\n",
      "From\n"
     ]
    }
   ],
   "source": [
    "import re\n",
    "print(re.search('^From', 'From Here to Eternity'))\n",
    "print(re.search('^From', 'From Here to Eternity').group())"
   ]
  },
  {
   "cell_type": "code",
   "execution_count": 44,
   "id": "ee52a090-a80d-4274-a530-f19610ff2a9d",
   "metadata": {},
   "outputs": [
    {
     "name": "stdout",
     "output_type": "stream",
     "text": [
      "None\n"
     ]
    }
   ],
   "source": [
    "import re\n",
    "# it will search at very begining of the txt or string\n",
    "print(re.search('^From', 'Reciting From Memory'))"
   ]
  },
  {
   "cell_type": "code",
   "execution_count": 51,
   "id": "94576553-253d-4122-ba30-f99490c54075",
   "metadata": {},
   "outputs": [
    {
     "name": "stdout",
     "output_type": "stream",
     "text": [
      "<re.Match object; span=(6, 7), match='}'>\n",
      "}\n",
      "None\n",
      "<re.Match object; span=(6, 7), match='}'>\n",
      "}\n"
     ]
    }
   ],
   "source": [
    "import re;\n",
    "print(re.search('}$', '{block}'))\n",
    "print(re.search('}$', '{block}').group())\n",
    "# at the end of the string there is blank space\n",
    "print(re.search('}$', '{block} '))\n",
    "print(re.search('}$', '{block}\\n'))\n",
    "print(re.search('}$', '{block}\\n').group())"
   ]
  },
  {
   "cell_type": "code",
   "execution_count": 52,
   "id": "d6388ec5-3048-4ad7-a24b-9419b6562073",
   "metadata": {},
   "outputs": [
    {
     "name": "stdout",
     "output_type": "stream",
     "text": [
      "<re.Match object; span=(3, 8), match='class'>\n",
      "None\n",
      "None\n"
     ]
    }
   ],
   "source": [
    "import re;\n",
    "p = re.compile(r'\\bclass\\b')\n",
    "print(p.search('no class at all'))\n",
    "print(p.search('the declassified algorithm'))\n",
    "print(p.search('one subclass is'))"
   ]
  },
  {
   "cell_type": "code",
   "execution_count": 54,
   "id": "6de4769f-fb57-49d9-9adc-59a10768e513",
   "metadata": {},
   "outputs": [
    {
     "name": "stdout",
     "output_type": "stream",
     "text": [
      "None\n",
      "<re.Match object; span=(0, 7), match='\\x08class\\x08'>\n"
     ]
    }
   ],
   "source": [
    "# There are two subtleties you should remember when using this special sequence. First, \n",
    "# this is the worst collision between Python’s string literals and regular expression sequences.\n",
    "# In Python’s string literals, \\b is the backspace character, ASCII value 8. \n",
    "# If you’re not using raw strings, then Python will convert the \\b to a backspace, and your RE won’t match as you expect it to. \n",
    "# The following example looks the same as our previous RE, but omits the 'r' in front of the RE string.\n",
    "import re;\n",
    "p = re.compile('\\bclass\\b')\n",
    "print(p.search('no class at all'))\n",
    "print(p.search('\\b' + 'class' + '\\b'))"
   ]
  },
  {
   "cell_type": "markdown",
   "id": "c0c48b28-6529-4226-a8ed-23154924a53b",
   "metadata": {},
   "source": [
    "# Grouping"
   ]
  },
  {
   "cell_type": "code",
   "execution_count": 56,
   "id": "02e3b69b-e95b-42c8-ac12-f3269a29cc58",
   "metadata": {},
   "outputs": [
    {
     "name": "stdout",
     "output_type": "stream",
     "text": [
      "(0, 10)\n"
     ]
    }
   ],
   "source": [
    "import re\n",
    "# () --> this can be handled by writing a regular expression which matches an entire header line, \n",
    "# and has one group which matches the header name, and another group which matches the header’s value.\n",
    "p = re.compile('(ab)*')\n",
    "# match will capture first and last match only\n",
    "print(p.match('ababababab').span())"
   ]
  },
  {
   "cell_type": "code",
   "execution_count": 64,
   "id": "ce8ef26d-9a57-4ae8-a887-a3e409a1541f",
   "metadata": {},
   "outputs": [
    {
     "name": "stdout",
     "output_type": "stream",
     "text": [
      "ab\n",
      "ab\n",
      "<re.Match object; span=(0, 4), match='abcd'>\n",
      "abcd\n",
      "abc\n",
      "b\n",
      "('b', 'abc', 'b')\n",
      "('abc', 'b')\n"
     ]
    }
   ],
   "source": [
    "import re\n",
    "p = re.compile('(a)b')\n",
    "m = p.match('ab')\n",
    "print(m.group())\n",
    "print(m.group(0))\n",
    "p = re.compile('(a(b)c)d')\n",
    "m = p.match('abcd')\n",
    "print(m)\n",
    "print(m.group(0))\n",
    "print(m.group(1))\n",
    "print(m.group(2))\n",
    "print(m.group(2,1,2))\n",
    "print(m.groups())"
   ]
  },
  {
   "cell_type": "code",
   "execution_count": 65,
   "id": "4a969897-e209-45e1-93b5-980a3dc6187c",
   "metadata": {},
   "outputs": [
    {
     "name": "stdout",
     "output_type": "stream",
     "text": [
      "the the\n"
     ]
    }
   ],
   "source": [
    "import re;\n",
    "p = re.compile(r'\\b(\\w+)\\s+\\1\\b')\n",
    "print(p.search('Paris in the the spring').group())"
   ]
  },
  {
   "cell_type": "code",
   "execution_count": 67,
   "id": "a8b6940b-5517-4632-b32e-f35b5e091d16",
   "metadata": {},
   "outputs": [
    {
     "name": "stdout",
     "output_type": "stream",
     "text": [
      "Lots\n",
      "Lots\n"
     ]
    }
   ],
   "source": [
    "import re\n",
    "p = re.compile(r'(?P<word>\\b\\w+\\b)')\n",
    "m = p.search( '(((( Lots of punctuation )))' )\n",
    "print(m.group('word'))\n",
    "print(m.group(1))"
   ]
  },
  {
   "cell_type": "code",
   "execution_count": 69,
   "id": "9e25cd47-0e9f-4c90-8ffc-ab401f2018e6",
   "metadata": {},
   "outputs": [
    {
     "name": "stdout",
     "output_type": "stream",
     "text": [
      "{'first': 'Jane', 'last': 'Doe'}\n"
     ]
    }
   ],
   "source": [
    "import re\n",
    "m = re.match(r'(?P<first>\\w+) (?P<last>\\w+)', 'Jane Doe')\n",
    "print(m.groupdict())"
   ]
  },
  {
   "cell_type": "code",
   "execution_count": 71,
   "id": "eeda4eba-ebc1-4431-a88d-fcbab7bd8468",
   "metadata": {},
   "outputs": [
    {
     "name": "stdout",
     "output_type": "stream",
     "text": [
      "re.compile('INTERNALDATE \"(?P<day>[ 123][0-9])-(?P<mon>[A-Z][a-z][a-z])-(?P<year>[0-9][0-9][0-9][0-9]) (?P<hour>[0-9][0-9]):(?P<min>[0-9][0-9]):(?P<sec>[0-9][0-9]) (?P<zonen>[-+])(?P<zoneh>[0-9][0-9])(?P<zonem>[)\n"
     ]
    }
   ],
   "source": [
    "import re\n",
    "InternalDate = re.compile(r'INTERNALDATE \"'\n",
    "        r'(?P<day>[ 123][0-9])-(?P<mon>[A-Z][a-z][a-z])-'\n",
    "        r'(?P<year>[0-9][0-9][0-9][0-9])'\n",
    "        r' (?P<hour>[0-9][0-9]):(?P<min>[0-9][0-9]):(?P<sec>[0-9][0-9])'\n",
    "        r' (?P<zonen>[-+])(?P<zoneh>[0-9][0-9])(?P<zonem>[0-9][0-9])'\n",
    "        r'\"')\n",
    "print(InternalDate)"
   ]
  },
  {
   "cell_type": "code",
   "execution_count": 72,
   "id": "60adf6ee-c0b4-46b2-aefe-e78cf30ec361",
   "metadata": {},
   "outputs": [
    {
     "name": "stdout",
     "output_type": "stream",
     "text": [
      "the the\n"
     ]
    }
   ],
   "source": [
    "import re\n",
    "p = re.compile(r'\\b(?P<word>\\w+)\\s+(?P=word)\\b')\n",
    "print(p.search('Paris in the the spring').group())"
   ]
  },
  {
   "cell_type": "code",
   "execution_count": 73,
   "id": "a2c72994-5fc1-4d72-bea1-e06caec09341",
   "metadata": {},
   "outputs": [
    {
     "name": "stdout",
     "output_type": "stream",
     "text": [
      "['This', 'is', 'a', 'test', 'short', 'and', 'sweet', 'of', 'split', '']\n",
      "['This', 'is', 'a', 'test, short and sweet, of split().']\n"
     ]
    }
   ],
   "source": [
    "# split() --> Split the string into a list, splitting it wherever the RE matches\n",
    "# sub() --> Find all substrings where the RE matches, and replace them with a different string\n",
    "# subn() --> Does the same thing as sub(), but returns the new string and the number of replacements\n",
    "import re;\n",
    "p = re.compile(r'\\W+')\n",
    "print(p.split('This is a test, short and sweet, of split().'))\n",
    "print(p.split('This is a test, short and sweet, of split().', 3))"
   ]
  },
  {
   "cell_type": "code",
   "execution_count": 74,
   "id": "6846a4b1-485e-4259-a479-b210e71355eb",
   "metadata": {
    "scrolled": true
   },
   "outputs": [
    {
     "name": "stdout",
     "output_type": "stream",
     "text": [
      "['This', 'is', 'a', 'test', '']\n",
      "['This', '... ', 'is', ' ', 'a', ' ', 'test', '.', '']\n"
     ]
    }
   ],
   "source": [
    "import re\n",
    "p = re.compile(r'\\W+')\n",
    "p2 = re.compile(r'(\\W+)')\n",
    "print(p.split('This... is a test.'))\n",
    "print(p2.split('This... is a test.'))"
   ]
  },
  {
   "cell_type": "markdown",
   "id": "71e17f75-3f66-4916-9b3b-b10ce7badbcf",
   "metadata": {},
   "source": [
    "# Search and Replace"
   ]
  },
  {
   "cell_type": "code",
   "execution_count": 75,
   "id": "43d41499-57cf-4e33-9db7-0ceaefae1d9a",
   "metadata": {},
   "outputs": [
    {
     "name": "stdout",
     "output_type": "stream",
     "text": [
      "colour socks and colour shoes\n",
      "colour socks and red shoes\n"
     ]
    }
   ],
   "source": [
    "import re;\n",
    "p = re.compile('(blue|white|red)')\n",
    "print(p.sub('colour', 'blue socks and red shoes'))\n",
    "print(p.sub('colour', 'blue socks and red shoes', count=1))"
   ]
  },
  {
   "cell_type": "code",
   "execution_count": 77,
   "id": "702c34f2-2502-44b3-8ada-c185de731644",
   "metadata": {},
   "outputs": [
    {
     "name": "stdout",
     "output_type": "stream",
     "text": [
      "('colour socks and colour shoes', 2)\n",
      "('no colours at all', 0)\n"
     ]
    }
   ],
   "source": [
    "import re\n",
    "# The subn() method does the same work, but returns a 2-tuple containing the new string value and the number of replacements that were performed:\n",
    "p = re.compile('(blue|white|red)')\n",
    "print(p.subn('colour', 'blue socks and red shoes'))\n",
    "print(p.subn('colour', 'no colours at all'))"
   ]
  },
  {
   "cell_type": "code",
   "execution_count": 78,
   "id": "0b2c4882-6049-4ccb-93ce-2de5f623b21f",
   "metadata": {},
   "outputs": [
    {
     "name": "stdout",
     "output_type": "stream",
     "text": [
      "-a-b--d-\n"
     ]
    }
   ],
   "source": [
    "import re\n",
    "p = re.compile('x*')\n",
    "print(p.sub('-', 'abxd'))"
   ]
  },
  {
   "cell_type": "code",
   "execution_count": 80,
   "id": "503e94cc-4606-474a-9a33-67e238184d52",
   "metadata": {},
   "outputs": [
    {
     "name": "stdout",
     "output_type": "stream",
     "text": [
      "subsection{First} subsection{second}\n"
     ]
    }
   ],
   "source": [
    "import re\n",
    "p = re.compile('section{ ( [^}]* ) }', re.VERBOSE)\n",
    "print(p.sub(r'subsection{\\1}','section{First} section{second}'))"
   ]
  },
  {
   "cell_type": "code",
   "execution_count": 81,
   "id": "31e59793-59d4-403b-8f8a-ce623a11029a",
   "metadata": {},
   "outputs": [
    {
     "name": "stdout",
     "output_type": "stream",
     "text": [
      "subsection{First}\n",
      "subsection{First}\n",
      "subsection{First}\n"
     ]
    }
   ],
   "source": [
    "import re\n",
    "p = re.compile('section{ (?P<name> [^}]* ) }', re.VERBOSE)\n",
    "print(p.sub(r'subsection{\\1}','section{First}'))\n",
    "print(p.sub(r'subsection{\\g<1>}','section{First}'))\n",
    "print(p.sub(r'subsection{\\g<name>}','section{First}'))"
   ]
  },
  {
   "cell_type": "code",
   "execution_count": 82,
   "id": "c11714f2-33c1-4f22-b2cf-1c914055ceb2",
   "metadata": {},
   "outputs": [
    {
     "name": "stdout",
     "output_type": "stream",
     "text": [
      "Call 0xffd2 for printing, 0xc000 for user code.\n"
     ]
    }
   ],
   "source": [
    "import re\n",
    "def hexrepl(match):\n",
    "    \"Return the hex string for a decimal number\"\n",
    "    value = int(match.group())\n",
    "    return hex(value)\n",
    "\n",
    "p = re.compile(r'\\d+')\n",
    "print(p.sub(hexrepl, 'Call 65490 for printing, 49152 for user code.'))"
   ]
  },
  {
   "cell_type": "markdown",
   "id": "f2ce8466-a105-4b7a-bbf3-783b19e79cfe",
   "metadata": {},
   "source": [
    "# Greedy versus Non-Greedy"
   ]
  },
  {
   "cell_type": "code",
   "execution_count": 83,
   "id": "41295cae-3f79-48a4-9f04-be0db00061f1",
   "metadata": {},
   "outputs": [
    {
     "name": "stdout",
     "output_type": "stream",
     "text": [
      "32\n",
      "(0, 32)\n",
      "<html><head><title>Title</title>\n"
     ]
    }
   ],
   "source": [
    "import re\n",
    "s = '<html><head><title>Title</title>'\n",
    "print(len(s))\n",
    "print(re.match('<.*>', s).span())\n",
    "print(re.match('<.*>', s).group())"
   ]
  },
  {
   "cell_type": "code",
   "execution_count": 1,
   "id": "dd334f74-1050-44c7-9576-5c394ac4aafb",
   "metadata": {},
   "outputs": [
    {
     "name": "stdout",
     "output_type": "stream",
     "text": [
      "Call 65490 for printing, 49152 for user code.\n"
     ]
    }
   ],
   "source": [
    "import re;\n",
    "txt = 'Call 65490 for printing, 49152 for user code.'\n",
    "print(txt)"
   ]
  },
  {
   "cell_type": "code",
   "execution_count": 4,
   "id": "cfc27d79-3083-4072-8cc4-ab309d97b037",
   "metadata": {},
   "outputs": [
    {
     "name": "stdout",
     "output_type": "stream",
     "text": [
      "Call 0xffd2 for printing, 0xc000 for user code.\n"
     ]
    }
   ],
   "source": [
    "import re\n",
    "def hexrepl(match):\n",
    "    \"Return the hex string for a decimal number\"\n",
    "    value = int(match.group())\n",
    "    return hex(value)\n",
    "p = re.compile(r'\\d+')\n",
    "print(p.sub(hexrepl, 'Call 65490 for printing, 49152 for user code.'))"
   ]
  },
  {
   "cell_type": "code",
   "execution_count": 16,
   "id": "8c743665-4681-4823-bf53-f4fba4756809",
   "metadata": {},
   "outputs": [
    {
     "name": "stdout",
     "output_type": "stream",
     "text": [
      "Call 0xffd2 for printing, 0xc000 for user code.\n"
     ]
    }
   ],
   "source": [
    "import re\n",
    "txt = 'Call 65490 for printing, 49152 for user code.'\n",
    "p = re.compile(r'\\d+')\n",
    "def fun(match):\n",
    "    val = int(match.group())\n",
    "    return hex(val)\n",
    "    \n",
    "print(p.sub(fun,txt))"
   ]
  },
  {
   "cell_type": "code",
   "execution_count": 20,
   "id": "925bac51-0e9b-4a54-9fd9-6801c7a5892a",
   "metadata": {},
   "outputs": [
    {
     "name": "stdout",
     "output_type": "stream",
     "text": [
      "My name is radheshyam 0x7b phone number is 0x159 and id is 0x3db\n"
     ]
    }
   ],
   "source": [
    "import re;\n",
    "txt = 'My name is radheshyam 123 phone number is 345 and id is 987'\n",
    "pat = re.compile(r'\\d+')\n",
    "def fun(match):\n",
    "    return hex(int(match.group()))\n",
    "print(pat.sub(fun,txt))"
   ]
  },
  {
   "cell_type": "code",
   "execution_count": 55,
   "id": "acb28fb9-e24c-491b-9f37-338b3d42da96",
   "metadata": {},
   "outputs": [
    {
     "name": "stdout",
     "output_type": "stream",
     "text": [
      "<re.Match object; span=(22, 35), match='Mr.Radheshyam'>\n"
     ]
    }
   ],
   "source": [
    "import re\n",
    "txt = '''this is me Radheshyam\n",
    "Mr.Radheshyam Kumar Singh\n",
    "Mrs.Nikki Kumari singh\n",
    "Mr.Rakesh Singh\n",
    "Mobile No. - +91-725-892-3734\n",
    "Mobile No. - +91-778-208-3564\n",
    "'''\n",
    "pat = re.compile(r'M(r|rs)\\.?\\w+')\n",
    "pat1 = pat.search(txt)\n",
    "print(pat1)"
   ]
  },
  {
   "cell_type": "code",
   "execution_count": 94,
   "id": "19a94576-8ef2-4d8b-842c-f333809ef65a",
   "metadata": {},
   "outputs": [],
   "source": [
    "import re\n",
    "import copy\n",
    "txt = '''this is me Radheshyam\n",
    "Mr.Radheshyam Kumar Singh\n",
    "Mrs.Nikki Kumari singh\n",
    "Mr.Rakesh Singh\n",
    "Ms.Anjali\n",
    "Mobile No. - +91-725-892-3734\n",
    "Mobile No. - +91-778-208-3564\n",
    "'''\n",
    "pat = re.compile(r'M(r|rs|s)\\.[a-zA-Z]\\w+?\\s[a-zA-Z]*\\s[a-zA-Z]*')\n",
    "pat1 = pat.finditer(txt)\n",
    "pat2 = pat1\n",
    "with open('file.txt','w') as fp:\n",
    "    for match in pat1:\n",
    "        fp.write(match.group()+'\\n')"
   ]
  },
  {
   "cell_type": "code",
   "execution_count": 65,
   "id": "ba00626e-4ee7-4753-9549-bc512751e36e",
   "metadata": {},
   "outputs": [
    {
     "name": "stdout",
     "output_type": "stream",
     "text": [
      "s\n"
     ]
    }
   ],
   "source": [
    "import re\n",
    "txt = '''this is me Radheshyam\n",
    "Mr.Radheshyam Kumar Singh\n",
    "Mrs.Nikki Kumari singh\n",
    "Mr.Rakesh Singh\n",
    "Ms.Anjali\n",
    "Mobile No. - +91-725-892-3734\n",
    "Mobile No. - +91-778-208-3564\n",
    "'''\n",
    "pat = re.compile(r'M(r|rs|s)\\.[a-zA-Z]\\w*')\n",
    "pat1 = pat.search(txt)\n",
    "# for match in pat1:\n",
    "print(match)"
   ]
  },
  {
   "cell_type": "code",
   "execution_count": 149,
   "id": "569aff17-1c18-4914-b59f-0bc935cd34da",
   "metadata": {},
   "outputs": [
    {
     "name": "stdout",
     "output_type": "stream",
     "text": [
      "<re.Match object; span=(22, 47), match='Mr.Radheshyam Kumar Singh'>\n",
      "<re.Match object; span=(48, 70), match='Mrs.Nikki Kumari Singh'>\n",
      "<re.Match object; span=(71, 86), match='Mr.Rakesh Singh'>\n",
      "<re.Match object; span=(88, 110), match='Ms.Anjali Kumari Singh'>\n"
     ]
    }
   ],
   "source": [
    "import re\n",
    "import copy\n",
    "txt = \"\"\"this is me Radheshyam\n",
    "Mr.Radheshyam Kumar Singh\n",
    "Mrs.Nikki Kumari Singh\n",
    "Mr.Rakesh Singh \n",
    "Ms.Anjali Kumari Singh\n",
    "Mobile No. - +91-725-892-3734\n",
    "Mobile No. - +91-778-208-3564\n",
    "\"\"\"\n",
    "pat = re.compile(r'M(r|rs|s)\\.[a-zA-Z]\\w+\\s?\\w+\\s\\w+')\n",
    "pat1 = pat.finditer(txt)\n",
    "for match in pat1:\n",
    "    print(match)"
   ]
  },
  {
   "cell_type": "code",
   "execution_count": 161,
   "id": "59ee9eb5-56bb-4e8a-8133-ec59e688cf99",
   "metadata": {},
   "outputs": [
    {
     "name": "stdout",
     "output_type": "stream",
     "text": [
      "Mr.Radheshyam Kumar Singh\n",
      "Mrs.Nikki Kumari\n",
      "Mr.Rakesh Kumar Singh\n",
      "Ms.Anjali Kumari Singh\n"
     ]
    }
   ],
   "source": [
    "import re\n",
    "import copy\n",
    "txt = \"\"\"this is me Radheshyam\n",
    "Mr.Radheshyam Kumar Singh\n",
    "Mrs.Nikki Kumari \n",
    "Mr.Rakesh Kumar Singh\n",
    "Ms.Anjali Kumari Singh\n",
    "Mobile No. - +91-725-892-3734\n",
    "Mobile No. - +91-778-208-3564\n",
    "\"\"\"\n",
    "pat = re.compile(r'M(r|rs|s)\\.[a-zA-Z]\\w+\\s?\\w+\\s?\\w+')\n",
    "pat1 = pat.finditer(txt)\n",
    "for match in pat1:\n",
    "    print(match.group())"
   ]
  },
  {
   "cell_type": "code",
   "execution_count": 173,
   "id": "40a2164f-9760-4375-af3a-679a2ef225a0",
   "metadata": {},
   "outputs": [
    {
     "name": "stdout",
     "output_type": "stream",
     "text": [
      "+91-725-892-3734\n",
      "+91-778-208-3564\n",
      "+91-777*208*3564\n",
      "+91-779*208*3564\n"
     ]
    }
   ],
   "source": [
    "import re\n",
    "txt = \"\"\"this is me Radheshyam\n",
    "Mr.Radheshyam Kumar Singh\n",
    "Mrs.Nikki Kumari \n",
    "Mr.Rakesh Kumar Singh\n",
    "Ms.Anjali Kumari Singh\n",
    "Mobile No. - +91-725-892-3734\n",
    "Mobile No. - +91-778-208-3564\n",
    "Mobile No. - +91-777*208*3564\n",
    "Mobile No. - +91-779*208*3564\n",
    "\"\"\"\n",
    "pat = re.compile(r'\\+\\d{1,}[-*]\\d{,3}[-*]\\d{,3}[-*]\\d{,4}')\n",
    "p = pat.finditer(txt)\n",
    "for match in p:\n",
    "    print(match.group())"
   ]
  },
  {
   "cell_type": "code",
   "execution_count": 3,
   "id": "326f81b0-952a-4e0e-9741-22e9dead4a6f",
   "metadata": {},
   "outputs": [
    {
     "name": "stdout",
     "output_type": "stream",
     "text": [
      ".ipynb_checkpoints\n",
      "climate_change.py\n",
      "Cread_multi_dir.py\n",
      "data-type.py\n",
      "dictionary01.ipynb\n",
      "file.txt\n",
      "GDP.csv\n",
      "General_purpose.ipynb\n",
      "host_folder_del.py\n",
      "Lambda.ipynb\n",
      "list.ipynb\n",
      "Multi\n",
      "regExpr.ipynb\n",
      "regular_expression.txt\n",
      "Scan_dir.py\n",
      "String.ipynb\n"
     ]
    }
   ],
   "source": [
    "import re;\n",
    "import os;\n",
    "# print(os.listdir())\n",
    "for file in os.listdir():\n",
    "    print(file)"
   ]
  },
  {
   "cell_type": "code",
   "execution_count": 67,
   "id": "5d585fd9-8a59-4efd-86c1-2361526f8223",
   "metadata": {},
   "outputs": [
    {
     "name": "stdout",
     "output_type": "stream",
     "text": [
      "https://docs.python.org/3/library/os.html\n",
      "https://www.w3schools.com/python/module_os.asp\n",
      "http://www.geeksforgeeks.org/os-module-python-examples/\n",
      "https://www.youtube.com/\n",
      "https://www.paypal.com/in/signin\n",
      "https://pythongeeks.org/python-os-module/\n",
      "https://www.tutorialsteacher.com/python/os-module\n",
      "https://www.python101.pythonlibrary.org/chapter16_os.html\n",
      "https://stackabuse.com/introduction-to-python-os-module/\n"
     ]
    }
   ],
   "source": [
    "import re\n",
    "import os\n",
    "import sys\n",
    "txt = \"\"\"this is me Radheshyam\n",
    "Mr.Radheshyam Kumar Singh\n",
    "Mrs.Nikki Kumari \n",
    "Mr.Rakesh Kumar Singh\n",
    "Ms.Anjali Kumari Singh\n",
    "Mobile No. - +91-725-892-3734\n",
    "Mobile No. - +91-778-208-3564\n",
    "Mobile No. - +91-777*208*3564\n",
    "Mobile No. - +91-779*208*3564\n",
    "https://docs.python.org/3/library/os.html\n",
    "https://www.w3schools.com/python/module_os.asp\n",
    "http://www.geeksforgeeks.org/os-module-python-examples/\n",
    "https://www.youtube.com/\n",
    "https://www.paypal.com/in/signin\n",
    "https://pythongeeks.org/python-os-module/\n",
    "https://www.tutorialsteacher.com/python/os-module\n",
    "https://www.python101.pythonlibrary.org/chapter16_os.html\n",
    "https://stackabuse.com/introduction-to-python-os-module/\n",
    "\"\"\"\n",
    "pat = re.compile(r'https?[:]//[a-zA-Z0-9.]+/?[a-zA-Z0-9-.]+/[a-zA-Z0-9-_.]{0,}/?[a-zA-Z.]{0,}')\n",
    "# print(pat.search())\n",
    "# pat.finditer(txt)\n",
    "# for match in pat.finditer(txt):\n",
    "#     print(match)\n",
    "for match in pat.finditer(txt):\n",
    "    print(match.group())"
   ]
  }
 ],
 "metadata": {
  "kernelspec": {
   "display_name": "Python 3 (ipykernel)",
   "language": "python",
   "name": "python3"
  },
  "language_info": {
   "codemirror_mode": {
    "name": "ipython",
    "version": 3
   },
   "file_extension": ".py",
   "mimetype": "text/x-python",
   "name": "python",
   "nbconvert_exporter": "python",
   "pygments_lexer": "ipython3",
   "version": "3.11.4"
  }
 },
 "nbformat": 4,
 "nbformat_minor": 5
}
