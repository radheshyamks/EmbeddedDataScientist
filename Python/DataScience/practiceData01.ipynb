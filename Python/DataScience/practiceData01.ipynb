{
 "cells": [
  {
   "cell_type": "code",
   "execution_count": 18,
   "id": "80946983-6fb3-4d13-b93e-50d4b433eb44",
   "metadata": {},
   "outputs": [
    {
     "name": "stdout",
     "output_type": "stream",
     "text": [
      "[ True  True  True  True  True  True  True  True  True  True  True  True\n",
      "  True  True  True  True  True  True  True  True  True  True  True  True\n",
      "  True  True  True  True  True  True]\n"
     ]
    }
   ],
   "source": [
    "import  numpy as np\n",
    "import pandas as pd\n",
    "import matplotlib.pyplot as plt\n",
    "import statistics as st\n",
    "import seaborn as sns\n",
    "df = pd.read_csv(r\"E:\\NotepadPlusPlus\\CSV\\Github_CSV\\flightdata.csv\")\n",
    "# print(df)\n",
    "# del df['Unnamed']\n",
    "df = df.loc[:, ~df.columns.str.contains('^Unnamed')]\n",
    "print(~df.columns.str.contains('^Unnamed'))\n",
    "# print(df.loc[:, ~df.columns.str.contains('^Unnamed')])\n",
    "# print(df.columns)\n",
    "# print(df.columns.str)\n",
    "# print(df.loc[:,~df.columns.str.contains('^Unnamed')])\n",
    "# df.drop(df.columns[df.columns.str.contains('unnamed',case = False)],axis = 1, inplace = True)\n",
    "df.to_csv(\"101.csv\", index=False)"
   ]
  }
 ],
 "metadata": {
  "kernelspec": {
   "display_name": "Python 3 (ipykernel)",
   "language": "python",
   "name": "python3"
  },
  "language_info": {
   "codemirror_mode": {
    "name": "ipython",
    "version": 3
   },
   "file_extension": ".py",
   "mimetype": "text/x-python",
   "name": "python",
   "nbconvert_exporter": "python",
   "pygments_lexer": "ipython3",
   "version": "3.11.4"
  }
 },
 "nbformat": 4,
 "nbformat_minor": 5
}
