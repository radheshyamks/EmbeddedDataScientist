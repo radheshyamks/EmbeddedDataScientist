{
 "cells": [
  {
   "cell_type": "code",
   "execution_count": 12,
   "id": "c3779f0c-f2d0-426c-89fc-1d97cf4943d4",
   "metadata": {},
   "outputs": [
    {
     "name": "stdout",
     "output_type": "stream",
     "text": [
      "array :  [ 1  2  3  4  5  6  7  8  9 10]\n",
      "array shape:  (10,)\n",
      "array dim:  1\n",
      "array size:  10\n",
      "array type:  uint32\n",
      "array itemsize:  4\n",
      "array nbytes:  40\n"
     ]
    }
   ],
   "source": [
    "import numpy as np\n",
    "l = [i for i in range(1,11)]\n",
    "# print(l)\n",
    "arr = np.array(l,dtype=np.uint32)\n",
    "print(\"array : \",arr)\n",
    "print(\"array shape: \", arr.shape)\n",
    "print(\"array dim: \",arr.ndim)\n",
    "print(\"array size: \",arr.size)\n",
    "print(\"array type: \",arr.dtype)\n",
    "print(\"array itemsize: \", arr.itemsize)\n",
    "print(\"array nbytes: \", arr.nbytes)\n",
    "# print(help(arr))"
   ]
  },
  {
   "cell_type": "code",
   "execution_count": 19,
   "id": "a52c8dd2-7a5b-4655-b1fa-c0c09db0b3b5",
   "metadata": {},
   "outputs": [
    {
     "name": "stdout",
     "output_type": "stream",
     "text": [
      "array:  [ 1  2  3  4  5  6  7  8  9 10]\n",
      "array size:  10\n",
      "array shape:  (10,)\n",
      "array dim:  1\n",
      "array type:  uint16\n",
      "array itemsize:  2\n",
      "array nbytes:  20\n"
     ]
    }
   ],
   "source": [
    "import numpy as np\n",
    "l = [ i for i in range(1,11)]\n",
    "# print(l)\n",
    "arr = np.array(l,dtype=np.uint16)\n",
    "print(\"array: \",arr)\n",
    "print(\"array size: \", arr.size)\n",
    "print(\"array shape: \",arr.shape)\n",
    "print(\"array dim: \", arr.ndim)\n",
    "print(\"array type: \", arr.dtype)\n",
    "print(\"array itemsize: \", arr.itemsize)\n",
    "print(\"array nbytes: \", arr.nbytes)"
   ]
  },
  {
   "cell_type": "code",
   "execution_count": 23,
   "id": "d5b7ee3b-b6e6-4109-9d15-13612104b09b",
   "metadata": {},
   "outputs": [
    {
     "name": "stdout",
     "output_type": "stream",
     "text": [
      "[[1, 2, 3], [2, 3, 4], [3, 4, 5]]\n"
     ]
    }
   ],
   "source": [
    "import numpy as np\n",
    "l = [[i for i in range(j,j+3)] for j in range(1,4)]\n",
    "print(l)"
   ]
  },
  {
   "cell_type": "code",
   "execution_count": 25,
   "id": "678d3ad7-62ad-4d8a-ba67-824b6760b5ff",
   "metadata": {},
   "outputs": [
    {
     "name": "stdout",
     "output_type": "stream",
     "text": [
      "[0. 0. 0.]\n"
     ]
    }
   ],
   "source": [
    "import numpy as np\n",
    "# np.zeros(shape, dtype=float)\n",
    "arr = np.zeros(3)\n",
    "print(arr)"
   ]
  },
  {
   "cell_type": "code",
   "execution_count": 26,
   "id": "f57a822a-9bf1-4b75-ba43-2e46edeed9fd",
   "metadata": {},
   "outputs": [
    {
     "name": "stdout",
     "output_type": "stream",
     "text": [
      "[[0 0 0]\n",
      " [0 0 0]]\n"
     ]
    }
   ],
   "source": [
    "import numpy as np\n",
    "arr = np.zeros((2,3), dtype=np.uint16)\n",
    "print(arr)"
   ]
  },
  {
   "cell_type": "code",
   "execution_count": 27,
   "id": "da442084-cce6-4e5c-b4ec-d58e39a02566",
   "metadata": {},
   "outputs": [
    {
     "name": "stdout",
     "output_type": "stream",
     "text": [
      "[1. 1. 1.]\n"
     ]
    }
   ],
   "source": [
    "import numpy as np\n",
    "arr = np.ones(3)\n",
    "print(arr)"
   ]
  },
  {
   "cell_type": "code",
   "execution_count": 29,
   "id": "d7a9bcf6-ee96-4111-b65e-180879266a22",
   "metadata": {},
   "outputs": [
    {
     "name": "stdout",
     "output_type": "stream",
     "text": [
      "array shape:  (3, 3)\n",
      "array itemsize:  2\n",
      "array ndim:  2\n",
      "array size:  9\n",
      "array nbytes:  18\n",
      "array dtype:  uint16\n"
     ]
    }
   ],
   "source": [
    "import numpy as np\n",
    "arr = np.ones((3,3), dtype=np.uint16)\n",
    "print(\"array shape: \", arr.shape)\n",
    "print(\"array itemsize: \", arr.itemsize)\n",
    "print(\"array ndim: \", arr.ndim)\n",
    "print(\"array size: \", arr.size)\n",
    "print(\"array nbytes: \", arr.nbytes)\n",
    "print(\"array dtype: \", arr.dtype)"
   ]
  },
  {
   "cell_type": "code",
   "execution_count": null,
   "id": "62d1c73e-770f-41a8-8d3f-74aff3858336",
   "metadata": {},
   "outputs": [],
   "source": [
    "import numpy as np"
   ]
  }
 ],
 "metadata": {
  "kernelspec": {
   "display_name": "Python 3 (ipykernel)",
   "language": "python",
   "name": "python3"
  },
  "language_info": {
   "codemirror_mode": {
    "name": "ipython",
    "version": 3
   },
   "file_extension": ".py",
   "mimetype": "text/x-python",
   "name": "python",
   "nbconvert_exporter": "python",
   "pygments_lexer": "ipython3",
   "version": "3.11.4"
  }
 },
 "nbformat": 4,
 "nbformat_minor": 5
}
