{
 "cells": [
  {
   "cell_type": "markdown",
   "id": "dd637da6-e799-457a-8773-919104db756d",
   "metadata": {},
   "source": [
    "**Descriptive Statistics**"
   ]
  },
  {
   "cell_type": "code",
   "execution_count": 1,
   "id": "b8f93cf7-a522-4b96-9cb4-c3eea057c02d",
   "metadata": {},
   "outputs": [],
   "source": [
    "import statistics\n",
    "# print(help(statistics))"
   ]
  },
  {
   "cell_type": "code",
   "execution_count": 4,
   "id": "bd0aec50-1195-4570-b070-d6d647db4fcc",
   "metadata": {},
   "outputs": [
    {
     "name": "stdout",
     "output_type": "stream",
     "text": [
      "['Counter', 'Decimal', 'Fraction', 'LinearRegression', 'NormalDist', 'StatisticsError', '_SQRT2', '__all__', '__annotations__', '__builtins__', '__cached__', '__doc__', '__file__', '__loader__', '__name__', '__package__', '__spec__', '_coerce', '_convert', '_decimal_sqrt_of_frac', '_exact_ratio', '_fail_neg', '_float_sqrt_of_frac', '_integer_sqrt_of_frac_rto', '_isfinite', '_mean_stdev', '_normal_dist_inv_cdf', '_sqrt_bit_width', '_ss', '_sum', 'bisect_left', 'bisect_right', 'correlation', 'covariance', 'defaultdict', 'erf', 'exp', 'fabs', 'fmean', 'fsum', 'geometric_mean', 'groupby', 'harmonic_mean', 'hypot', 'linear_regression', 'log', 'math', 'mean', 'median', 'median_grouped', 'median_high', 'median_low', 'mode', 'mul', 'multimode', 'namedtuple', 'numbers', 'pstdev', 'pvariance', 'quantiles', 'random', 'reduce', 'repeat', 'sqrt', 'stdev', 'sys', 'tau', 'variance']\n"
     ]
    }
   ],
   "source": [
    "import statistics\n",
    "print(dir(statistics))"
   ]
  },
  {
   "cell_type": "code",
   "execution_count": 6,
   "id": "fc885152-680f-40cc-9566-55d4c29a46f3",
   "metadata": {},
   "outputs": [
    {
     "name": "stdout",
     "output_type": "stream",
     "text": [
      "Counter Decimal Fraction LinearRegression NormalDist StatisticsError _SQRT2 __all__ __annotations__ __builtins__ __cached__ __doc__ __file__ __loader__ __name__ __package__ __spec__ _coerce _convert _decimal_sqrt_of_frac _exact_ratio _fail_neg _float_sqrt_of_frac _integer_sqrt_of_frac_rto _isfinite _mean_stdev _normal_dist_inv_cdf _sqrt_bit_width _ss _sum bisect_left bisect_right correlation covariance defaultdict erf exp fabs fmean fsum geometric_mean groupby harmonic_mean hypot linear_regression log math mean median median_grouped median_high median_low mode mul multimode namedtuple numbers pstdev pvariance quantiles random reduce repeat sqrt stdev sys tau variance "
     ]
    }
   ],
   "source": [
    "import statistics as st\n",
    "for i in dir(st):\n",
    "    print(i, end=\" \")"
   ]
  },
  {
   "cell_type": "code",
   "execution_count": 16,
   "id": "9d29f880-9166-40c2-8954-da142043881c",
   "metadata": {},
   "outputs": [
    {
     "name": "stdout",
     "output_type": "stream",
     "text": [
      "statistics mean(data1): 17222.22\n",
      "statistics geometrics mean: 17036.09\n",
      "statistics harmonic mean: 16857.29\n",
      "statistics mode: 15000.00\n",
      "statistics median: 17000.00\n"
     ]
    }
   ],
   "source": [
    "import statistics as st\n",
    "# for i in dir(st):\n",
    "    # print(i)\n",
    "data1 = [15000, 19000, 17000, 15000, 18000, 20000, 22000, 15000, 14000]\n",
    "# print(\"data1 : \",data1)\n",
    "print(\"statistics mean(data1): %0.2f\" % st.mean(data1))\n",
    "print(\"statistics geometrics mean: %0.2f\" % st.geometric_mean(data1))\n",
    "print(\"statistics harmonic mean: %0.2f\" % st.harmonic_mean(data1))\n",
    "print(\"statistics mode: %0.2f\" % st.mode(data1))\n",
    "print(\"statistics median: %0.2f\" % st.median(data1))"
   ]
  },
  {
   "cell_type": "code",
   "execution_count": 18,
   "id": "909b90bd-c2ab-4e5a-aa15-83962ead59a4",
   "metadata": {},
   "outputs": [
    {
     "name": "stdout",
     "output_type": "stream",
     "text": [
      "statistics mean: 105500.00\n",
      "statistics mode: 15000.00\n"
     ]
    }
   ],
   "source": [
    "import statistics as st\n",
    "data2 = [15000, 19000, 17000, 15000, 18000, 20000, 22000, 15000, 14000, 900000]\n",
    "print(\"statistics mean: %0.2f\" % st.mean(data2))\n",
    "print(\"statistics mode: %0.2f\" % st.mode(data2))"
   ]
  },
  {
   "cell_type": "code",
   "execution_count": 21,
   "id": "b08f46fd-81b3-46b8-b945-4cfdfcf6a1e9",
   "metadata": {},
   "outputs": [
    {
     "name": "stdout",
     "output_type": "stream",
     "text": [
      "19\n"
     ]
    }
   ],
   "source": [
    "import statistics as st\n",
    "import numpy as np\n",
    "# print(dir(st))\n",
    "data3 = [25, 10, 9, 6, 12, 11, 15]\n",
    "# print(data3)\n",
    "range1 = np.max(data3)-np.min(data3)\n",
    "print(range1)"
   ]
  },
  {
   "cell_type": "code",
   "execution_count": 5,
   "id": "4879cda6-8f8f-4626-8e5a-6c6f0e779386",
   "metadata": {},
   "outputs": [
    {
     "name": "stdout",
     "output_type": "stream",
     "text": [
      "3\n"
     ]
    },
    {
     "data": {
      "image/png": "[encoded data removed]",
      "text/plain": [
       "<Figure size 640x480 with 1 Axes>"
      ]
     },
     "metadata": {},
     "output_type": "display_data"
    }
   ],
   "source": [
    "import statistics as st\n",
    "import numpy as np\n",
    "import pandas as pd\n",
    "import matplotlib.pyplot as plt\n",
    "data4 = [10, 9, 8, 11, 10, 9, 8, 11]\n",
    "range = np.max(data4)-np.min(data4)\n",
    "print(range)\n",
    "plt.scatter(data4, data4, c='b')\n",
    "plt.show()"
   ]
  },
  {
   "cell_type": "markdown",
   "id": "a9d0bae8-ce71-4401-8812-dcbeedb4bd5d",
   "metadata": {},
   "source": [
    "### IQR (Inter quartile range)\n",
    "##### Quartiles divides a rank-order dataset into four equal parts\n",
    "- 1st quartile Q1 is the same as 25th percentile\n",
    "- 2nd quartile Q2 is the same as 50th percentile\n",
    "- 3rd quartile Q3 is the same as 75th percentile\n",
    "- Inner quartile in the range between the third quartile(Q3) and first quartile(Q1)\n",
    "- The range gives us the measurement of how spread out the entirety of our data set is.\n",
    "- The interquartile range defines the difference between the third and the first quartile. Quartiles are the partitioned values that divide the whole series into 4 equal parts. So, there are 3 quartiles. First Quartile is denoted by Q1 known as the lower quartile, the second Quartile is denoted by Q2 and the third Quartile is denoted by Q3 known as the upper quartile. Therefore, the interquartile range is equal to the upper quartile minus lower quartile\n",
    "- You can think of Q1 as the median of the first half and Q3 as the median of the second half of the distribution.\n",
    "- Exclusive method vs inclusive method\n",
    "  - \n",
    "The exclusive method excludes the median when identifying Q1 and Q3, while the inclusive method includes the median in identifying the quartiles.  - \n",
    "\r\n",
    "The procedure for finding the median is different depending on whether your data set is odd- or even-numberd  - .\r\n",
    "\r\n",
    "When you have an odd number of data points, the median is the value in the middle of your data set. You can choose between the inclusive and exclusive me\n",
    "  - hod.\r\n",
    "With an even number of data points, there are two values in the middle, so the median is their mean. It’s more common to use the exclusive method in this\n",
    "  - case.\r\n",
    "While there is little consensus on the best method for finding the interquartile range, the exclusive interquartile range is always larger than the inclusive interquartile\n",
    "  - ange.\r\n",
    "\r\n",
    "The exclusive interquartile range may be more appropriate for large samples, while for small samples, the inclusive interquartile range may be more representative because it’s a narrower range."
   ]
  },
  {
   "cell_type": "code",
   "execution_count": 51,
   "id": "0acdb038-5729-43dc-ba50-750e944a8531",
   "metadata": {},
   "outputs": [
    {
     "name": "stdout",
     "output_type": "stream",
     "text": [
      "Q1:  2.5\n",
      "Q2:  5.5\n",
      "Q3:  9.5\n",
      "IQR:  7.0\n"
     ]
    },
    {
     "data": {
      "image/png": "[encoded data removed]",
      "text/plain": [
       "<Figure size 640x480 with 1 Axes>"
      ]
     },
     "metadata": {},
     "output_type": "display_data"
    }
   ],
   "source": [
    "import statistics as st\n",
    "import numpy as np\n",
    "import pandas as pd\n",
    "import matplotlib.pyplot as plt\n",
    "data5 = [1, 4, 2, 6, 8, 10, 11, 5]\n",
    "# data6 = [18, 19, 20, 21, 22, 35, 13, 2]\n",
    "q1,q2,q3 = st.quantiles(data5,n=4)\n",
    "print('Q1: ', q1)\n",
    "print('Q2: ', q2)\n",
    "print('Q3: ', q3)\n",
    "print(\"IQR: \", q3-q1)\n",
    "# plt.scatter(data5,data5, c='b')\n",
    "fig = plt.figure()\n",
    "aix = fig.add_subplot()\n",
    "# aix.plot(data5)\n",
    "q4 = q3-q1\n",
    "iqr_data = [q1,q2,q3,q4]\n",
    "aix.scatter(data5,data5,color='b', label='Data Distribution')\n",
    "aix.scatter(iqr_data,iqr_data,color='y', label=\"Quartile\")\n",
    "# to mark specific poin use annotate method\n",
    "#  plt.annotate(etiqueta, (xitem,yitem), textcoords=\"offset points\",xytext=(0,10),ha=\"center\")\n",
    "aix.grid()\n",
    "plt.annotate(text=\"Inter Quartile Range\",xy = (0,9),textcoords = \"Inter Quartile Range\", xytext=(0,9), ha='center', color='r')\n",
    "plt.legend()\n",
    "plt.show()"
   ]
  },
  {
   "cell_type": "code",
   "execution_count": 38,
   "id": "7bb07004-5f79-42bd-a35f-2639fb2fcb1e",
   "metadata": {},
   "outputs": [
    {
     "data": {
      "text/plain": [
       "[(-1.0, 5.0), (-3.0, 5.0)]"
      ]
     },
     "execution_count": 38,
     "metadata": {},
     "output_type": "execute_result"
    },
    {
     "data": {
      "image/png": "[encoded data removed]",
      "text/plain": [
       "<Figure size 400x400 with 1 Axes>"
      ]
     },
     "metadata": {},
     "output_type": "display_data"
    }
   ],
   "source": [
    "import matplotlib.pyplot as plt\n",
    "import numpy as np\n",
    "\n",
    "from matplotlib.patches import Ellipse\n",
    "from matplotlib.text import OffsetFrom\n",
    "# Create our figure and data we'll use for plotting\n",
    "fig, ax = plt.subplots(figsize=(4, 4))\n",
    "\n",
    "t = np.arange(0.0, 5.0, 0.01)\n",
    "s = np.cos(2*np.pi*t)\n",
    "\n",
    "# Plot a line and add some simple annotations\n",
    "line, = ax.plot(t, s)\n",
    "ax.annotate('figure pixels',\n",
    "            xy=(10, 10), xycoords='figure pixels')\n",
    "ax.annotate('figure points',\n",
    "            xy=(107, 110), xycoords='figure points',\n",
    "            fontsize=12)\n",
    "ax.annotate('figure fraction',\n",
    "            xy=(.025, .975), xycoords='figure fraction',\n",
    "            horizontalalignment='left', verticalalignment='top',\n",
    "            fontsize=20)\n",
    "\n",
    "# The following examples show off how these arrows are drawn.\n",
    "\n",
    "ax.annotate('point offset from data',\n",
    "            xy=(3, 1), xycoords='data',\n",
    "            xytext=(-10, 90), textcoords='offset points',\n",
    "            arrowprops=dict(facecolor='black', shrink=0.05),\n",
    "            horizontalalignment='center', verticalalignment='bottom')\n",
    "\n",
    "ax.annotate('axes fraction',\n",
    "            xy=(2, 1), xycoords='data',\n",
    "            xytext=(0.36, 0.68), textcoords='axes fraction',\n",
    "            arrowprops=dict(facecolor='black', shrink=0.05),\n",
    "            horizontalalignment='right', verticalalignment='top')\n",
    "\n",
    "# You may also use negative points or pixels to specify from (right, top).\n",
    "# E.g., (-10, 10) is 10 points to the left of the right side of the axes and 10\n",
    "# points above the bottom\n",
    "\n",
    "ax.annotate('pixel offset from axes fraction',\n",
    "            xy=(1, 0), xycoords='axes fraction',\n",
    "            xytext=(-20, 20), textcoords='offset pixels',\n",
    "            horizontalalignment='right',\n",
    "            verticalalignment='bottom')\n",
    "\n",
    "ax.set(xlim=(-1, 5), ylim=(-3, 5))"
   ]
  },
  {
   "cell_type": "code",
   "execution_count": 69,
   "id": "0b94f78a-7b8d-4eb1-b183-00667eba967e",
   "metadata": {},
   "outputs": [
    {
     "name": "stdout",
     "output_type": "stream",
     "text": [
      "Q1:  20.0\n",
      "Q2:  29.0\n",
      "Q3:  39.0\n",
      "IQR:  19.0\n"
     ]
    },
    {
     "data": {
      "image/png": "[encoded data removed]",
      "text/plain": [
       "<Figure size 640x480 with 1 Axes>"
      ]
     },
     "metadata": {},
     "output_type": "display_data"
    }
   ],
   "source": [
    "import statistics as st\n",
    "import numpy as np\n",
    "import matplotlib.pyplot as plt\n",
    "data7 = [11,13,16,19,20,21,23,25,26,29,33,34,36,38,39,46,52,55,58]\n",
    "range = np.max(data7)-np.min(data7)\n",
    "q1,q2,q3 = st.quantiles(data7, n=4)\n",
    "# print(range)\n",
    "print(\"Q1: \", q1)\n",
    "print(\"Q2: \", q2)\n",
    "print(\"Q3: \", q3)\n",
    "print(\"IQR: \", q3-q1)\n",
    "iqr_data = [q1,q2,q3,q3-q1]\n",
    "fig = plt.figure()\n",
    "aix = fig.add_subplot()\n",
    "aix.scatter(data7,data7, c='b', label='Data Distribution')\n",
    "aix.scatter(iqr_data,iqr_data,c='y', label=\"Quantile Data\")\n",
    "plt.legend()\n",
    "plt.show()"
   ]
  },
  {
   "cell_type": "code",
   "execution_count": 8,
   "id": "4de27ec9-d545-4ad4-8d11-b7e0fdee6b17",
   "metadata": {},
   "outputs": [
    {
     "name": "stdout",
     "output_type": "stream",
     "text": [
      "Q1:  8.0\n",
      "Q2:  10.0\n",
      "Q3:  12.0\n",
      "IQR = Q3-Q1:  4.0\n",
      "upperfence:  18.0\n",
      "lowerfence:  2.0\n"
     ]
    }
   ],
   "source": [
    "import statistics as st\n",
    "import numpy as np\n",
    "import pandas as pd\n",
    "import matplotlib.pyplot as plt\n",
    "data8 = [0,0,2,5,8,8,8,9,9,10,10,10,11,12,12,12,14,15,20,25]\n",
    "q1,q2,q3 = st.quantiles(data8)\n",
    "iqr = q3-q1\n",
    "print(\"Q1: \",q1)\n",
    "print(\"Q2: \",q2)\n",
    "print(\"Q3: \",q3)\n",
    "print(\"IQR = Q3-Q1: \", iqr)\n",
    "# Any observation that are more than 1.5times of IQR above Q3 are considered outliers\n",
    "upperfence = q3+iqr*1.5\n",
    "print(\"upperfence: \", upperfence)\n",
    "# Any observation that is less that 1.5times IQR below Q1 are considered outlier\n",
    "lowerfence = q1-iqr*1.5\n",
    "print(\"lowerfence: \", lowerfence)"
   ]
  },
  {
   "cell_type": "markdown",
   "id": "efd0cfa2-81b7-49a5-9a98-eb980def8ec4",
   "metadata": {},
   "source": [
    "### **Variance**\n",
    "##### The **Variance** is a simple statistic that gives you a extremely rough idea of how spead out a data set is. As a measure of spread, it's actually pretty weak. A large variance of 22,000 for example does not tell you much about the sprad of data-other than its big! The most important reason the variance exists is to give you a way to find the standard deviation which is the square root of the variance.\n",
    "\n",
    "## Population Variance Formula\n",
    "### σ2 = ∑ (xi – x̄)2/n\n",
    "- where,\r",
    " - \r\n",
    "x̄ is the mean  population data set\n",
    " - N \n",
    "n is the total number of observati\n",
    "## Sample Variance Formula\n",
    "## σ2 = ∑ (xi – x̄)2/(n-1)    \n",
    "----\n",
    "## Standard deviation --> \n",
    "### Sample deviation --> S\n",
    "### Population deviation --> σ\n",
    "-----ons"
   ]
  },
  {
   "cell_type": "code",
   "execution_count": 17,
   "id": "7427668d-1fd0-4353-aa67-4377d32c4e14",
   "metadata": {},
   "outputs": [
    {
     "name": "stdout",
     "output_type": "stream",
     "text": [
      "Sample mean:  4\n",
      "Sample variance:  4\n",
      "Population variance: 2.67\n",
      "Sample standard deviation:  2.0\n",
      "Population standard deviation: 1.63\n"
     ]
    }
   ],
   "source": [
    "import statistics as st\n",
    "import numpy as np\n",
    "import pandas as pd\n",
    "import matplotlib.pyplot as plt\n",
    "data9 = [2,4,6]\n",
    "print(\"Sample mean: \", st.mean(data9))\n",
    "print(\"Sample variance: \", st.variance(data9))\n",
    "print(\"Population variance: %0.2f\" % st.pvariance(data9))\n",
    "print(\"Sample standard deviation: \", st.stdev(data9))\n",
    "print(\"Population standard deviation: %0.2f\" % st.pstdev(data9))"
   ]
  },
  {
   "cell_type": "code",
   "execution_count": 20,
   "id": "f9faf9f1-9a96-43f7-8508-178bdce9e6d7",
   "metadata": {},
   "outputs": [
    {
     "name": "stdout",
     "output_type": "stream",
     "text": [
      "standard mean of ML marks:  69\n",
      "standard deviation of ML marks: 6.16\n"
     ]
    }
   ],
   "source": [
    "import statistics as st\n",
    "import numpy as np\n",
    "import pandas as pd\n",
    "import matplotlib.pyplot as plt\n",
    "ml_marks = [75,69,80,70,60,63,64,69,71]\n",
    "print(\"standard mean of ML marks: \", st.mean(ml_marks))\n",
    "print(\"standard deviation of ML marks: %0.2f\" % st.stdev(ml_marks))"
   ]
  },
  {
   "cell_type": "code",
   "execution_count": 22,
   "id": "a6b09b02-2d9e-4d38-9d7a-58cf46a69a06",
   "metadata": {},
   "outputs": [
    {
     "name": "stdout",
     "output_type": "stream",
     "text": [
      "Sample mean of AI marks:  69\n",
      "Sample deviation of AI marks: 23.38\n"
     ]
    }
   ],
   "source": [
    "import statistics as st\n",
    "import numpy as np\n",
    "import pandas as pd\n",
    "import matplotlib.pyplot as plt\n",
    "AI_marks = [44,95,25,60,76,81,93,84,71,33,85,81]\n",
    "print(\"Sample mean of AI marks: \", st.mean(AI_marks))\n",
    "print(\"Sample deviation of AI marks: %0.2f\" % st.stdev(AI_marks))"
   ]
  },
  {
   "cell_type": "markdown",
   "id": "963b6286-c7ad-43ef-831e-ec016c7c6ea3",
   "metadata": {},
   "source": [
    "## Measure of Symetry\n",
    " - skew symetry\n",
    " - Symmetry, Skewness and Kurtosis\r\n",
    "We consider a random variable x and a data set S = {x1, x2, …, xn} of size n which contains possible values of x. The data set can represent either the population being studied or a sample drawn from the population.- \n",
    "\r\n",
    "Looking at S as representing a distribution, the skewness of S is a measure of symmetry while kurtosis is a measure of the relat\n",
    " ve size of the tails of this distribut.  \n",
    "\n",
    ".\r\n",
    "\r\n",
    "Symmetry and Skewness\r\n",
    "\r\n",
    "Definition 1: Skewness as a measure of symmetry. If the skewness of S is zero then the distribution represented by S is perfectly symmetric. If the skewness is negative, then the distribution is skewed to the left, while if the skewness is positive then the distribution is skewed to th.\n",
    "\n",
    "## Kurtosis \n",
    "- Kurtosis provides a measurement of the extremities (i.e. tails) of the distribution of data, and therefore indicates the presence of outliers. formula:"
   ]
  },
  {
   "cell_type": "markdown",
   "id": "80f16f9c-acee-442c-9204-357feb2d078e",
   "metadata": {},
   "source": [
    "#### Left skewed --> When the **mean** is less than **median** then the graph is left skewed\n",
    "#### Righ skewed --> When **mean** is greater than **median** then the graph is right skewed"
   ]
  },
  {
   "cell_type": "code",
   "execution_count": 37,
   "id": "ad7183a8-a2b0-4ac7-a7c3-cb822980d871",
   "metadata": {},
   "outputs": [
    {
     "name": "stdout",
     "output_type": "stream",
     "text": [
      "Sample mean:  36.45454545454545\n",
      "Sample mode:  15\n",
      "Sample median:  30\n",
      "Sample skewed:  1.1200720344327073\n"
     ]
    },
    {
     "data": {
      "image/png": "[encoded data removed]",
      "text/plain": [
       "<Figure size 640x480 with 1 Axes>"
      ]
     },
     "metadata": {},
     "output_type": "display_data"
    }
   ],
   "source": [
    "import scipy as scp\n",
    "from scipy import stats\n",
    "import statistics as st\n",
    "import numpy as np\n",
    "import pandas as pd\n",
    "import matplotlib.pyplot as plt\n",
    "# in this data example mean is greater than the meadian\n",
    "data11 = [30,10,15,27,15,45,31,19,54,60,95]\n",
    "# print(data11)\n",
    "print(\"Sample mean: \" , st.mean(data11))\n",
    "print(\"Sample mode: \", st.mode(data11))\n",
    "print(\"Sample median: \", st.median(data11))\n",
    "print(\"Sample skewed: \", stats.skew(data11))\n",
    "fig = plt.figure()\n",
    "ax = fig.add_subplot()\n",
    "ax.hist(data11)\n",
    "plt.show()"
   ]
  },
  {
   "cell_type": "code",
   "execution_count": 44,
   "id": "f4751b96-e5e3-4c7f-aefb-fe07ffe94e52",
   "metadata": {},
   "outputs": [
    {
     "name": "stdout",
     "output_type": "stream",
     "text": [
      "Mean:  74\n",
      "Median:  88.5\n",
      "Mode:  91\n",
      "Skewed:  -1.1697290428681582\n"
     ]
    },
    {
     "data": {
      "image/png": "[encoded data removed]",
      "text/plain": [
       "<Figure size 640x480 with 1 Axes>"
      ]
     },
     "metadata": {},
     "output_type": "display_data"
    }
   ],
   "source": [
    "import statistics as st\n",
    "import scipy as scp\n",
    "from scipy import stats\n",
    "import pandas as pd\n",
    "import numpy as np\n",
    "import matplotlib.pyplot as plt\n",
    "# in this data example data set is left skewed because mean is less than median\n",
    "data12 = [20,33,88,91,85,89, 91,95]\n",
    "print(\"Mean: \", st.mean(data12))\n",
    "print(\"Median: \", st.median(data12))\n",
    "print(\"Mode: \", st.mode(data12))\n",
    "print(\"Skewed: \", stats.skew(data12))\n",
    "fig = plt.figure()\n",
    "ax = fig.add_subplot()\n",
    "ax.hist(data12)\n",
    "plt.grid()\n",
    "plt.show()"
   ]
  },
  {
   "cell_type": "code",
   "execution_count": 45,
   "id": "1f62b1c4-64b3-4b3e-bd3c-541b6207f2d9",
   "metadata": {},
   "outputs": [
    {
     "name": "stdout",
     "output_type": "stream",
     "text": [
      "standart mean:  24.930817572468694\n",
      "standard mode:  25.57965630298766\n",
      "standard median:  25.136480415524183\n",
      "Skewed:  -0.08668530077333121\n"
     ]
    },
    {
     "data": {
      "image/png": "[encoded data removed]",
      "text/plain": [
       "<Figure size 640x480 with 1 Axes>"
      ]
     },
     "metadata": {},
     "output_type": "display_data"
    }
   ],
   "source": [
    "import pandas as pd\n",
    "import numpy as np\n",
    "import matplotlib.pyplot as plt\n",
    "from scipy import stats\n",
    "import statistics as st\n",
    "mean = 25\n",
    "stdev=5\n",
    "data13 = np.random.normal(loc=mean, scale=stdev, size=1000)\n",
    "print(\"standart mean: \", st.mean(data13))\n",
    "print(\"standard mode: \", st.mode(data13))\n",
    "print(\"standard median: \", st.median(data13))\n",
    "print(\"Skewed: \", stats.skew(data13))\n",
    "fig = plt.figure()\n",
    "ax = fig.add_subplot()\n",
    "ax.hist(data13, 50)\n",
    "plt.show()"
   ]
  },
  {
   "cell_type": "code",
   "execution_count": 1,
   "id": "973ffbfe-6a91-4fc4-a70d-22cbd93e9f61",
   "metadata": {},
   "outputs": [
    {
     "name": "stdout",
     "output_type": "stream",
     "text": [
      "Mean:  24.929824560517496\n",
      "Median:  25.0060715168201\n",
      "Mode:  26.420668893782434\n",
      "Skewed:  -0.11262498721695534\n",
      "Kurtosis skewed:  2.9300853818794548\n"
     ]
    },
    {
     "data": {
      "image/png": "[encoded data removed]",
      "text/plain": [
       "<Figure size 640x480 with 1 Axes>"
      ]
     },
     "metadata": {},
     "output_type": "display_data"
    }
   ],
   "source": [
    "# Kurtosis Curve\n",
    "import statistics as st\n",
    "import pandas as pd\n",
    "import numpy as np\n",
    "from scipy import stats\n",
    "import matplotlib.pyplot as plt\n",
    "# mesokurtic curve\n",
    "# when Kurtosis skewed is 3 or close to 3 is called mesokuric curve\n",
    "mean=25\n",
    "stdev=5\n",
    "data14 = np.random.normal(loc=mean, scale=stdev, size=1000)\n",
    "# print(data14)\n",
    "print(\"Mean: \", st.mean(data14))\n",
    "print(\"Median: \", st.median(data14))\n",
    "print(\"Mode: \", st.mode(data14))\n",
    "print(\"Skewed: \", stats.skew(data14))\n",
    "print(\"Kurtosis skewed: \", stats.kurtosis(data14, fisher=False))\n",
    "plt.hist(data14, 50)\n",
    "plt.show()"
   ]
  },
  {
   "cell_type": "code",
   "execution_count": 9,
   "id": "6a4766df-325f-4f6c-96dc-7386bf1c7d3d",
   "metadata": {},
   "outputs": [
    {
     "name": "stdout",
     "output_type": "stream",
     "text": [
      "Mean:  2.079340271802601\n",
      "Median:  2.130261744435942\n",
      "Mode:  18.74154874913429\n",
      "Sample variance:  457.8535419817209\n",
      "Population variance:  457.3956884397392\n",
      "Sample deviation:  21.39751251855507\n",
      "Population deviation:  21.386811086268548\n",
      "skewed:  0.2933015284155868\n",
      "kurtosis skewed:  6.5110636463083225\n"
     ]
    },
    {
     "data": {
      "image/png": "[encoded data removed]",
      "text/plain": [
       "<Figure size 640x480 with 1 Axes>"
      ]
     },
     "metadata": {},
     "output_type": "display_data"
    }
   ],
   "source": [
    "import matplotlib.pyplot as plt\n",
    "import numpy as np\n",
    "import statistics as st\n",
    "import scipy as scp\n",
    "from scipy import stats\n",
    "import pandas as pd\n",
    "mean=1.45\n",
    "stdev=15\n",
    "data15=np.random.laplace(mean, stdev, size=1000)\n",
    "# print(data15)\n",
    "# mean is more than median, this show's that graph is left skewed\n",
    "# kurtosis skewed is more than 3, that means the graph is leptokurtic skewed\n",
    "print(\"Mean: \", st.mean(data15))\n",
    "print(\"Median: \", st.median(data15))\n",
    "print(\"Mode: \", st.mode(data15))\n",
    "print(\"Sample variance: \", st.variance(data15))\n",
    "print(\"Population variance: \", st.pvariance(data15))\n",
    "print(\"Sample deviation: \", st.stdev(data15))\n",
    "print(\"Population deviation: \", st.pstdev(data15))\n",
    "print(\"skewed: \", stats.skew(data15))\n",
    "print(\"kurtosis skewed: \", stats.kurtosis(data15, fisher=False))\n",
    "plt.hist(data15,50)\n",
    "plt.show()"
   ]
  },
  {
   "cell_type": "code",
   "execution_count": 15,
   "id": "3b106323-7dd2-4dc5-8a25-654e36c5a663",
   "metadata": {},
   "outputs": [
    {
     "name": "stdout",
     "output_type": "stream",
     "text": [
      "Q1:  0.25738065463224225\n",
      "Q2:  0.48510612672365677\n",
      "Q3:  0.7470521652687188\n",
      "upperfence:  1.4815594312234335\n",
      "lowerfence:  -0.47712661132247247\n",
      "Mean:  0.4954774745749369\n",
      "Mode:  0.8855574127541764\n",
      "Range:  0.999054566282986\n",
      "Sample variance:  0.0793748869499594\n",
      "Population variance:  0.07929551206300943\n",
      "Sample standard deviation:  0.2817354911081658\n",
      "Population standard deviation:  0.2815945881280559\n",
      "skewed:  0.0425095946041149\n",
      "kurtosis skewed:  1.8472707710795209\n"
     ]
    },
    {
     "data": {
      "image/png": "[encoded data removed]",
      "text/plain": [
       "<Figure size 640x480 with 1 Axes>"
      ]
     },
     "metadata": {},
     "output_type": "display_data"
    }
   ],
   "source": [
    "import pandas as pd\n",
    "import numpy as np\n",
    "import matplotlib.pyplot as plt\n",
    "from scipy import stats\n",
    "import statistics as st\n",
    "data16 = np.random.rand(1000)\n",
    "# print(data16)\n",
    "q1,q2,q3 = st.quantiles(data16, n=4)\n",
    "iqr = q3-q1\n",
    "upperfence = q3+iqr*1.5\n",
    "lowerfence = q1-1.5*iqr\n",
    "print(\"Q1: \", q1)\n",
    "print(\"Q2: \", q2)\n",
    "print(\"Q3: \", q3)\n",
    "print(\"upperfence: \", upperfence)\n",
    "print(\"lowerfence: \", lowerfence)\n",
    "print(\"Mean: \", st.mean(data16))\n",
    "print(\"Mode: \", st.mode(data16))\n",
    "print(\"Range: \",np.max(data16)-np.min(data16))\n",
    "print(\"Sample variance: \", st.variance(data16))\n",
    "print(\"Population variance: \", st.pvariance(data16))\n",
    "print(\"Sample standard deviation: \", st.stdev(data16))\n",
    "print(\"Population standard deviation: \", st.pstdev(data16))\n",
    "print(\"skewed: \", stats.skew(data16))\n",
    "# kurtosis skew is less than 3, hence the graph is Platykurtic\n",
    "print(\"kurtosis skewed: \", stats.kurtosis(data16, fisher=False))\n",
    "plt.hist(data16, 50)\n",
    "plt.show()"
   ]
  },
  {
   "attachments": {},
   "cell_type": "markdown",
   "id": "4dcf7ad0-38f9-4bf7-aa91-c4d69531e9cd",
   "metadata": {},
   "source": [
    "## Analysis of strategy\n",
    "  - Univariate Analysis\n",
    "  - Bivariate Analysis\n",
    "  - Multivariate Analysis\n",
    "- **Univariate Analysis** - This type of data consists of only one variable. The analysis of univariate data is thus the simplest form of analysis since the information deals with only one quantity that changes. It does not deal with causes or relationships and the main purpose of the analysis is to describe the data and find patterns that exist within it. The example of a univariate data can be height.\n",
    "- **Bivariate Analysis** - This type of data involves two different variables. The analysis of this type of data deals with causes and relationships and the analysis is done to find out the relationship among the two variables. Example of bivariate data can be temperature and ice cream sales in summer season.a |\n",
    "- **** - "
   ]
  },
  {
   "cell_type": "markdown",
   "id": "083dfe4c-5152-4d8b-843e-a2430c7c25e6",
   "metadata": {},
   "source": [
    " |Name |Gender|Age  |Origin | \n",
    "|-----|:-----|:---:|:-----:|\n",
    "|Jack |Male  |23   |USA    |\n",
    "|Susan|Female|22   |Canada |"
   ]
  },
  {
   "cell_type": "markdown",
   "id": "670c528f-4437-4c32-ae4e-723e3b1afa9b",
   "metadata": {},
   "source": [
    "- **Univariate Analysis** - This type of data consists of only one variable. The analysis of univariate data is thus the simplest form of analysis since the information deals with only one quantity that changes. It does not deal with causes or relationships and the main purpose of the analysis is to describe the data and find patterns that exist within it. The example of a univariate data can be height\n",
    "| Heights(In CM) | 164|167.3|170|174.2|178|180|186|\r\n",
    "|:--:|:--:|:--:|:--:|:--:|:--:|:--:|:--:|"
   ]
  },
  {
   "cell_type": "markdown",
   "id": "4d229af5-9a18-4b20-a101-dbec325f2254",
   "metadata": {},
   "source": [
    "- **Bivariate Analysis** - This type of data involves two different variables. The analysis of this type of data deals with causes and relationships and the analysis is done to find out the relationship among the two variables. Example of bivariate data can be temperature and ice cream sales in summer season\n",
    " |Temperature(In Celsius) |Ice Creame Sales| \n",
    "|-----|:-----|\n",
    "|20|2000|\n",
    "|25|2500|\n",
    "|35|5000|\n",
    "|43|7800|"
   ]
  },
  {
   "cell_type": "markdown",
   "id": "c6907dc6-d662-43b4-badb-19906fbe64eb",
   "metadata": {},
   "source": [
    "- **Multivariate Analysis** - When the data involves three or more variables, it is categorized under multivariate. Example of this type of data is suppose an advertiser wants to compare the popularity of four advertisements on a website, then their click rates could be measured for both men and women and relationships between variables can then be examined. It is similar to bivariate but contains more than one dependent variable. The ways to perform analysis on this data depends on the goals to be achieved. Some of the techniques are regression analysis, path analysis, factor analysis and multivariate analysis of variance (MANOVA).\n",
    "There are a lots of different tools, techniques and methods that can be used to conduct your analysis. You could use software libraries, visualization tools and statistic testing methods. However, this blog we will be compare Univariate, Bivariate and Multivariate analysis."
   ]
  },
  {
   "cell_type": "markdown",
   "id": "142ea5dc-09e8-4b33-87a9-66c0ebc9ea17",
   "metadata": {},
   "source": [
    "- **Variance**\n",
    "- **Covariance**\n",
    "- **correlation**"
   ]
  },
  {
   "cell_type": "markdown",
   "id": "fba2cf15-2c6b-49a2-9379-d52aff9dc94b",
   "metadata": {},
   "source": [
    "### Strong +ve correlation\n",
    "  - Let us compute the variance and covaraince for two varaibles weight and height of six person"
   ]
  },
  {
   "cell_type": "code",
   "execution_count": 38,
   "id": "1967c12d-7c1e-4786-941e-3418f0a315a9",
   "metadata": {},
   "outputs": [
    {
     "name": "stdout",
     "output_type": "stream",
     "text": [
      "height_upperfence:  218.375\n",
      "height_lowerfence 133.375\n",
      "weight_upperfence 114.875\n",
      "weight_lowerfence 29.875\n",
      "Q1(Weight):  61.75\n",
      "Q2(Weight):  73.5\n",
      "Q3(Weight):  83.0\n",
      "Q1(Height):  165.25\n",
      "Q2(Height):  175.5\n",
      "Q3(Height):  186.5\n",
      "weight mean:  73\n",
      "weight mode 61\n",
      "weight median:  73.5\n",
      "weight Sample variance:  103.2\n",
      "weight Population variance:  86\n",
      "weight Sample Std deviation:  10.158740079360236\n",
      "weight Population standard variation:  9.273618495495704\n",
      "Height mode:  157\n",
      "Height Median:  175.5\n",
      "Height Mean:  175.33333333333334\n",
      "Height Sample variance:  157.86666666666667\n",
      "Height Population variance:  131.55555555555554\n",
      "Height Sample standard deviation:  12.564500255349063\n",
      "Height Population standard deviation:  11.469767022723502\n",
      "Weight Skew:  -0.02758512802878657\n",
      "Height skew:  -0.1963397091030032\n",
      "weight Kurtosis skew:  1.5886965927528394\n",
      "Height kurtosis skew:  1.7977238746347712\n",
      "Covariance of height and weight:  114.6\n",
      "Peson Correlation coefficient(r):  0.8978412395409838\n"
     ]
    },
    {
     "data": {
      "image/png": "[encoded data removed]",
      "text/plain": [
       "<Figure size 640x480 with 1 Axes>"
      ]
     },
     "metadata": {},
     "output_type": "display_data"
    }
   ],
   "source": [
    "import pandas as pd\n",
    "import numpy as np\n",
    "from scipy import stats\n",
    "import matplotlib.pyplot as plt\n",
    "import statistics as st\n",
    "weight = [61,62,73,74,82,86]\n",
    "height = [157,168,170,181,191,185]\n",
    "wq1,wq2,wq3 = st.quantiles(weight, n=4)\n",
    "hq1,hq2,hq3 = st.quantiles(height, n=4)\n",
    "h_iqr = hq3-hq1\n",
    "w_iqr = wq3-wq1\n",
    "height_upperfence = hq3+h_iqr*1.5\n",
    "height_lowerfence = hq1-h_iqr*1.5\n",
    "weight_upperfence = wq3+w_iqr*1.5\n",
    "weight_lowerfence = wq1-w_iqr*1.5\n",
    "print(\"height_upperfence: \",height_upperfence)\n",
    "print(\"height_lowerfence\",height_lowerfence)\n",
    "print(\"weight_upperfence\",weight_upperfence)\n",
    "print(\"weight_lowerfence\",weight_lowerfence)\n",
    "print(\"Q1(Weight): \", wq1)\n",
    "print(\"Q2(Weight): \", wq2)\n",
    "print(\"Q3(Weight): \", wq3)\n",
    "print(\"Q1(Height): \", hq1)\n",
    "print(\"Q2(Height): \", hq2)\n",
    "print(\"Q3(Height): \", hq3)\n",
    "print(\"weight mean: \", st.mean(weight))\n",
    "print(\"weight mode\", st.mode(weight))\n",
    "print(\"weight median: \", st.median(weight))\n",
    "print(\"weight Sample variance: \", st.variance(weight))\n",
    "print(\"weight Population variance: \", st.pvariance(weight))\n",
    "print(\"weight Sample Std deviation: \", st.stdev(weight))\n",
    "print(\"weight Population standard variation: \", st.pstdev(weight))\n",
    "print(\"Height mode: \", st.mode(height))\n",
    "print(\"Height Median: \", st.median(height))\n",
    "print(\"Height Mean: \",st.mean(height))\n",
    "print(\"Height Sample variance: \", st.variance(height))\n",
    "print(\"Height Population variance: \", st.pvariance(height))\n",
    "print(\"Height Sample standard deviation: \", st.stdev(height))\n",
    "print(\"Height Population standard deviation: \", st.pstdev(height))\n",
    "print(\"Weight Skew: \", stats.skew(weight))\n",
    "print(\"Height skew: \", stats.skew(height))\n",
    "print(\"weight Kurtosis skew: \", stats.kurtosis(weight, fisher=False))\n",
    "print(\"Height kurtosis skew: \", stats.kurtosis(height, fisher=False))\n",
    "print(\"Covariance of height and weight: \", st.covariance(weight, height))\n",
    "print(\"Peson Correlation coefficient(r): \", st.correlation(weight, height))\n",
    "plt.scatter(x=weight, y=height)\n",
    "plt.xlabel(\"Weight (In KG)\", c='b')\n",
    "plt.ylabel(\"Height (In CM)\", c='b')\n",
    "# plt.legend()\n",
    "plt.grid()\n",
    "plt.show()"
   ]
  },
  {
   "cell_type": "code",
   "execution_count": 4,
   "id": "64b7a1af-69bf-4cf2-9168-61b8c4847c42",
   "metadata": {},
   "outputs": [
    {
     "name": "stdout",
     "output_type": "stream",
     "text": [
      "Sample variance of weight:  103.2\n",
      "Sample variance of height:  157.86666666666667\n",
      "Covariance of weight and height:  114.6\n",
      "\n",
      "covaiance Matrix:\n",
      " [[103.2        114.6       ]\n",
      " [114.6        157.86666667]]\n"
     ]
    }
   ],
   "source": [
    "import numpy as np\n",
    "import pandas as pd\n",
    "import statistics as st\n",
    "from scipy import stats\n",
    "import matplotlib.pyplot as plt\n",
    "weight = [61,62,73,74,82,86]\n",
    "height = [157,168,170,181,191,185]\n",
    "print(\"Sample variance of weight: \", st.variance(weight))\n",
    "print(\"Sample variance of height: \", st.variance(height))\n",
    "print(\"Covariance of weight and height: \", st.covariance(weight, height))\n",
    "print(\"\\ncovaiance Matrix:\\n\", np.cov(weight, height))"
   ]
  },
  {
   "cell_type": "code",
   "execution_count": 7,
   "id": "dc386e6c-8c54-4ae1-baeb-bd9e995ee32e",
   "metadata": {},
   "outputs": [
    {
     "name": "stdout",
     "output_type": "stream",
     "text": [
      "Person Correlation Coefficient:  0.8978412395409838\n",
      "\n",
      "Correlation Matrix:\n",
      " [[1.         0.89784124]\n",
      " [0.89784124 1.        ]]\n"
     ]
    }
   ],
   "source": [
    "import numpy as np\n",
    "import pandas as pd\n",
    "import statistics as st\n",
    "from scipy import stats\n",
    "import matplotlib.pyplot as plt\n",
    "weight = [61,62,73,74,82,86]\n",
    "height = [157,168,170,181,191,185]\n",
    "print(\"Person Correlation Coefficient: \", st.correlation(weight, height))\n",
    "print(\"\\nCorrelation Matrix:\\n\", np.corrcoef(weight, height))"
   ]
  },
  {
   "cell_type": "code",
   "execution_count": 11,
   "id": "521b79e3-0a0f-447b-8c1c-9ff58a371266",
   "metadata": {},
   "outputs": [
    {
     "name": "stdout",
     "output_type": "stream",
     "text": [
      "Mean(Yoga):  5\n",
      "Mean(Stress):  50\n",
      "variance(Yoga):  7.5\n",
      "variance(Stress):  750\n",
      "Covariance(Yoga and Stress):  -75.0\n",
      "pearson Correlation(Yoga and Stress):  -1.0\n"
     ]
    },
    {
     "data": {
      "image/png": "[encoded data removed]",
      "text/plain": [
       "<Figure size 640x480 with 1 Axes>"
      ]
     },
     "metadata": {},
     "output_type": "display_data"
    }
   ],
   "source": [
    "## Perfect negative correlation\n",
    "import matplotlib.pyplot as plt\n",
    "import statistics as st\n",
    "from scipy import stats\n",
    "yoga = [1,2,3,4,5,6,7,8,9]\n",
    "stress = [90,80,70,60,50,40,30,20,10]\n",
    "print(\"Mean(Yoga): \", st.mean(yoga))\n",
    "print(\"Mean(Stress): \", st.mean(stress))\n",
    "# print(\"Mode(Yoga): \", st.mode(yoga))\n",
    "# print(\"Mode(Stress): \", st.mode(stress))\n",
    "# print(\"Median(Yoga): \", st.median(yoga))\n",
    "# print(\"Median(Stress): \", st.median(stress))\n",
    "print(\"variance(Yoga): \", st.variance(yoga))\n",
    "print(\"variance(Stress): \", st.variance(stress))\n",
    "# print(\"covariance(Yoga): \", st.covariance(yoga))\n",
    "print(\"Covariance(Yoga and Stress): \", st.covariance(yoga,stress))\n",
    "print(\"pearson Correlation(Yoga and Stress): \", st.correlation(yoga, stress))\n",
    "plt.scatter(x=yoga, y=stress)\n",
    "plt.xlabel(\"Yoga -->\", c='b')\n",
    "plt.ylabel(\"Stress --> \", c='b')\n",
    "plt.show()"
   ]
  },
  {
   "cell_type": "code",
   "execution_count": 12,
   "id": "6ae3b533-87d5-47c9-8064-97a5b1a32e2e",
   "metadata": {},
   "outputs": [
    {
     "name": "stdout",
     "output_type": "stream",
     "text": [
      "var(Yoga):  7.5\n",
      "var(stress):  750\n",
      "Cov(Yoga, Stress):  -75.0\n",
      "Covarinace Matrix:\n",
      " [[  7.5 -75. ]\n",
      " [-75.  750. ]]\n"
     ]
    }
   ],
   "source": [
    "import matplotlib.pyplot as plt\n",
    "import statistics as st\n",
    "from scipy import stats\n",
    "yoga = [1,2,3,4,5,6,7,8,9]\n",
    "stress = [90,80,70,60,50,40,30,20,10]\n",
    "print(\"var(Yoga): \", st.variance(yoga))\n",
    "print(\"var(stress): \", st.variance(stress))\n",
    "print(\"Cov(Yoga, Stress): \", st.covariance(yoga, stress))\n",
    "print(\"Covarinace Matrix:\\n\", np.cov(yoga, stress))"
   ]
  },
  {
   "cell_type": "code",
   "execution_count": 14,
   "id": "70198406-70ac-45e1-ae3f-fbe47a712a01",
   "metadata": {},
   "outputs": [
    {
     "name": "stdout",
     "output_type": "stream",
     "text": [
      "Correlation coefficient:  -1.0\n",
      "Correlation Matrix:\n",
      " [[ 1. -1.]\n",
      " [-1.  1.]]\n"
     ]
    }
   ],
   "source": [
    "import matplotlib.pyplot as plt\n",
    "import statistics as st\n",
    "from scipy import stats\n",
    "yoga = [1,2,3,4,5,6,7,8,9]\n",
    "stress = [90,80,70,60,50,40,30,20,10]\n",
    "print(\"Correlation coefficient: \", st.correlation(yoga, stress))\n",
    "print(\"Correlation Matrix:\\n\", np.corrcoef(yoga, stress))"
   ]
  },
  {
   "cell_type": "markdown",
   "id": "a420e9d9-74e2-4e87-9287-0c42eb684791",
   "metadata": {},
   "source": [
    "\n",
    "|Body Weight(KG)|Body Height(CM)|\r\n",
    "|:------------|-------------:|\r\n",
    "|865785|\r\n",
    "|868191|\r\n",
    "|70|181|\r\n",
    "813|170|\r",
    "9162|168|9561|157|"
   ]
  },
  {
   "cell_type": "markdown",
   "id": "2b83127e-6c8b-44c5-a3c7-f321093c4abd",
   "metadata": {},
   "source": [
    "- Original Data\n",
    "|Body Weight(KG)|Body Height(CM)|\n",
    "|:------------:|:-------------:|\n",
    "|86|157|\n",
    "|82|168|\n",
    "|74|170|\n",
    "|73|181|\n",
    "|62|191|\n",
    "|61|185|\n",
    "|**mean=73**|**mean=175.33**|\n",
    "|**SD=10.16**|**SD=12.56**|"
   ]
  },
  {
   "cell_type": "markdown",
   "id": "9aac833c-b1ab-4aa7-8a34-b353b5a42341",
   "metadata": {},
   "source": [
    "- Centered Data(Subtract all the data from mean)(Data - mean)\n",
    "|Body Weight(KG)|Body Height(CM)|\n",
    "|:------------:|:-------------:| \n",
    "|13|-18.33|                         \n",
    "|9|-7.33|                         \n",
    "|1|-5.33|                         \n",
    "|0|5.67|                         \n",
    "|-11|15.67|                         \n",
    "|-12|9.67|                         \n",
    "|**mean=0**|**mean=0**|    \n",
    "|**SD=10.16**|**SD=12.56**|"
   ]
  },
  {
   "cell_type": "markdown",
   "id": "3aa70411-1a98-450d-98bd-de5422a52e24",
   "metadata": {},
   "source": [
    "- Centered Data(Divide all the data with SD)(Data/SD)\n",
    "|Body Weight(KG)|Body Height(CM)|\n",
    "|:------------:|:-------------:| \n",
    "|1.28|-1.46|                         \n",
    "|0.89|-0.58|                         \n",
    "|0.10|-0.42|                         \n",
    "|0|0.45|                         \n",
    "|-1.08|1.25|                         \n",
    "|-1.18|0.77|                         \n",
    "|**mean=0**|**mean=0**|    \n",
    "|**SD=1**|**SD=1**|=12.56**|"
   ]
  },
  {
   "cell_type": "code",
   "execution_count": 9,
   "id": "7fe0dc20-b40a-412c-b5de-f0fb663a2af8",
   "metadata": {},
   "outputs": [
    {
     "name": "stdout",
     "output_type": "stream",
     "text": [
      "Mean(Weight):  73\n",
      "Mean(Height):  175.33333333333334\n",
      "Std deviation(Weight):  10.158740079360236\n",
      "Std deviation(Height):  12.564500255349063\n",
      "\n",
      "Correlation coefficient(Weight, height): \n",
      " [[ 1.         -0.93701407]\n",
      " [-0.93701407  1.        ]]\n"
     ]
    }
   ],
   "source": [
    "# import pandas as pd\n",
    "import numpy as np\n",
    "import scipy\n",
    "from scipy import stats\n",
    "import statistics as st\n",
    "weight = [86,82,74,73,62,61]\n",
    "height = [157, 168, 170, 181, 191, 185]\n",
    "print(\"Mean(Weight): \", st.mean(weight))\n",
    "print(\"Mean(Height): \", st.mean(height))\n",
    "print(\"Std deviation(Weight): \", st.stdev(weight))\n",
    "print(\"Std deviation(Height): \", st.stdev(height))\n",
    "print(\"\\nCorrelation coefficient(Weight, height): \\n\", np.corrcoef(weight, height))"
   ]
  },
  {
   "cell_type": "code",
   "execution_count": 14,
   "id": "25243f42-5e91-4504-9b6e-d2ee502dec63",
   "metadata": {},
   "outputs": [
    {
     "name": "stdout",
     "output_type": "stream",
     "text": [
      "Mean(Weight):  0.0016666666666666728\n",
      "Mean(Height):  -0.03166666666666665\n",
      "Standard Deviation(Weight):  0.9999283307650937\n",
      "Standard Deviation(Height):  0.9855235495241433\n",
      "\n",
      "Covariance(weight, height): \n",
      " [[ 0.99985667 -0.93705667]\n",
      " [-0.93705667  0.97125667]]\n"
     ]
    }
   ],
   "source": [
    "# Standard data\n",
    "import statistics as st\n",
    "from scipy import stats\n",
    "import matplotlib.pyplot as plt\n",
    "import numpy as np\n",
    "import pandas as pd\n",
    "weight = [1.28,0.89,0.10,0,-1.08,-1.18]\n",
    "height = [-1.46,-0.58,-0.42,0.25,1.25,0.77]\n",
    "print(\"Mean(Weight): \", st.mean(weight)) # almost zero (0)\n",
    "print(\"Mean(Height): \", st.mean(height)) # almost zero (0)\n",
    "print(\"Standard Deviation(Weight): \", st.stdev(weight)) # almost 1\n",
    "print(\"Standard Deviation(Height): \", st.stdev(height)) # almost 1\n",
    "print(\"\\nCovariance(weight, height): \\n\", np.cov(weight, height))"
   ]
  }
 ],
 "metadata": {
  "kernelspec": {
   "display_name": "Python 3 (ipykernel)",
   "language": "python",
   "name": "python3"
  },
  "language_info": {
   "codemirror_mode": {
    "name": "ipython",
    "version": 3
   },
   "file_extension": ".py",
   "mimetype": "text/x-python",
   "name": "python",
   "nbconvert_exporter": "python",
   "pygments_lexer": "ipython3",
   "version": "3.11.4"
  }
 },
 "nbformat": 4,
 "nbformat_minor": 5
}
