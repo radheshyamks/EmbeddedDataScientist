{
 "cells": [
  {
   "cell_type": "code",
   "execution_count": 1,
   "id": "1da8a50f-2488-4869-bf19-01d47658caca",
   "metadata": {},
   "outputs": [],
   "source": [
    "# print(help(list))"
   ]
  },
  {
   "cell_type": "code",
   "execution_count": 4,
   "id": "26836b85-dbbe-4957-ac05-dfb38241ea56",
   "metadata": {},
   "outputs": [
    {
     "name": "stdout",
     "output_type": "stream",
     "text": [
      "0x1bbb995d780 0x1bbb98fbc80 False True\n"
     ]
    }
   ],
   "source": [
    "x = [1,2,3]\n",
    "y = [1,2,3]\n",
    "print(hex(id(x)), hex(id(y)), x is y, x==y)"
   ]
  },
  {
   "cell_type": "code",
   "execution_count": 7,
   "id": "d42a4cc5-d6ec-4f76-b5e0-825ac2b4eee8",
   "metadata": {},
   "outputs": [
    {
     "name": "stdout",
     "output_type": "stream",
     "text": [
      "x =  [1, 2, 3, 4, 5, 6, 7]\n"
     ]
    }
   ],
   "source": [
    "# CUSTOMIZED sort\n",
    "x = [1,5,3,2,6,4,7]\n",
    "x.sort()\n",
    "print(\"x = \",x)\n",
    "# print(\"Sorted x = \", y)"
   ]
  },
  {
   "cell_type": "code",
   "execution_count": 8,
   "id": "1ba5251f-f180-423d-8b38-4a8e49b782f4",
   "metadata": {},
   "outputs": [
    {
     "name": "stdout",
     "output_type": "stream",
     "text": [
      "sorted x =  [7, 6, 5, 4, 3, 2, 1]\n"
     ]
    }
   ],
   "source": [
    "x = [1,5,3,2,6,4,7]\n",
    "x.sort(reverse=True)\n",
    "print(\"sorted x = \",x)"
   ]
  },
  {
   "cell_type": "code",
   "execution_count": 9,
   "id": "2e6ac1e8-178c-44e0-bdfe-f6bcdf284969",
   "metadata": {},
   "outputs": [
    {
     "name": "stdout",
     "output_type": "stream",
     "text": [
      "sorted x =  [1, 2, 3, 4, 5, 6, 7]\n"
     ]
    }
   ],
   "source": [
    "x = [1,5,3,2,6,4,7]\n",
    "x.sort(reverse=False)\n",
    "print(\"sorted x = \",x)"
   ]
  },
  {
   "cell_type": "code",
   "execution_count": 10,
   "id": "4d40c561-1c7e-431c-aef5-fc6daed3f5bf",
   "metadata": {},
   "outputs": [
    {
     "name": "stdout",
     "output_type": "stream",
     "text": [
      "Sorted according to last char:  ['rwa', 'fdb', 'avc', 'rgd']\n"
     ]
    }
   ],
   "source": [
    "def last(s):\n",
    "    return s[-1]\n",
    "l = ['avc', 'fdb', 'rgd', 'rwa']\n",
    "l.sort(reverse=False,key=last)\n",
    "print('Sorted according to last char: ',l)"
   ]
  },
  {
   "cell_type": "code",
   "execution_count": 11,
   "id": "9ab4a834-40ff-4a42-aeb2-02298d430692",
   "metadata": {},
   "outputs": [
    {
     "name": "stdout",
     "output_type": "stream",
     "text": [
      "Sorted according to len:  ['b', 'cc', 'aaa', 'adgd', 'ddddd']\n"
     ]
    }
   ],
   "source": [
    "l = ['aaa','b','cc','ddddd','adgd']\n",
    "l.sort(reverse=False,key=len)\n",
    "print(\"Sorted according to len: \",l)"
   ]
  },
  {
   "cell_type": "code",
   "execution_count": 2,
   "id": "34b8fe3a-0651-46a8-986c-45f20c398f62",
   "metadata": {},
   "outputs": [],
   "source": [
    "import PIL\n",
    "from PIL import Image\n",
    "img = Image.open(r\"E:\\NikkiSingh\\Camera\\.trashed-1667544808-IMG_20221005_121756_270.jpg\")\n",
    "# print(img)\n",
    "# print(img.mode)\n",
    "# img"
   ]
  },
  {
   "cell_type": "code",
   "execution_count": 1,
   "id": "af38d933-d6f1-4c63-9fef-aedd87b7ce15",
   "metadata": {},
   "outputs": [
    {
     "name": "stdout",
     "output_type": "stream",
     "text": [
      "(9248, 6944, 3)\n"
     ]
    }
   ],
   "source": [
    "import PIL\n",
    "import numpy as np\n",
    "from PIL import Image\n",
    "img = Image.open(r\"E:\\NikkiSingh\\Camera\\.trashed-1667544808-IMG_20221005_121756_270.jpg\")\n",
    "img_array = np.array(img)\n",
    "print(img_array.shape)\n",
    "# for i in img_array:\n",
    "    # print(i)"
   ]
  },
  {
   "cell_type": "code",
   "execution_count": 2,
   "id": "6856523a-d358-4850-ae8c-1b28c00ce744",
   "metadata": {},
   "outputs": [
    {
     "name": "stdout",
     "output_type": "stream",
     "text": [
      "(9248, 6944, 3)\n"
     ]
    }
   ],
   "source": [
    "import PIL\n",
    "import numpy as np\n",
    "from PIL import Image\n",
    "img = Image.open(r\"E:\\NikkiSingh\\Camera\\.trashed-1667544808-IMG_20221005_121756_270.jpg\")\n",
    "img_array = np.array(img)\n",
    "print(img_array.shape)\n",
    "# for i in img_array:\n",
    "#     print(i)"
   ]
  },
  {
   "cell_type": "code",
   "execution_count": 2,
   "id": "0e0d3913-3c8c-4ac7-b825-cfb42262f7b3",
   "metadata": {},
   "outputs": [
    {
     "name": "stderr",
     "output_type": "stream",
     "text": [
      "'{system.executable}' is not recognized as an internal or external command,\n",
      "operable program or batch file.\n"
     ]
    }
   ],
   "source": [
    "import sys\n",
    "!{system.executable} -m pip install numpy"
   ]
  }
 ],
 "metadata": {
  "kernelspec": {
   "display_name": "Python 3 (ipykernel)",
   "language": "python",
   "name": "python3"
  },
  "language_info": {
   "codemirror_mode": {
    "name": "ipython",
    "version": 3
   },
   "file_extension": ".py",
   "mimetype": "text/x-python",
   "name": "python",
   "nbconvert_exporter": "python",
   "pygments_lexer": "ipython3",
   "version": "3.11.4"
  }
 },
 "nbformat": 4,
 "nbformat_minor": 5
}
