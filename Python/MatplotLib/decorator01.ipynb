{
 "cells": [
  {
   "cell_type": "markdown",
   "id": "65c4b53b-2abb-4dfe-bf0d-69b78236a96d",
   "metadata": {},
   "source": [
    "# Simple function"
   ]
  },
  {
   "cell_type": "code",
   "execution_count": 2,
   "id": "575af96a-ee97-4b34-bfd3-f898a6f3f4fb",
   "metadata": {},
   "outputs": [
    {
     "name": "stdout",
     "output_type": "stream",
     "text": [
      "Hello\n"
     ]
    }
   ],
   "source": [
    "# it is a simple function without decorators\n",
    "def display():\n",
    "    print('Hello')\n",
    "display()"
   ]
  },
  {
   "cell_type": "markdown",
   "id": "efac4185-05ca-4b41-bdd8-02981430dbfd",
   "metadata": {},
   "source": [
    "# Decorator"
   ]
  },
  {
   "cell_type": "code",
   "execution_count": 9,
   "id": "18c5ccc9-58bf-4730-9d36-f4b2b5b28e2c",
   "metadata": {},
   "outputs": [
    {
     "name": "stdout",
     "output_type": "stream",
     "text": [
      "Hello\n",
      "display\n",
      "Decorator\n",
      "Hello\n",
      "display\n",
      "End of decorator\n"
     ]
    }
   ],
   "source": [
    "def decorator_fun(f):\n",
    "    def wrapper():\n",
    "        print(\"Decorator\")\n",
    "        f()\n",
    "        print(\"End of decorator\")\n",
    "    return wrapper\n",
    "# simple function\n",
    "def display():\n",
    "    print('Hello')\n",
    "    print(display.__name__)\n",
    "display()\n",
    "dec_func = decorator_fun(display)\n",
    "dec_func()"
   ]
  },
  {
   "cell_type": "markdown",
   "id": "7252db49-da06-4cc5-a45d-69ccf5aefc99",
   "metadata": {},
   "source": [
    "# Decorator with @ simbol"
   ]
  },
  {
   "cell_type": "code",
   "execution_count": 10,
   "id": "ab6d2dab-cfe6-433f-b705-ceff5108b623",
   "metadata": {},
   "outputs": [
    {
     "name": "stdout",
     "output_type": "stream",
     "text": [
      "Decorator function\n",
      "Hello\n",
      "wrapper\n",
      "End decorator\n"
     ]
    }
   ],
   "source": [
    "def decorator_fun(f):\n",
    "    def wrapper():\n",
    "        print(\"Decorator function\")\n",
    "        f()\n",
    "        print(\"End decorator\")\n",
    "    return wrapper\n",
    "@decorator_fun\n",
    "def display():\n",
    "    print('Hello')\n",
    "    print(display.__name__)\n",
    "display()"
   ]
  },
  {
   "cell_type": "code",
   "execution_count": 32,
   "id": "99f59236-949d-4a9b-b85e-e19a4a476c32",
   "metadata": {},
   "outputs": [
    {
     "name": "stdout",
     "output_type": "stream",
     "text": [
      "Beginning of dec\n",
      "start func\n",
      "Hello\n",
      "End func\n"
     ]
    }
   ],
   "source": [
    "def decorator_func(*args,**kargs):\n",
    "    print('Beginning of dec')\n",
    "    def wrapper(f):\n",
    "        print('start func')\n",
    "        f()\n",
    "        print('End func')\n",
    "    return wrapper\n",
    "@decorator_func(x=1)\n",
    "def display():\n",
    "    # print(display.__name__,'','Hello')\n",
    "    print('Hello')\n",
    "# display()"
   ]
  },
  {
   "cell_type": "code",
   "execution_count": 28,
   "id": "89ce45b5-6a82-4ee6-bfca-9295932c1d07",
   "metadata": {},
   "outputs": [
    {
     "name": "stdout",
     "output_type": "stream",
     "text": [
      "Inside decorator\n",
      "Inside inner function\n",
      "I like geeksforgeeks\n",
      "Inside actual function\n"
     ]
    }
   ],
   "source": [
    "# Python code to illustrate \n",
    "# Decorators with parameters in Python \n",
    "\n",
    "def decorator(*args, **kwargs):\n",
    "\tprint(\"Inside decorator\")\n",
    "\t\n",
    "\tdef inner(func):\n",
    "\t\t\n",
    "\t\t# code functionality here\n",
    "\t\tprint(\"Inside inner function\")\n",
    "\t\tprint(\"I like\", kwargs['like']) \n",
    "\t\t\n",
    "\t\tfunc()\n",
    "\t\t\n",
    "\t# returning inner function \n",
    "\treturn inner\n",
    "@decorator(like = \"geeksforgeeks\")\n",
    "def my_func():\n",
    "\tprint(\"Inside actual function\")\n"
   ]
  },
  {
   "cell_type": "code",
   "execution_count": 33,
   "id": "d9ed12c6-ba70-4a7a-acbc-0fe5f7ef5daa",
   "metadata": {},
   "outputs": [
    {
     "name": "stdout",
     "output_type": "stream",
     "text": [
      "Decorator for 'stringJoin'\n",
      "Decorator for 'summation'\n",
      "\n",
      "stringJoin started ...\n",
      "I like Geeksforgeeks\n",
      "\n",
      "summation started ...\n",
      "1729\n"
     ]
    }
   ],
   "source": [
    "# Python code to illustrate\n",
    "# Decorators with parameters in Python (Multi-level Decorators)\n",
    "\n",
    "\n",
    "def decodecorator(dataType, message1, message2):\n",
    "\tdef decorator(fun):\n",
    "\t\tprint(message1)\n",
    "\t\tdef wrapper(*args, **kwargs):\n",
    "\t\t\tprint(message2)\n",
    "\t\t\tif all([type(arg) == dataType for arg in args]):\n",
    "\t\t\t\treturn fun(*args, **kwargs)\n",
    "\t\t\treturn \"Invalid Input\"\n",
    "\t\treturn wrapper\n",
    "\treturn decorator\n",
    "\n",
    "\n",
    "@decodecorator(str, \"Decorator for 'stringJoin'\", \"stringJoin started ...\")\n",
    "def stringJoin(*args):\n",
    "\tst = ''\n",
    "\tfor i in args:\n",
    "\t\tst += i\n",
    "\treturn st\n",
    "\n",
    "\n",
    "@decodecorator(int, \"Decorator for 'summation'\\n\", \"summation started ...\")\n",
    "def summation(*args):\n",
    "\tsumm = 0\n",
    "\tfor arg in args:\n",
    "\t\tsumm += arg\n",
    "\treturn summ\n",
    "\n",
    "\n",
    "print(stringJoin(\"I \", 'like ', \"Geeks\", 'for', \"geeks\"))\n",
    "print()\n",
    "print(summation(19, 2, 8, 533, 67, 981, 119))\n"
   ]
  }
 ],
 "metadata": {
  "kernelspec": {
   "display_name": "Python 3 (ipykernel)",
   "language": "python",
   "name": "python3"
  },
  "language_info": {
   "codemirror_mode": {
    "name": "ipython",
    "version": 3
   },
   "file_extension": ".py",
   "mimetype": "text/x-python",
   "name": "python",
   "nbconvert_exporter": "python",
   "pygments_lexer": "ipython3",
   "version": "3.11.4"
  }
 },
 "nbformat": 4,
 "nbformat_minor": 5
}
