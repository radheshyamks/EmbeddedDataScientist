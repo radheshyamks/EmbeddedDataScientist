{
 "cells": [
  {
   "cell_type": "markdown",
   "id": "4342c061-b66e-460e-a0ed-5749bb22ac60",
   "metadata": {},
   "source": [
    "# This is a big text\n",
    "- [X] this is a check box\n",
    "- [ ] this is a uncheck box"
   ]
  },
  {
   "cell_type": "markdown",
   "id": "b7d24701-2d5e-43cf-9406-759fc64dc192",
   "metadata": {},
   "source": [
    "- this is unordered text(a bullet point)\n",
    "- Single underscore at beginning and at last will make a italic text\n",
    "- _This is a italic Text_\n",
    "- *This is a italic Text with single Star*\n",
    "- **_This is italic and Bold text_**\n",
    "- __This is a Bold Text with double underscore__\n",
    "- **This is a Bold Text with Double Star**"
   ]
  },
  {
   "cell_type": "markdown",
   "id": "1cfe7626-b47e-4480-be3a-129fb08b350b",
   "metadata": {},
   "source": [
    "# Ordered list"
   ]
  },
  {
   "cell_type": "markdown",
   "id": "a8d16155-b58c-40fe-a6b8-0b0cc8593da6",
   "metadata": {},
   "source": [
    "1. Forst Item\n",
    "2. Second Item\n",
    "3. Third Item\n",
    "4. And So on"
   ]
  },
  {
   "cell_type": "markdown",
   "id": "3d2f9eea-48ec-47e7-ac1b-3ca5b45cafed",
   "metadata": {},
   "source": [
    "# Unordered list"
   ]
  },
  {
   "cell_type": "markdown",
   "id": "5d5c2891-3288-44cc-8334-10034c833643",
   "metadata": {},
   "source": [
    "- First Item\n",
    "- Second Item\n",
    "- Third Item\n",
    "- And So on"
   ]
  },
  {
   "cell_type": "markdown",
   "id": "e9813435-644c-46be-82e2-a7287cef8c04",
   "metadata": {},
   "source": [
    "# Inserting a link"
   ]
  },
  {
   "cell_type": "markdown",
   "id": "50374c33-9091-48f7-aa23-c10a90c3ac7d",
   "metadata": {},
   "source": [
    "Link https://www.youtube.com/"
   ]
  }
 ],
 "metadata": {
  "kernelspec": {
   "display_name": "Python 3 (ipykernel)",
   "language": "python",
   "name": "python3"
  },
  "language_info": {
   "codemirror_mode": {
    "name": "ipython",
    "version": 3
   },
   "file_extension": ".py",
   "mimetype": "text/x-python",
   "name": "python",
   "nbconvert_exporter": "python",
   "pygments_lexer": "ipython3",
   "version": "3.11.4"
  }
 },
 "nbformat": 4,
 "nbformat_minor": 5
}
