{
 "cells": [
  {
   "cell_type": "markdown",
   "id": "cc52e7da-e731-4361-8be7-8f85004fb7a9",
   "metadata": {},
   "source": [
    "# Creating a dataframe using numpy array"
   ]
  },
  {
   "cell_type": "code",
   "execution_count": 2,
   "id": "08f01402-32bc-4e81-9512-586832d8afcb",
   "metadata": {},
   "outputs": [
    {
     "name": "stdout",
     "output_type": "stream",
     "text": [
      "<class 'pandas.core.series.Series'>\n",
      "Fisrt     1\n",
      "Second    2\n",
      "Third     3\n",
      "Four      4\n",
      "Five      5\n",
      "dtype: int32\n"
     ]
    }
   ],
   "source": [
    "import pandas as pd\n",
    "import numpy as np\n",
    "arr=np.array([1,2,3,4,5])\n",
    "df = pd.Series(arr,index=['Fisrt','Second','Third','Four','Five'])\n",
    "print(type(df))\n",
    "print(df)"
   ]
  },
  {
   "cell_type": "code",
   "execution_count": 3,
   "id": "0da9cb89-3d31-48ba-81d8-a97cacdf1e42",
   "metadata": {},
   "outputs": [
    {
     "name": "stdout",
     "output_type": "stream",
     "text": [
      "a    40\n",
      "b    40\n",
      "c    40\n",
      "d    40\n",
      "e    40\n",
      "dtype: int64\n"
     ]
    }
   ],
   "source": [
    "import pandas as pd\n",
    "import numpy as np\n",
    "df = pd.Series(40,index=['a','b','c','d','e'])\n",
    "print(df)"
   ]
  },
  {
   "cell_type": "code",
   "execution_count": 6,
   "id": "42b3e85d-6d87-431f-8453-bf60dcc8049e",
   "metadata": {},
   "outputs": [
    {
     "name": "stdout",
     "output_type": "stream",
     "text": [
      "a    1\n",
      "b    2\n",
      "c    3\n",
      "d    4\n",
      "e    5\n",
      "dtype: int32\n",
      "a     1\n",
      "b     4\n",
      "c     9\n",
      "d    16\n",
      "e    25\n",
      "dtype: int32\n"
     ]
    }
   ],
   "source": [
    "import pandas as pd\n",
    "import numpy as np\n",
    "arr = np.array([1,2,3,4,5])\n",
    "df = pd.Series(arr,index=['a','b','c','d','e'])\n",
    "print(df)\n",
    "print(df**2)"
   ]
  },
  {
   "cell_type": "code",
   "execution_count": 7,
   "id": "573240ec-bc7f-4f90-809c-91b32fe5c482",
   "metadata": {},
   "outputs": [
    {
     "name": "stdout",
     "output_type": "stream",
     "text": [
      "a    1\n",
      "b    2\n",
      "c    3\n",
      "d    4\n",
      "e    5\n",
      "dtype: int32\n",
      "a    3\n",
      "b    4\n",
      "c    5\n",
      "d    6\n",
      "e    7\n",
      "dtype: int32\n"
     ]
    }
   ],
   "source": [
    "import pandas as pd\n",
    "import numpy as np\n",
    "arr = np.array([1,2,3,4,5])\n",
    "df = pd.Series(arr,index=['a','b','c','d','e'])\n",
    "print(df)\n",
    "print(df+2)"
   ]
  },
  {
   "cell_type": "code",
   "execution_count": 8,
   "id": "aeb2088d-0d48-415e-8c8e-05ef16dcca26",
   "metadata": {},
   "outputs": [
    {
     "name": "stdout",
     "output_type": "stream",
     "text": [
      "a    1\n",
      "b    2\n",
      "c    3\n",
      "d    4\n",
      "e    5\n",
      "dtype: int32\n",
      "a   -1\n",
      "b    0\n",
      "c    1\n",
      "d    2\n",
      "e    3\n",
      "dtype: int32\n"
     ]
    }
   ],
   "source": [
    "import pandas as pd\n",
    "import numpy as np\n",
    "arr = np.array([1,2,3,4,5])\n",
    "df = pd.Series(arr,index=['a','b','c','d','e'])\n",
    "print(df)\n",
    "print(df-2)"
   ]
  },
  {
   "cell_type": "code",
   "execution_count": 10,
   "id": "1bd42655-9976-44c0-bbf5-80472cfd88cf",
   "metadata": {},
   "outputs": [
    {
     "name": "stdout",
     "output_type": "stream",
     "text": [
      "a    1\n",
      "b    2\n",
      "c    3\n",
      "d    4\n",
      "e    5\n",
      "dtype: int32\n",
      "c    3\n",
      "d    4\n",
      "e    5\n",
      "dtype: int32\n"
     ]
    }
   ],
   "source": [
    "import pandas as pd\n",
    "import numpy as np\n",
    "arr = np.array([1,2,3,4,5])\n",
    "df = pd.Series(arr,index=['a','b','c','d','e'])\n",
    "print(df)\n",
    "print(df[df>2])"
   ]
  },
  {
   "cell_type": "code",
   "execution_count": 11,
   "id": "e70dc4e4-386e-41ae-85a8-558e814efe8c",
   "metadata": {},
   "outputs": [
    {
     "name": "stdout",
     "output_type": "stream",
     "text": [
      "a    1\n",
      "b    2\n",
      "c    3\n",
      "d    4\n",
      "e    5\n",
      "dtype: int32\n",
      "a     2\n",
      "b     4\n",
      "c     6\n",
      "d     8\n",
      "e    10\n",
      "dtype: int32\n"
     ]
    }
   ],
   "source": [
    "import pandas as pd\n",
    "import numpy as np\n",
    "arr = np.array([1,2,3,4,5])\n",
    "df = pd.Series(arr,index=['a','b','c','d','e'])\n",
    "print(df)\n",
    "print(df*2)"
   ]
  },
  {
   "cell_type": "markdown",
   "id": "edc607d3-bbf7-4b9a-bdfd-6f2c7891045b",
   "metadata": {},
   "source": [
    "# Adding two Series"
   ]
  },
  {
   "cell_type": "code",
   "execution_count": 13,
   "id": "6b9931ef-1b37-40ae-a218-3c1397be2084",
   "metadata": {},
   "outputs": [
    {
     "name": "stdout",
     "output_type": "stream",
     "text": [
      "a    1\n",
      "b    2\n",
      "c    3\n",
      "d    4\n",
      "e    5\n",
      "dtype: int32\n",
      "a     6\n",
      "b     7\n",
      "c     8\n",
      "d     9\n",
      "e    10\n",
      "dtype: int32\n",
      "a     7\n",
      "b     9\n",
      "c    11\n",
      "d    13\n",
      "e    15\n",
      "dtype: int32\n"
     ]
    }
   ],
   "source": [
    "import pandas as pd\n",
    "import numpy as np\n",
    "arr1 = np.array([1,2,3,4,5])\n",
    "arr2 = np.array([6,7,8,9,10])\n",
    "s1 = pd.Series(arr1,index=['a','b','c','d','e'])\n",
    "s2 = pd.Series(arr2,index=['a','b','c','d','e'])\n",
    "print(s1)\n",
    "print(s2)\n",
    "print(s1+s2)"
   ]
  },
  {
   "cell_type": "code",
   "execution_count": 9,
   "id": "cfa55fbb-ebb0-4c20-ac74-77448c634ebd",
   "metadata": {},
   "outputs": [
    {
     "name": "stdout",
     "output_type": "stream",
     "text": [
      "[10 20 30 40 50]\n",
      "a    10\n",
      "b    20\n",
      "c    30\n",
      "d    40\n",
      "e    50\n",
      "dtype: int32\n",
      "Index(['a', 'b', 'c', 'd', 'e'], dtype='object')\n",
      "30\n",
      "b    20\n",
      "d    40\n",
      "dtype: int32\n"
     ]
    }
   ],
   "source": [
    "import pandas as pd\n",
    "import numpy as np\n",
    "arr = np.array([i*10 for i in range(1,6)])\n",
    "print(arr)\n",
    "idx=['a','b','c','d','e']\n",
    "s1 = pd.Series(arr,index=idx)\n",
    "print(s1)\n",
    "print(s1.index)\n",
    "print(s1[2])\n",
    "# slicing the Series\n",
    "print(s1[1:5:2])"
   ]
  }
 ],
 "metadata": {
  "kernelspec": {
   "display_name": "Python 3 (ipykernel)",
   "language": "python",
   "name": "python3"
  },
  "language_info": {
   "codemirror_mode": {
    "name": "ipython",
    "version": 3
   },
   "file_extension": ".py",
   "mimetype": "text/x-python",
   "name": "python",
   "nbconvert_exporter": "python",
   "pygments_lexer": "ipython3",
   "version": "3.11.4"
  }
 },
 "nbformat": 4,
 "nbformat_minor": 5
}
