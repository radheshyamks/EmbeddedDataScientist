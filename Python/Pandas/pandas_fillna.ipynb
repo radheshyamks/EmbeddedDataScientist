{
 "cells": [
  {
   "cell_type": "code",
   "execution_count": 3,
   "id": "acf77227-25da-4acb-a6d8-91aefa1e6cdc",
   "metadata": {},
   "outputs": [
    {
     "name": "stdout",
     "output_type": "stream",
     "text": [
      "    Country Name  Ranking              Economy millions of US dollars\n",
      "0            USA      1.0        United States            2,54,62,700\n",
      "1            CHN      2.0                China            1,79,63,171\n",
      "2            JPN      3.0                Japan              42,31,141\n",
      "3            DEU      4.0              Germany              40,72,192\n",
      "4            IND      5.0                India              33,85,090\n",
      "..           ...      ...                  ...                    ...\n",
      "229          SSF      NaN   Sub-Saharan Africa              20,47,347\n",
      "230          LIC      NaN           Low income               5,21,634\n",
      "231          LMC      NaN  Lower middle income              81,09,650\n",
      "232          UMC      NaN  Upper middle income            3,04,95,972\n",
      "233          HIC      NaN          High income            6,15,35,769\n",
      "\n",
      "[234 rows x 4 columns]\n"
     ]
    }
   ],
   "source": [
    "import pandas as pd\n",
    "df = pd.read_csv(r\"E:\\NotepadPlusPlus\\Python\\Pandas\\GDP.csv\")\n",
    "print(df)"
   ]
  },
  {
   "cell_type": "code",
   "execution_count": 17,
   "id": "22163a99-b977-4c57-b773-47d992a2c37b",
   "metadata": {},
   "outputs": [
    {
     "name": "stdout",
     "output_type": "stream",
     "text": [
      "    Country Name  Ranking              Economy millions of US dollars\n",
      "0            USA      1.0        United States            2,54,62,700\n",
      "1            CHN      2.0                China            1,79,63,171\n",
      "2            JPN      3.0                Japan              42,31,141\n",
      "3            DEU      4.0              Germany              40,72,192\n",
      "4            IND      5.0                India              33,85,090\n",
      "..           ...      ...                  ...                    ...\n",
      "229          SSF     12.0   Sub-Saharan Africa              20,47,347\n",
      "230          LIC     12.0           Low income               5,21,634\n",
      "231          LMC     12.0  Lower middle income              81,09,650\n",
      "232          UMC     12.0  Upper middle income            3,04,95,972\n",
      "233          HIC     12.0          High income            6,15,35,769\n",
      "\n",
      "[234 rows x 4 columns]\n"
     ]
    }
   ],
   "source": [
    "import pandas as pd\n",
    "# dataframe.fillna(value, method, axis, inplace, limit, downcast)\n",
    "# value --> Number,String,Dictionary,Series,DataFrame :- Required, Specifies the value to replace the NULL values with.\n",
    "# This can also be values for the entire row or column.\n",
    "# method --> 'backfill','bfill','pad','ffill',None :- Optional, default None'. Specifies the method to use when replacing\n",
    "# axis --> 0,1,'index','columns' :- Optional, default 0. The axis to fill the NULL values along\n",
    "# inplace --> True,False :- Optional, default False. If True: the replacing is done on the current DataFrame. \n",
    "# If False: returns a copy where the replacing is done.\n",
    "# limit --> Number,None :- Optional, default None. Specifies the maximum number of NULL values to fill (if method is specified)\n",
    "# downcast --> Dictionary,None :- Optional, a dictionary of values to fill for specific data types\n",
    "df = pd.read_csv(r\"E:\\NotepadPlusPlus\\Python\\Pandas\\GDP.csv\")\n",
    "df_new = df.fillna(12)\n",
    "print(df_new)\n",
    "# writing to csv\n",
    "# that not a good idea to fill all the data with 12 or numeric\n",
    "df_new.to_csv(r\"E:\\NotepadPlusPlus\\Python\\Pandas\\GDP1.csv\")"
   ]
  },
  {
   "cell_type": "code",
   "execution_count": 20,
   "id": "9accd471-bb88-47ea-9d8c-51c7e783bba3",
   "metadata": {},
   "outputs": [],
   "source": [
    "import pandas as pd\n",
    "df = pd.read_csv(r\"E:\\NotepadPlusPlus\\Python\\Pandas\\GDP.csv\")\n",
    "# it will fill all the row wise(axis=1 means it will fill the data according to rowwise)\n",
    "df_new = df.fillna(method='ffill', axis=1)\n",
    "df_new.to_csv(r\"E:\\NotepadPlusPlus\\Python\\Pandas\\GDP2.csv\")"
   ]
  },
  {
   "cell_type": "code",
   "execution_count": 25,
   "id": "fbedf73d-48b8-4a92-b28d-89fc1f9759b6",
   "metadata": {},
   "outputs": [
    {
     "name": "stdout",
     "output_type": "stream",
     "text": [
      "     Unnamed: 0 Country Name  Ranking              Economy  \\\n",
      "0             0          USA      1.0        United States   \n",
      "1             1          CHN      2.0                China   \n",
      "2             2          JPN      3.0                Japan   \n",
      "3             3          DEU      4.0              Germany   \n",
      "4             4          IND      5.0                India   \n",
      "..          ...          ...      ...                  ...   \n",
      "229         229          SSF    209.0   Sub-Saharan Africa   \n",
      "230         230          LIC    209.0           Low income   \n",
      "231         231          LMC    209.0  Lower middle income   \n",
      "232         232          UMC    209.0  Upper middle income   \n",
      "233         233          HIC    209.0          High income   \n",
      "\n",
      "    millions of US dollars  \n",
      "0              2,54,62,700  \n",
      "1              1,79,63,171  \n",
      "2                42,31,141  \n",
      "3                40,72,192  \n",
      "4                33,85,090  \n",
      "..                     ...  \n",
      "229              20,47,347  \n",
      "230               5,21,634  \n",
      "231              81,09,650  \n",
      "232            3,04,95,972  \n",
      "233            6,15,35,769  \n",
      "\n",
      "[234 rows x 5 columns]\n"
     ]
    }
   ],
   "source": [
    "import pandas as pd\n",
    "df = pd.read_csv(r\"E:\\NotepadPlusPlus\\Python\\Pandas\\GDP.csv\")\n",
    "df_new = df.fillna(method='ffill')\n",
    "df_new.to_csv(r\"E:\\NotepadPlusPlus\\Python\\Pandas\\GDP3.csv\")\n",
    "df_1 = pd.read_csv(r\"E:\\NotepadPlusPlus\\Python\\Pandas\\GDP3.csv\")\n",
    "print(df_1)\n",
    "# df_1"
   ]
  }
 ],
 "metadata": {
  "kernelspec": {
   "display_name": "Python 3 (ipykernel)",
   "language": "python",
   "name": "python3"
  },
  "language_info": {
   "codemirror_mode": {
    "name": "ipython",
    "version": 3
   },
   "file_extension": ".py",
   "mimetype": "text/x-python",
   "name": "python",
   "nbconvert_exporter": "python",
   "pygments_lexer": "ipython3",
   "version": "3.11.4"
  }
 },
 "nbformat": 4,
 "nbformat_minor": 5
}
