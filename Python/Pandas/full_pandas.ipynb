{
 "cells": [
  {
   "cell_type": "code",
   "execution_count": 4,
   "id": "cecb0875-d684-4273-b385-a3b49af1fed5",
   "metadata": {},
   "outputs": [
    {
     "name": "stdout",
     "output_type": "stream",
     "text": [
      "Radheshyam kumar singh\n"
     ]
    }
   ],
   "source": [
    "import pandas as pd;\n",
    "print('Radheshyam kumar singh')"
   ]
  },
  {
   "cell_type": "code",
   "execution_count": 11,
   "id": "2a2c7be2-3b38-4900-8c9d-e725f39b48c3",
   "metadata": {},
   "outputs": [
    {
     "name": "stdout",
     "output_type": "stream",
     "text": [
      "Hi\n",
      "0x1\n",
      "0x7ff85e6ce328\n"
     ]
    }
   ],
   "source": [
    "def fun():\n",
    "    a=1\n",
    "    print('Hi')\n",
    "    print(hex(a))\n",
    "    print(hex(id(a)))\n",
    "fun()"
   ]
  },
  {
   "cell_type": "code",
   "execution_count": 12,
   "id": "2c005325-e483-472b-84c9-12b0dd4146ee",
   "metadata": {},
   "outputs": [
    {
     "data": {
      "text/html": [
       "<div>\n",
       "<style scoped>\n",
       "    .dataframe tbody tr th:only-of-type {\n",
       "        vertical-align: middle;\n",
       "    }\n",
       "\n",
       "    .dataframe tbody tr th {\n",
       "        vertical-align: top;\n",
       "    }\n",
       "\n",
       "    .dataframe thead th {\n",
       "        text-align: right;\n",
       "    }\n",
       "</style>\n",
       "<table border=\"1\" class=\"dataframe\">\n",
       "  <thead>\n",
       "    <tr style=\"text-align: right;\">\n",
       "      <th></th>\n",
       "      <th>Unnamed: 0</th>\n",
       "      <th>Gross domestic product 2022</th>\n",
       "      <th>Unnamed: 2</th>\n",
       "      <th>Unnamed: 3</th>\n",
       "      <th>Unnamed: 4</th>\n",
       "      <th>Unnamed: 5</th>\n",
       "    </tr>\n",
       "  </thead>\n",
       "  <tbody>\n",
       "    <tr>\n",
       "      <th>0</th>\n",
       "      <td>NaN</td>\n",
       "      <td>NaN</td>\n",
       "      <td>NaN</td>\n",
       "      <td>NaN</td>\n",
       "      <td>NaN</td>\n",
       "      <td>NaN</td>\n",
       "    </tr>\n",
       "    <tr>\n",
       "      <th>1</th>\n",
       "      <td>NaN</td>\n",
       "      <td>NaN</td>\n",
       "      <td>NaN</td>\n",
       "      <td>NaN</td>\n",
       "      <td>(millions of</td>\n",
       "      <td>NaN</td>\n",
       "    </tr>\n",
       "    <tr>\n",
       "      <th>2</th>\n",
       "      <td>NaN</td>\n",
       "      <td>Ranking</td>\n",
       "      <td>NaN</td>\n",
       "      <td>Economy</td>\n",
       "      <td>US dollars)</td>\n",
       "      <td>NaN</td>\n",
       "    </tr>\n",
       "    <tr>\n",
       "      <th>3</th>\n",
       "      <td>NaN</td>\n",
       "      <td>NaN</td>\n",
       "      <td>NaN</td>\n",
       "      <td>NaN</td>\n",
       "      <td>NaN</td>\n",
       "      <td>NaN</td>\n",
       "    </tr>\n",
       "    <tr>\n",
       "      <th>4</th>\n",
       "      <td>USA</td>\n",
       "      <td>1</td>\n",
       "      <td>NaN</td>\n",
       "      <td>United States</td>\n",
       "      <td>2,54,62,700</td>\n",
       "      <td>NaN</td>\n",
       "    </tr>\n",
       "    <tr>\n",
       "      <th>...</th>\n",
       "      <td>...</td>\n",
       "      <td>...</td>\n",
       "      <td>...</td>\n",
       "      <td>...</td>\n",
       "      <td>...</td>\n",
       "      <td>...</td>\n",
       "    </tr>\n",
       "    <tr>\n",
       "      <th>233</th>\n",
       "      <td>SSF</td>\n",
       "      <td>NaN</td>\n",
       "      <td>NaN</td>\n",
       "      <td>Sub-Saharan Africa</td>\n",
       "      <td>20,47,347</td>\n",
       "      <td>NaN</td>\n",
       "    </tr>\n",
       "    <tr>\n",
       "      <th>234</th>\n",
       "      <td>LIC</td>\n",
       "      <td>NaN</td>\n",
       "      <td>NaN</td>\n",
       "      <td>Low income</td>\n",
       "      <td>5,21,634</td>\n",
       "      <td>NaN</td>\n",
       "    </tr>\n",
       "    <tr>\n",
       "      <th>235</th>\n",
       "      <td>LMC</td>\n",
       "      <td>NaN</td>\n",
       "      <td>NaN</td>\n",
       "      <td>Lower middle income</td>\n",
       "      <td>81,09,650</td>\n",
       "      <td>NaN</td>\n",
       "    </tr>\n",
       "    <tr>\n",
       "      <th>236</th>\n",
       "      <td>UMC</td>\n",
       "      <td>NaN</td>\n",
       "      <td>NaN</td>\n",
       "      <td>Upper middle income</td>\n",
       "      <td>3,04,95,972</td>\n",
       "      <td>NaN</td>\n",
       "    </tr>\n",
       "    <tr>\n",
       "      <th>237</th>\n",
       "      <td>HIC</td>\n",
       "      <td>NaN</td>\n",
       "      <td>NaN</td>\n",
       "      <td>High income</td>\n",
       "      <td>6,15,35,769</td>\n",
       "      <td>NaN</td>\n",
       "    </tr>\n",
       "  </tbody>\n",
       "</table>\n",
       "<p>238 rows × 6 columns</p>\n",
       "</div>"
      ],
      "text/plain": [
       "    Unnamed: 0 Gross domestic product 2022  Unnamed: 2           Unnamed: 3  \\\n",
       "0          NaN                         NaN         NaN                  NaN   \n",
       "1          NaN                         NaN         NaN                  NaN   \n",
       "2          NaN                     Ranking         NaN              Economy   \n",
       "3          NaN                         NaN         NaN                  NaN   \n",
       "4          USA                           1         NaN        United States   \n",
       "..         ...                         ...         ...                  ...   \n",
       "233        SSF                         NaN         NaN   Sub-Saharan Africa   \n",
       "234        LIC                         NaN         NaN           Low income   \n",
       "235        LMC                         NaN         NaN  Lower middle income   \n",
       "236        UMC                         NaN         NaN  Upper middle income   \n",
       "237        HIC                         NaN         NaN          High income   \n",
       "\n",
       "       Unnamed: 4 Unnamed: 5  \n",
       "0             NaN        NaN  \n",
       "1    (millions of        NaN  \n",
       "2     US dollars)        NaN  \n",
       "3             NaN        NaN  \n",
       "4     2,54,62,700        NaN  \n",
       "..            ...        ...  \n",
       "233     20,47,347        NaN  \n",
       "234      5,21,634        NaN  \n",
       "235     81,09,650        NaN  \n",
       "236   3,04,95,972        NaN  \n",
       "237   6,15,35,769        NaN  \n",
       "\n",
       "[238 rows x 6 columns]"
      ]
     },
     "execution_count": 12,
     "metadata": {},
     "output_type": "execute_result"
    }
   ],
   "source": [
    "df = pd.read_csv('GDP.csv')"
   ]
  },
  {
   "cell_type": "code",
   "execution_count": 4,
   "id": "10cf4a30-a249-499f-97f5-1b60dd1ecbb6",
   "metadata": {},
   "outputs": [
    {
     "name": "stdout",
     "output_type": "stream",
     "text": [
      "   A  B  C   D   E   F\n",
      "0  1  1  1   2   5  10\n",
      "1  2  2  2   4  10  15\n",
      "2  3  3  3   6  15  20\n",
      "3  4  4  4   8  20  25\n",
      "4  5  5  5  10  25  30\n",
      "5  6  6  6  12  30  35\n",
      "6  7  7  7  14  35  40\n",
      "7  8  8  8  16  40  45\n",
      "8  9  9  9  18  45  -1\n"
     ]
    }
   ],
   "source": [
    "import matplotlib.pyplot as plt\n",
    "import pandas as pd;\n",
    "dec = {'A':[i for i in range(1,10)],'B':[i for i in range(1,10)]}\n",
    "df = pd.DataFrame(dec)#set_index('A')\n",
    "# print(df)\n",
    "df['C']=[i for i in range(1,10)]\n",
    "# print(df)\n",
    "# adding two column in \n",
    "df['D'] = df['B']+df['C']\n",
    "# print(df)\n",
    "df['E']=df['A']+df['B']+df['C']+df['D']\n",
    "# print(df)\n",
    "lst=list(filter(lambda x:x>=10 ,df['E']))\n",
    "# print(len(df['E']))\n",
    "for i in range(len(lst),len(df['E'])):\n",
    "    lst.append(-1)\n",
    "df['F']=lst\n",
    "# print(df)\n",
    "# plt.plot(df)\n",
    "# del df['A']\n",
    "# print(df)\n",
    "# df.reset_index(drop=True)\n",
    "df.reset_index(drop=True)\n",
    "print(df)"
   ]
  },
  {
   "cell_type": "code",
   "execution_count": 10,
   "id": "79b8dcc8-94aa-4283-a955-6218f0e5d89e",
   "metadata": {},
   "outputs": [
    {
     "name": "stdout",
     "output_type": "stream",
     "text": [
      "Hello\n",
      "           A\n",
      "student-1  1\n",
      "student-2  2\n",
      "student-3  3\n",
      "student-4  4\n",
      "df type =  <class 'pandas.core.frame.DataFrame'>\n"
     ]
    }
   ],
   "source": [
    "import pandas as pd;\n",
    "a='Hello'\n",
    "print(a)\n",
    "df = pd.DataFrame({'A':[1,2,3,4]})\n",
    "df = df.set_index([pd.Index(['student-1', 'student-2', 'student-3', 'student-4'])])\n",
    "print(df)\n",
    "print('df type = ',type(df))"
   ]
  },
  {
   "cell_type": "code",
   "execution_count": 19,
   "id": "6089a2b6-a63a-4e6a-a4ea-75a54ccf2dfe",
   "metadata": {},
   "outputs": [
    {
     "name": "stdout",
     "output_type": "stream",
     "text": [
      "0    1.0\n",
      "1    3.0\n",
      "2    5.0\n",
      "3    NaN\n",
      "4    6.0\n",
      "5    8.0\n",
      "dtype: float64\n",
      "DatetimeIndex(['2013-01-01', '2013-01-02', '2013-01-03', '2013-01-04',\n",
      "               '2013-01-05', '2013-01-06'],\n",
      "              dtype='datetime64[ns]', freq='D')\n",
      "[[-0.04748424  0.74259323  0.63618144 -0.15057519]\n",
      " [ 0.53231648  1.89223236 -0.17956626  0.1173571 ]\n",
      " [-0.36120338  0.55254933 -0.29260505  0.71584025]\n",
      " [ 2.11531119  0.78021076  1.14820761 -0.03342839]\n",
      " [-1.15348779  0.16055984 -1.93808448  0.83156762]\n",
      " [ 0.83716923  0.06754028 -0.47454103 -0.65918968]]\n",
      "                   A         B         C         D\n",
      "2013-01-01  0.358385  2.553000 -0.326649  0.415906\n",
      "2013-01-02 -0.320822 -1.050396 -2.074616 -0.189512\n",
      "2013-01-03 -2.255541  0.240331 -2.125472 -0.897451\n",
      "2013-01-04  1.057402  0.616332  1.630503 -0.969901\n",
      "2013-01-05  0.758125 -1.077789  0.147759 -1.694064\n",
      "2013-01-06  0.127019 -0.436185  0.495064  0.011628\n"
     ]
    }
   ],
   "source": [
    "import pandas as pd;\n",
    "import numpy as np;\n",
    "# pd.DataFrame()\n",
    "print(pd.Series([1, 3, 5, np.nan, 6, 8]))\n",
    "\n",
    "dates = pd.date_range(\"20130101\", periods=6)\n",
    "print(dates)\n",
    "print(np.random.randn(6, 4))\n",
    "df = pd.DataFrame(np.random.randn(6, 4), index=dates, columns=list(\"ABCD\"))\n",
    "print(df)"
   ]
  },
  {
   "cell_type": "markdown",
   "id": "ade70ae3-384c-4ddb-91b1-cb956596f689",
   "metadata": {},
   "source": [
    "**Series**\n",
    "# Heading"
   ]
  },
  {
   "cell_type": "code",
   "execution_count": 24,
   "id": "3bc6f225-a640-4363-93d3-b000888ef40b",
   "metadata": {},
   "outputs": [],
   "source": [
    "# **Markdown** --> it will make bold\n",
    "# *Italic* or _italic_\n",
    "# __BOLD__ or **BOLD**\n",
    "# # Heading 1\n",
    "# ## Heading 2\n",
    "\n",
    "# Heading 1\n",
    "# =========\n",
    "\n",
    "# Heading 2\n",
    "# --------"
   ]
  },
  {
   "cell_type": "markdown",
   "id": "bc1390ed-74a5-477b-b95c-5067509e415d",
   "metadata": {},
   "source": [
    "**_PANDAS SERIES_**\n",
    "# Series with list"
   ]
  },
  {
   "cell_type": "code",
   "execution_count": 26,
   "id": "cfd80d16-e105-4939-a302-9319b535b5a9",
   "metadata": {},
   "outputs": [
    {
     "data": {
      "text/plain": [
       "0    1\n",
       "1    2\n",
       "2    3\n",
       "3    4\n",
       "4    5\n",
       "dtype: int64"
      ]
     },
     "execution_count": 26,
     "metadata": {},
     "output_type": "execute_result"
    }
   ],
   "source": [
    "import pandas as pd;\n",
    "pd.Series([1,2,3,4,5])"
   ]
  },
  {
   "cell_type": "markdown",
   "id": "9daeff0b-eafc-4dad-a559-375a561f9b01",
   "metadata": {},
   "source": [
    "## Pandas Series with Dictionary"
   ]
  },
  {
   "cell_type": "code",
   "execution_count": 32,
   "id": "488f710e-28cb-4ba7-b8b4-268ddcdb9f77",
   "metadata": {},
   "outputs": [
    {
     "name": "stdout",
     "output_type": "stream",
     "text": [
      "Name      Radheshyam\n",
      "Status       Married\n",
      "Age               31\n",
      "dtype: object\n",
      "\n",
      "Member                                [1, 2, 3, 4, 5]\n",
      "Name      [Radhe, shyam, kumar, singh, Nikki, Kumari]\n",
      "dtype: object\n"
     ]
    }
   ],
   "source": [
    "import pandas as pd;\n",
    "dict_1 = {'Name':'Radheshyam','Status':'Married','Age':31}\n",
    "print(pd.Series(dict_1))\n",
    "# dictionary with list\n",
    "print()\n",
    "dict_2 = {'Member':[1,2,3,4,5],'Name':['Radhe','shyam', 'kumar','singh','Nikki','Kumari']}\n",
    "print(pd.Series(dict_2))"
   ]
  },
  {
   "cell_type": "markdown",
   "id": "c95cc361-729d-40c7-935d-826cd1fb9cd0",
   "metadata": {},
   "source": [
    "# **_Pandas DataFrame_**"
   ]
  },
  {
   "cell_type": "code",
   "execution_count": 4,
   "id": "5224e5d3-a008-463a-96aa-80ed879f2f67",
   "metadata": {},
   "outputs": [
    {
     "name": "stdout",
     "output_type": "stream",
     "text": [
      "Hello Nikki Devi\n",
      "    0\n",
      "0   1\n",
      "1   2\n",
      "2   3\n",
      "3   4\n",
      "4   5\n",
      "5   6\n",
      "6   7\n",
      "7   8\n",
      "8   9\n",
      "9  10\n"
     ]
    }
   ],
   "source": [
    "import pandas as pd;\n",
    "print(\"Hello Nikki Devi\")\n",
    "lst = [i for i in range(1,11)]\n",
    "df = pd.DataFrame(lst)\n",
    "print(df)"
   ]
  },
  {
   "cell_type": "code",
   "execution_count": 6,
   "id": "705c1610-ccf0-41c5-b664-48edc4be55be",
   "metadata": {},
   "outputs": [
    {
     "name": "stdout",
     "output_type": "stream",
     "text": [
      "{0: 1, 1: 2, 2: 3, 3: 4, 4: 5, 5: 6, 6: 7, 7: 8, 8: 9, 9: 10}\n"
     ]
    }
   ],
   "source": [
    "import pandas as pd;\n",
    "lst = [i for i in range(1,11)]\n",
    "# dic = {k:val for k,val in enumerate(lst)}\n",
    "# print(dic)\n",
    "# df = pd.DataFrame(dic)"
   ]
  },
  {
   "cell_type": "markdown",
   "id": "dbfa0d15-7ee9-49da-9b9b-bdfcb37d206a",
   "metadata": {},
   "source": [
    "# Series"
   ]
  },
  {
   "cell_type": "code",
   "execution_count": 5,
   "id": "649b2583-b524-4eef-b8ef-b0c6263beb2a",
   "metadata": {},
   "outputs": [
    {
     "name": "stdout",
     "output_type": "stream",
     "text": [
      "0    1\n",
      "1    2\n",
      "2    3\n",
      "3    4\n",
      "4    5\n",
      "5    6\n",
      "6    7\n",
      "7    8\n",
      "8    9\n",
      "dtype: int64\n"
     ]
    }
   ],
   "source": [
    "import pandas as pd;\n",
    "# print('Hello')\n",
    "x = [i for i in range(1,10)]\n",
    "var = pd.Series(x)\n",
    "print(var)"
   ]
  },
  {
   "cell_type": "markdown",
   "id": "e8292c6b-9668-4810-954e-729f27977166",
   "metadata": {},
   "source": [
    "# Series With Multiple Arguments"
   ]
  },
  {
   "cell_type": "code",
   "execution_count": 3,
   "id": "2f4a9d41-0963-484d-95ae-c90168ba5fc0",
   "metadata": {},
   "outputs": [
    {
     "name": "stdout",
     "output_type": "stream",
     "text": [
      "[1, 2, 3, 4, 5]\n",
      "a    1\n",
      "b    2\n",
      "c    3\n",
      "d    4\n",
      "e    5\n",
      "dtype: int64\n"
     ]
    }
   ],
   "source": [
    "import pandas as pd\n",
    "x = [1,2,3,4,5]\n",
    "print(x)\n",
    "# Series with different index number\n",
    "var = pd.Series(x,index=['a','b','c','d','e'])\n",
    "print(var)"
   ]
  },
  {
   "cell_type": "markdown",
   "id": "f7a8ea98-0fc1-46c5-ab26-8f7ec1cb6c0e",
   "metadata": {},
   "source": [
    "# Series with multiple agrs and Series Name"
   ]
  },
  {
   "cell_type": "code",
   "execution_count": 1,
   "id": "fd4a6f12-f23e-4218-af3c-daac34e2c171",
   "metadata": {},
   "outputs": [
    {
     "name": "stdout",
     "output_type": "stream",
     "text": [
      "r    1\n",
      "a    2\n",
      "d    3\n",
      "h    4\n",
      "e    5\n",
      "Name: Python, dtype: int64\n"
     ]
    }
   ],
   "source": [
    "import pandas as pd;\n",
    "x = [1,2,3,4,5]\n",
    "# Series with list, index and series name\n",
    "Name='Python'\n",
    "index_0=['r','a','d','h','e']\n",
    "var = pd.Series(x,index=index_0,name=Name)\n",
    "print(var)\n",
    "# print(help(pd.Series))"
   ]
  },
  {
   "cell_type": "code",
   "execution_count": 9,
   "id": "26fa5fec-ad63-4373-934a-0341dc33807f",
   "metadata": {},
   "outputs": [
    {
     "name": "stdout",
     "output_type": "stream",
     "text": [
      "['T', '_AXIS_LEN', '_AXIS_ORDERS', '_AXIS_TO_AXIS_NUMBER', '_HANDLED_TYPES', '__abs__', '__add__', '__and__', '__annotations__', '__array__', '__array_priority__', '__array_ufunc__', '__bool__', '__class__', '__contains__', '__copy__', '__deepcopy__', '__delattr__', '__delitem__', '__dict__', '__dir__', '__divmod__', '__doc__', '__eq__', '__finalize__', '__float__', '__floordiv__', '__format__', '__ge__', '__getattr__', '__getattribute__', '__getitem__', '__getstate__', '__gt__', '__hash__', '__iadd__', '__iand__', '__ifloordiv__', '__imod__', '__imul__', '__init__', '__init_subclass__', '__int__', '__invert__', '__ior__', '__ipow__', '__isub__', '__iter__', '__itruediv__', '__ixor__', '__le__', '__len__', '__lt__', '__matmul__', '__mod__', '__module__', '__mul__', '__ne__', '__neg__', '__new__', '__nonzero__', '__or__', '__pos__', '__pow__', '__radd__', '__rand__', '__rdivmod__', '__reduce__', '__reduce_ex__', '__repr__', '__rfloordiv__', '__rmatmul__', '__rmod__', '__rmul__', '__ror__', '__round__', '__rpow__', '__rsub__', '__rtruediv__', '__rxor__', '__setattr__', '__setitem__', '__setstate__', '__sizeof__', '__str__', '__sub__', '__subclasshook__', '__truediv__', '__weakref__', '__xor__', '_accessors', '_accum_func', '_add_numeric_operations', '_agg_examples_doc', '_agg_see_also_doc', '_align_frame', '_align_series', '_append', '_arith_method', '_as_manager', '_binop', '_can_hold_na', '_check_inplace_and_allows_duplicate_labels', '_check_inplace_setting', '_check_is_chained_assignment_possible', '_check_label_or_level_ambiguity', '_check_setitem_copy', '_clear_item_cache', '_clip_with_one_bound', '_clip_with_scalar', '_cmp_method', '_consolidate', '_consolidate_inplace', '_construct_axes_dict', '_construct_result', '_constructor', '_constructor_expanddim', '_convert_dtypes', '_data', '_dir_additions', '_dir_deletions', '_drop_axis', '_drop_labels_or_levels', '_duplicated', '_find_valid_index', '_get_axis', '_get_axis_name', '_get_axis_number', '_get_axis_resolvers', '_get_block_manager_axis', '_get_bool_data', '_get_cacher', '_get_cleaned_column_resolvers', '_get_index_resolvers', '_get_label_or_level_values', '_get_numeric_data', '_get_value', '_get_values', '_get_values_tuple', '_get_with', '_gotitem', '_hidden_attrs', '_indexed_same', '_info_axis', '_info_axis_name', '_info_axis_number', '_init_dict', '_init_mgr', '_inplace_method', '_internal_names', '_internal_names_set', '_is_cached', '_is_copy', '_is_label_or_level_reference', '_is_label_reference', '_is_level_reference', '_is_mixed_type', '_is_view', '_ixs', '_logical_func', '_logical_method', '_map_values', '_maybe_update_cacher', '_memory_usage', '_metadata', '_min_count_stat_function', '_needs_reindex_multi', '_protect_consolidate', '_reduce', '_references', '_reindex_axes', '_reindex_indexer', '_reindex_multi', '_reindex_with_indexers', '_rename', '_replace_single', '_repr_data_resource_', '_repr_latex_', '_reset_cache', '_reset_cacher', '_set_as_cached', '_set_axis', '_set_axis_name', '_set_axis_nocheck', '_set_is_copy', '_set_labels', '_set_name', '_set_value', '_set_values', '_set_with', '_set_with_engine', '_slice', '_stat_axis', '_stat_axis_name', '_stat_axis_number', '_stat_function', '_stat_function_ddof', '_take', '_take_with_is_copy', '_to_latex_via_styler', '_typ', '_update_inplace', '_validate_dtype', '_values', '_where', 'abs', 'add', 'add_prefix', 'add_suffix', 'agg', 'aggregate', 'align', 'all', 'any', 'apply', 'argmax', 'argmin', 'argsort', 'array', 'asfreq', 'asof', 'astype', 'at', 'at_time', 'attrs', 'autocorr', 'axes', 'backfill', 'between', 'between_time', 'bfill', 'bool', 'cat', 'clip', 'combine', 'combine_first', 'compare', 'convert_dtypes', 'copy', 'corr', 'count', 'cov', 'cummax', 'cummin', 'cumprod', 'cumsum', 'describe', 'diff', 'div', 'divide', 'divmod', 'dot', 'drop', 'drop_duplicates', 'droplevel', 'dropna', 'dt', 'dtype', 'dtypes', 'duplicated', 'empty', 'eq', 'equals', 'ewm', 'expanding', 'explode', 'factorize', 'ffill', 'fillna', 'filter', 'first', 'first_valid_index', 'flags', 'floordiv', 'ge', 'get', 'groupby', 'gt', 'hasnans', 'head', 'hist', 'iat', 'idxmax', 'idxmin', 'iloc', 'index', 'infer_objects', 'info', 'interpolate', 'is_monotonic_decreasing', 'is_monotonic_increasing', 'is_unique', 'isin', 'isna', 'isnull', 'item', 'items', 'keys', 'kurt', 'kurtosis', 'last', 'last_valid_index', 'le', 'loc', 'lt', 'map', 'mask', 'max', 'mean', 'median', 'memory_usage', 'min', 'mod', 'mode', 'mul', 'multiply', 'name', 'nbytes', 'ndim', 'ne', 'nlargest', 'notna', 'notnull', 'nsmallest', 'nunique', 'pad', 'pct_change', 'pipe', 'plot', 'pop', 'pow', 'prod', 'product', 'quantile', 'radd', 'rank', 'ravel', 'rdiv', 'rdivmod', 'reindex', 'reindex_like', 'rename', 'rename_axis', 'reorder_levels', 'repeat', 'replace', 'resample', 'reset_index', 'rfloordiv', 'rmod', 'rmul', 'rolling', 'round', 'rpow', 'rsub', 'rtruediv', 'sample', 'searchsorted', 'sem', 'set_axis', 'set_flags', 'shape', 'shift', 'size', 'skew', 'sort_index', 'sort_values', 'sparse', 'squeeze', 'std', 'str', 'sub', 'subtract', 'sum', 'swapaxes', 'swaplevel', 'tail', 'take', 'to_clipboard', 'to_csv', 'to_dict', 'to_excel', 'to_frame', 'to_hdf', 'to_json', 'to_latex', 'to_list', 'to_markdown', 'to_numpy', 'to_period', 'to_pickle', 'to_sql', 'to_string', 'to_timestamp', 'to_xarray', 'tolist', 'transform', 'transpose', 'truediv', 'truncate', 'tz_convert', 'tz_localize', 'unique', 'unstack', 'update', 'value_counts', 'values', 'var', 'view', 'where', 'xs']\n"
     ]
    }
   ],
   "source": [
    "import pandas as pd;\n",
    "print(dir(pd.Series))"
   ]
  },
  {
   "cell_type": "code",
   "execution_count": 12,
   "id": "83f43f40-2993-4e45-9bf2-1d99e14f208a",
   "metadata": {},
   "outputs": [
    {
     "name": "stdout",
     "output_type": "stream",
     "text": [
      "5    1\n",
      "4    2\n",
      "3    3\n",
      "2    4\n",
      "1    5\n",
      "Name: Radhe, dtype: int64\n"
     ]
    }
   ],
   "source": [
    "import pandas as pd;\n",
    "x = (1,2,3,4,5)\n",
    "Name='Radhe'\n",
    "index1=[5,4,3,2,1]\n",
    "var = pd.Series(x,index=index1,name=Name)\n",
    "print(var)"
   ]
  },
  {
   "cell_type": "code",
   "execution_count": 14,
   "id": "f8348805-8d49-4ea0-812e-08f64e4f2a44",
   "metadata": {},
   "outputs": [
    {
     "name": "stdout",
     "output_type": "stream",
     "text": [
      "a    1\n",
      "b    2\n",
      "c    3\n",
      "dtype: int64\n"
     ]
    }
   ],
   "source": [
    "import pandas as pd;\n",
    "# class pandas.Series(data=None, index=None, dtype=None, name=None, copy=None, fastpath=False)\n",
    "dic = {'a':1,'b':2,'c':3}\n",
    "var = pd.Series(dic)\n",
    "print(var)"
   ]
  },
  {
   "cell_type": "code",
   "execution_count": 19,
   "id": "2fc06fa5-b1c0-4376-a037-b84180d9a4ab",
   "metadata": {},
   "outputs": [
    {
     "name": "stdout",
     "output_type": "stream",
     "text": [
      "a    1\n",
      "b    2\n",
      "c    3\n",
      "Name: RADHE, dtype: int64\n"
     ]
    }
   ],
   "source": [
    "import pandas as pd;\n",
    "dic = {'a':1,'b':2,'c':3}\n",
    "index0 = [1,2,3]\n",
    "Name='RADHE'\n",
    "var = pd.Series(data=dic,name=Name)\n",
    "print(var)"
   ]
  },
  {
   "cell_type": "code",
   "execution_count": 12,
   "id": "6e0549d8-417c-44e8-a8b0-78de1bd2b440",
   "metadata": {},
   "outputs": [
    {
     "name": "stdout",
     "output_type": "stream",
     "text": [
      "938787426915715484\n"
     ]
    }
   ],
   "source": [
    "import pandas as pd;\n",
    "# x={'a':1}; # dictionary is not hashable\n",
    "# print(hash(x)) # it will give an error because dictionary is not hashable\n",
    "# x=(2,) # tuple is hashable\n",
    "# x = {1,2,3} # set is not hashable\n",
    "# x = [1,2,3,4] # list is not hashable\n",
    "# x = 1.0 # float is hashable\n",
    "# x = 'str' # string is hashable\n",
    "# bool:x=1 # boolean is hashable\n",
    "char:x='A' # char is hashable\n",
    "print(hash(x))\n",
    "# x.__hashable__()"
   ]
  },
  {
   "cell_type": "markdown",
   "id": "e5527803-a9b0-4b2e-922f-04782f3b57ec",
   "metadata": {},
   "source": [
    "# DataFrame using list"
   ]
  },
  {
   "cell_type": "code",
   "execution_count": 6,
   "id": "dbde271c-7b5e-4167-811d-c93a47eff1c9",
   "metadata": {},
   "outputs": [
    {
     "name": "stdout",
     "output_type": "stream",
     "text": [
      "   0\n",
      "4  1\n",
      "5  2\n",
      "6  3\n",
      "7  4\n",
      "8  5\n"
     ]
    }
   ],
   "source": [
    "import pandas as pd\n",
    "l1 = [1,2,3,4,5]\n",
    "l2 = [4,5,6,7,8]\n",
    "# first argument is taking as column and second is as index\n",
    "var1 = pd.DataFrame(l1,index=l2)\n",
    "print(var1)"
   ]
  },
  {
   "cell_type": "markdown",
   "id": "7c30469c-f965-425a-aef2-7c8475ae0aae",
   "metadata": {},
   "source": [
    "# DataFrame using two list"
   ]
  },
  {
   "cell_type": "code",
   "execution_count": 9,
   "id": "b1c5858d-f6e7-453f-baae-3a9c7a3a94d7",
   "metadata": {},
   "outputs": [
    {
     "name": "stdout",
     "output_type": "stream",
     "text": [
      "   0  1  2  3  4\n",
      "0  1  2  3  4  5\n",
      "1  a  b  c  d  e\n"
     ]
    }
   ],
   "source": [
    "import pandas as pd\n",
    "l1 = [1,2,3,4,5]\n",
    "l2 = ['a','b','c','d','e']\n",
    "var = pd.DataFrame(data=[l1,l2])\n",
    "print(var)"
   ]
  },
  {
   "cell_type": "markdown",
   "id": "13180049-5417-44c7-ac34-3b79860009d8",
   "metadata": {},
   "source": [
    "# DataFrame using Dictionary"
   ]
  },
  {
   "cell_type": "code",
   "execution_count": 7,
   "id": "e99b5d15-0eb7-4194-a01e-679c8aa93952",
   "metadata": {},
   "outputs": [
    {
     "name": "stdout",
     "output_type": "stream",
     "text": [
      "   a0  b0  c0\n",
      "a   1   4   2\n",
      "b   2   5   3\n",
      "c   3   6   4\n",
      "d   4   7   5\n",
      "e   5   8   6\n"
     ]
    }
   ],
   "source": [
    "import pandas as pd\n",
    "dic = {'a0':[1,2,3,4,5],'b0':[4,5,6,7,8],'c0':[2,3,4,5,6]}\n",
    "idx = ['a','b','c','d','e']\n",
    "var = pd.DataFrame(data=dic,index=idx)\n",
    "print(var)"
   ]
  },
  {
   "cell_type": "markdown",
   "id": "a15635b1-4bdb-4a9f-99d7-beb275db954d",
   "metadata": {},
   "source": [
    "# Extracting the data from Dataframe"
   ]
  },
  {
   "cell_type": "code",
   "execution_count": 5,
   "id": "3ae223d5-fbf2-458a-865e-35d9dceba4dc",
   "metadata": {},
   "outputs": [
    {
     "name": "stdout",
     "output_type": "stream",
     "text": [
      "   a0\n",
      "0   1\n",
      "1   2\n",
      "2   3\n",
      "3   4\n",
      "4   5\n"
     ]
    }
   ],
   "source": [
    "import pandas as pd\n",
    "dic = {'a0':[1,2,3,4,5],'b0':[6,7,8,9,0],'c0':[5,6,7,8,9]}\n",
    "# print(dic)\n",
    "df = pd.DataFrame(data=dic,columns=['a0'])\n",
    "print(df)"
   ]
  },
  {
   "cell_type": "code",
   "execution_count": 8,
   "id": "b950ca3a-a14c-42c0-8443-77beb146a413",
   "metadata": {},
   "outputs": [
    {
     "name": "stdout",
     "output_type": "stream",
     "text": [
      "   c0  a0\n",
      "5   4   1\n",
      "6   5   2\n",
      "7   6   3\n",
      "8   7   4\n",
      "9   8   5\n",
      "<class 'pandas.core.frame.DataFrame'>\n"
     ]
    }
   ],
   "source": [
    "import pandas as pd\n",
    "dic = {'a0':[1,2,3,4,5],'b0':[3,4,5,6,7],'c0':[4,5,6,7,8]}\n",
    "df = pd.DataFrame(data=dic,columns=['c0', 'a0'], index=[5,6,7,8,9])\n",
    "print(df)\n",
    "print(type(df))"
   ]
  },
  {
   "cell_type": "code",
   "execution_count": 9,
   "id": "654ff1c6-673e-472d-832c-a5060e9b6e97",
   "metadata": {},
   "outputs": [
    {
     "name": "stdout",
     "output_type": "stream",
     "text": [
      "5    1\n",
      "6    2\n",
      "7    3\n",
      "8    4\n",
      "9    5\n",
      "Name: a0, dtype: int64\n"
     ]
    }
   ],
   "source": [
    "import pandas as pd\n",
    "dic = {'a0':[1,2,3,4,5],'b0':[3,4,5,6,7],'c0':[4,5,6,7,8]}\n",
    "df = pd.DataFrame(data=dic, index=[5,6,7,8,9])\n",
    "print(df['a0'])"
   ]
  },
  {
   "cell_type": "code",
   "execution_count": 15,
   "id": "d217e592-623c-4d50-8495-4d5c4f074c8c",
   "metadata": {},
   "outputs": [
    {
     "name": "stdout",
     "output_type": "stream",
     "text": [
      "3\n"
     ]
    }
   ],
   "source": [
    "import pandas as pd\n",
    "dic = {\"a0\":[1,2,3,4,5],\"b0\":[3,4,5,6,7],\"c0\":[4,5,6,7,8]}\n",
    "df = pd.DataFrame(data=dic, index=[5,6,7,8,9])\n",
    "print(df[\"a0\"][7])"
   ]
  },
  {
   "cell_type": "code",
   "execution_count": 17,
   "id": "6a6af9a3-ba0a-4d5c-9d6f-79c4a594aa40",
   "metadata": {},
   "outputs": [
    {
     "name": "stdout",
     "output_type": "stream",
     "text": [
      "1\n"
     ]
    }
   ],
   "source": [
    "import pandas as pd\n",
    "dic = {\"a0\":[1,2,3,4,5],\"b0\":[3,4,5,6,7],\"c0\":[4,5,6,7,8]}\n",
    "df = pd.DataFrame(data=dic, index=[i for i in range(5)])\n",
    "print(df[\"a0\"][0])"
   ]
  },
  {
   "cell_type": "markdown",
   "id": "eebace83-221b-4799-9e61-417564444952",
   "metadata": {},
   "source": [
    "# Arithmetic operation with DataFrame"
   ]
  },
  {
   "cell_type": "code",
   "execution_count": 20,
   "id": "13a2d2e0-a7a1-4332-9a9f-eb05391aa1ec",
   "metadata": {},
   "outputs": [
    {
     "name": "stdout",
     "output_type": "stream",
     "text": [
      "   a0  b0  c0\n",
      "0   1   4   3\n",
      "1   2   5   4\n",
      "2   3   6   5\n",
      "3   4   7   6\n",
      "4   5   8   7\n",
      "   a0  b0  c0  d0\n",
      "0   1   4   3   1\n",
      "1   2   5   4   3\n",
      "2   3   6   5   4\n",
      "3   4   7   6   7\n",
      "4   5   8   7   8\n"
     ]
    }
   ],
   "source": [
    "import pandas as pd\n",
    "dic = {\"a0\":[1,2,3,4,5],\"b0\":[4,5,6,7,8],\"c0\":[3,4,5,6,7]}\n",
    "df = pd.DataFrame(data=dic)\n",
    "print(df)\n",
    "# adding another column to the DataFrame\n",
    "df[\"d0\"]=[1,3,4,7,8]\n",
    "print(df)"
   ]
  },
  {
   "cell_type": "markdown",
   "id": "a2bbca01-60e4-4b3f-8cea-ee3974544a30",
   "metadata": {},
   "source": [
    "# Adding two columns to the DataFrame"
   ]
  },
  {
   "cell_type": "code",
   "execution_count": 33,
   "id": "bff3056b-6a8d-4cb7-90f9-2dca91d1f94d",
   "metadata": {},
   "outputs": [
    {
     "name": "stdout",
     "output_type": "stream",
     "text": [
      "   a  b\n",
      "0  3  4\n",
      "1  4  5\n",
      "2  2  6\n",
      "3  5  1\n",
      "4  1  2\n",
      "   a  b  add\n",
      "0  3  4    7\n",
      "1  4  5    9\n",
      "2  2  6    8\n",
      "3  5  1    6\n",
      "4  1  2    3\n"
     ]
    }
   ],
   "source": [
    "import pandas as pd\n",
    "dic = {'a':[3,4,2,5,1],'b':[4,5,6,1,2]}\n",
    "# print()\n",
    "df = pd.DataFrame(data=dic)\n",
    "print(df)\n",
    "df['add'] = df['a']+df['b']\n",
    "print(df)"
   ]
  },
  {
   "cell_type": "markdown",
   "id": "d4a1ca72-c24c-4772-9018-e37336b4153a",
   "metadata": {},
   "source": [
    "# Subtracting two columns to the DataFrame"
   ]
  },
  {
   "cell_type": "code",
   "execution_count": 26,
   "id": "ae0a3d59-8afe-4cd6-a74d-43b6c4e0a5b6",
   "metadata": {},
   "outputs": [
    {
     "name": "stdout",
     "output_type": "stream",
     "text": [
      "   a  b  sub\n",
      "0  1  2    1\n",
      "1  2  3    1\n",
      "2  3  4    1\n",
      "3  4  5    1\n",
      "4  5  6    1\n"
     ]
    }
   ],
   "source": [
    "import pandas as pd\n",
    "dic = {'a':[1,2,3,4,5], 'b':[2,3,4,5,6]}\n",
    "df = pd.DataFrame(data=dic)\n",
    "df['sub']= df['b']-df['a']\n",
    "print(df)"
   ]
  },
  {
   "cell_type": "markdown",
   "id": "ca9a7364-5fb0-4b87-84be-e0230f7a1dfc",
   "metadata": {},
   "source": [
    "# Dividing two colums in DataFrame"
   ]
  },
  {
   "cell_type": "code",
   "execution_count": 29,
   "id": "fa679aba-64d9-4626-867a-4b38312da899",
   "metadata": {},
   "outputs": [
    {
     "name": "stdout",
     "output_type": "stream",
     "text": [
      "   a  b       div\n",
      "0  2  5  2.500000\n",
      "1  3  4  1.333333\n",
      "2  4  3  0.750000\n",
      "3  5  6  1.200000\n",
      "4  6  2  0.333333\n"
     ]
    }
   ],
   "source": [
    "import pandas as pd\n",
    "dic = {'a':[2,3,4,5,6],'b':[5,4,3,6,2]}\n",
    "df = pd.DataFrame(data=dic)\n",
    "df['div']=df['b']/df['a']\n",
    "print(df)"
   ]
  },
  {
   "cell_type": "markdown",
   "id": "dfa48359-731e-466e-bc8e-6f20283d209f",
   "metadata": {},
   "source": [
    "# Multiplying two columns in DataFrame"
   ]
  },
  {
   "cell_type": "code",
   "execution_count": 32,
   "id": "13fb0e82-0551-4111-8a3b-5965cc4bcdaa",
   "metadata": {},
   "outputs": [
    {
     "name": "stdout",
     "output_type": "stream",
     "text": [
      "   a  b\n",
      "0  2  1\n",
      "1  3  4\n",
      "2  4  5\n",
      "3  5  6\n",
      "4  6  7\n",
      "   a  b  mul\n",
      "0  2  1    2\n",
      "1  3  4   12\n",
      "2  4  5   20\n",
      "3  5  6   30\n",
      "4  6  7   42\n"
     ]
    }
   ],
   "source": [
    "import pandas as pd\n",
    "dic = {'a':[2,3,4,5,6],'b':[1,4,5,6,7]}\n",
    "df = pd.DataFrame(data=dic)\n",
    "print(df)\n",
    "df['mul']=df['b']*df['a']\n",
    "# New dataframe\n",
    "print(df)"
   ]
  },
  {
   "cell_type": "markdown",
   "id": "adfb8cd0-103e-4c59-a135-58f610848b5d",
   "metadata": {},
   "source": [
    "# Comparision operator"
   ]
  },
  {
   "cell_type": "code",
   "execution_count": 44,
   "id": "ad68f914-34c3-48f4-887a-3168a7eec664",
   "metadata": {},
   "outputs": [
    {
     "name": "stdout",
     "output_type": "stream",
     "text": [
      "   a  b  A >= 3\n",
      "0  1  3   False\n",
      "1  2  4   False\n",
      "2  3  5    True\n",
      "3  4  6    True\n",
      "4  5  7    True\n"
     ]
    }
   ],
   "source": [
    "import pandas as pd\n",
    "dic = {'a':[1,2,3,4,5],'b':[3,4,5,6,7]}\n",
    "df = pd.DataFrame(data=dic)\n",
    "df[\"A >= 3\"]=df['a']>=3\n",
    "print(df)"
   ]
  },
  {
   "cell_type": "markdown",
   "id": "5ddba96c-879b-4f91-87e1-c2ab033cbf4e",
   "metadata": {},
   "source": [
    "# Insert a value"
   ]
  },
  {
   "cell_type": "code",
   "execution_count": 45,
   "id": "6532c68f-c7e3-4bf0-ab7a-2f55f7c43aac",
   "metadata": {},
   "outputs": [
    {
     "name": "stdout",
     "output_type": "stream",
     "text": [
      "   a  b\n",
      "0  1  2\n",
      "1  2  3\n",
      "2  3  4\n",
      "3  4  5\n",
      "4  5  6\n",
      "    a  b\n",
      "0  10  2\n",
      "1   2  3\n",
      "2   3  4\n",
      "3   4  5\n",
      "4   5  6\n"
     ]
    }
   ],
   "source": [
    "import pandas as pd;\n",
    "dic = {'a':[1,2,3,4,5],'b':[2,3,4,5,6]}\n",
    "df = pd.DataFrame(data=dic)\n",
    "print(df)\n",
    "df['a'][0]=10\n",
    "print(df)"
   ]
  },
  {
   "cell_type": "markdown",
   "id": "0385cba2-67c8-429d-9929-aba9b363f235",
   "metadata": {},
   "source": [
    "# Insert a columns using insert method"
   ]
  },
  {
   "cell_type": "code",
   "execution_count": 54,
   "id": "62fabd5c-9a37-41e4-87c7-83f1d48790f0",
   "metadata": {},
   "outputs": [
    {
     "name": "stdout",
     "output_type": "stream",
     "text": [
      "Empty DataFrame\n",
      "Columns: []\n",
      "Index: []\n",
      "   A\n",
      "0  1\n",
      "1  2\n",
      "2  3\n",
      "3  4\n",
      "4  5\n",
      "   A  B\n",
      "0  1  2\n",
      "1  2  3\n",
      "2  3  4\n",
      "3  4  5\n",
      "4  5  6\n"
     ]
    }
   ],
   "source": [
    "import pandas as pd\n",
    "df = pd.DataFrame()\n",
    "print(df)\n",
    "# Using the insert function \n",
    "# It will insert at 0'th column\n",
    "df.insert(0,\"A\",[1,2,3,4,5])\n",
    "print(df)\n",
    "# It will insert at 1'st index\n",
    "df.insert(1,\"B\",[2,3,4,5,6])\n",
    "print(df)"
   ]
  },
  {
   "cell_type": "code",
   "execution_count": 57,
   "id": "4e1ff5f4-e1c0-404b-9773-4f4594606ec9",
   "metadata": {},
   "outputs": [
    {
     "name": "stdout",
     "output_type": "stream",
     "text": [
      "   A  C\n",
      "0  1  2\n",
      "1  2  3\n",
      "2  3  4\n",
      "3  4  5\n",
      "4  5  6\n",
      "   A  B  C\n",
      "0  1  3  2\n",
      "1  2  4  3\n",
      "2  3  5  4\n",
      "3  4  6  5\n",
      "4  5  7  6\n"
     ]
    }
   ],
   "source": [
    "import pandas as pd;\n",
    "df = pd.DataFrame()\n",
    "df.insert(0,'A',[1,2,3,4,5])\n",
    "df.insert(1,'C',[2,3,4,5,6])\n",
    "print(df)\n",
    "# it will insert the column after A and before C\n",
    "df.insert(1,'B',[3,4,5,6,7])\n",
    "print(df)"
   ]
  },
  {
   "cell_type": "code",
   "execution_count": 60,
   "id": "d6ff4d7b-e478-435e-a32f-1dc02f0a9676",
   "metadata": {},
   "outputs": [
    {
     "name": "stdout",
     "output_type": "stream",
     "text": [
      "   a  b\n",
      "0  1  3\n",
      "1  2  4\n",
      "2  3  5\n",
      "3  4  6\n",
      "4  5  7\n",
      "   a  b    c\n",
      "0  1  3  1.0\n",
      "1  2  4  2.0\n",
      "2  3  5  3.0\n",
      "3  4  6  NaN\n",
      "4  5  7  NaN\n"
     ]
    }
   ],
   "source": [
    "import pandas as pd\n",
    "dic ={'a':[1,2,3,4,5],'b':[3,4,5,6,7]}\n",
    "df = pd.DataFrame(data=dic)\n",
    "print(df)\n",
    "# Inserting a column with slicing method\n",
    "df['c']=df['a'][:3]\n",
    "print(df)"
   ]
  },
  {
   "cell_type": "markdown",
   "id": "9176d53c-f9bf-4dde-b1e2-84da432d1716",
   "metadata": {},
   "source": [
    "# Delete the column"
   ]
  },
  {
   "cell_type": "code",
   "execution_count": 65,
   "id": "6be625ff-1894-4b59-b730-124877c3761c",
   "metadata": {},
   "outputs": [
    {
     "name": "stdout",
     "output_type": "stream",
     "text": [
      "   a  b  c\n",
      "a  1  2  3\n",
      "b  2  3  4\n",
      "c  3  4  5\n",
      "d  4  5  6\n",
      "e  5  6  7\n",
      "   b  c\n",
      "a  2  3\n",
      "b  3  4\n",
      "c  4  5\n",
      "d  5  6\n",
      "e  6  7\n"
     ]
    }
   ],
   "source": [
    "import pandas as pd;\n",
    "dic = {'a':[1,2,3,4,5], 'b':[2,3,4,5,6],'c':[3,4,5,6,7]}\n",
    "df = pd.DataFrame(data=dic,index=[i for i in \"abcde\"])\n",
    "print(df)\n",
    "del df['a']\n",
    "# DataFrame after deleting column a\n",
    "print(df)"
   ]
  },
  {
   "cell_type": "code",
   "execution_count": 68,
   "id": "40db296c-6153-4a3e-ae7a-4072a7c88469",
   "metadata": {},
   "outputs": [
    {
     "name": "stdout",
     "output_type": "stream",
     "text": [
      "{'a': [1, 2, 3, 4, 5], 'b': [2, 3, 4, 5, 6]}\n"
     ]
    }
   ],
   "source": [
    "import pandas as pd\n",
    "dic = {'a':[i for i in range(1,6)],'b':[i+1 for i in range(1,6)]}\n",
    "print(dic)"
   ]
  },
  {
   "cell_type": "code",
   "execution_count": 24,
   "id": "067be26c-b91f-4f93-a79e-28d4749ac023",
   "metadata": {},
   "outputs": [
    {
     "name": "stdout",
     "output_type": "stream",
     "text": [
      "Empty DataFrame\n",
      "Columns: []\n",
      "Index: [a0, b0, c0, d0, e0]\n",
      "    A\n",
      "a0  1\n",
      "b0  2\n",
      "c0  3\n",
      "d0  4\n",
      "e0  5\n",
      "    A  B\n",
      "a0  1  1\n",
      "b0  2  2\n",
      "c0  3  3\n",
      "d0  4  4\n",
      "e0  5  5\n",
      "    A  B    C\n",
      "a0  1  1  NaN\n",
      "b0  2  2  NaN\n",
      "c0  3  3  3.0\n",
      "d0  4  4  4.0\n",
      "e0  5  5  5.0\n",
      "    A  B    C    D\n",
      "a0  1  1  NaN  NaN\n",
      "b0  2  2  NaN  2.0\n",
      "c0  3  3  3.0  3.0\n",
      "d0  4  4  4.0  4.0\n",
      "e0  5  5  5.0  5.0\n",
      "    A  B    C    D    E\n",
      "a0  1  1  NaN  NaN  1.0\n",
      "b0  2  2  NaN  2.0  2.0\n",
      "c0  3  3  3.0  3.0  3.0\n",
      "d0  4  4  4.0  4.0  4.0\n",
      "e0  5  5  5.0  5.0  NaN\n"
     ]
    }
   ],
   "source": [
    "import pandas as pd\n",
    "df = pd.DataFrame(index=['a0','b0','c0','d0','e0'])\n",
    "print(df)\n",
    "df.insert(0,'A',[i for i in range(1,6)])\n",
    "print(df)\n",
    "df.insert(1,'B',[i for i in range(1,6)])\n",
    "print(df)\n",
    "df['C']=df['B'][2:]\n",
    "print(df)\n",
    "df['D']=df['B'][1:]\n",
    "print(df)\n",
    "df['E']=df['B'][:4]\n",
    "print(df)"
   ]
  },
  {
   "cell_type": "markdown",
   "id": "8891814d-d0ab-48d2-b693-5b6ab334135b",
   "metadata": {},
   "source": [
    "# Creating a Data Frame using Series function"
   ]
  },
  {
   "cell_type": "code",
   "execution_count": 2,
   "id": "e86c72cf-3e99-453b-b89c-501009fb4b39",
   "metadata": {},
   "outputs": [
    {
     "name": "stdout",
     "output_type": "stream",
     "text": [
      "   s  r\n",
      "0  1  6\n",
      "1  2  7\n",
      "2  3  8\n",
      "3  4  9\n",
      "4  5  0\n"
     ]
    }
   ],
   "source": [
    "import pandas as pd\n",
    "d = {'s':pd.Series([1,2,3,4,5]), 'r':pd.Series([6,7,8,9,0])}\n",
    "df = pd.DataFrame(data=d)\n",
    "print(df)"
   ]
  },
  {
   "cell_type": "markdown",
   "id": "3c8f2c3a-1450-44c3-9507-c4351330328f",
   "metadata": {},
   "source": [
    "# Writing to CSV file"
   ]
  },
  {
   "cell_type": "code",
   "execution_count": 4,
   "id": "5be254da-f782-4d36-a402-a5a0360cfc75",
   "metadata": {},
   "outputs": [
    {
     "name": "stdout",
     "output_type": "stream",
     "text": [
      "{'a': [1, 2, 3, 4, 5], 'b': [1, 2, 3, 4, 5], 'c': [1, 2, 3, 4, 5]}\n"
     ]
    }
   ],
   "source": [
    "import pandas as pd\n",
    "dic={'a':[i for i in range(1,6)],'b':[i for i in range(1,6)],'c':[i for i in range(1,6)]}\n",
    "print(dic)\n",
    "df = pd.DataFrame(data=dic)\n",
    "df.to_csv('first.csv')"
   ]
  },
  {
   "cell_type": "code",
   "execution_count": 10,
   "id": "fc34a44c-b92b-4f8e-a19f-62992282647a",
   "metadata": {},
   "outputs": [],
   "source": [
    "import pandas as pd\n",
    "# Dropping index in csv file\n",
    "dic = {'a':[i for i in range(1,6)],'b':[i for i in range(1,6)],'c':[i for i in range(1,6)]}\n",
    "df = pd.DataFrame(data=dic)\n",
    "df.to_csv('CsvWithOutIdx.csv',index=False)"
   ]
  },
  {
   "cell_type": "code",
   "execution_count": 9,
   "id": "2f319383-db15-4175-b459-1adc4bce1131",
   "metadata": {},
   "outputs": [],
   "source": [
    "# Changing the header\n",
    "# Dropping index in csv file\n",
    "import pandas as pd\n",
    "dic = {'a':[i for i in range(1,6)],'b':[i for i in range(1,6)],'c':[i for i in range(1,6)]}\n",
    "df = pd.DataFrame(data=dic)\n",
    "df.to_csv('CsvWithOutIdx1.csv',index=False,header=False)"
   ]
  },
  {
   "cell_type": "code",
   "execution_count": 12,
   "id": "9e431c41-8e19-4027-9279-aa3104439bba",
   "metadata": {},
   "outputs": [],
   "source": [
    "# Changing the header\n",
    "# Dropping index in csv file\n",
    "import pandas as pd\n",
    "dic = {'a':[i for i in range(1,6)],'b':[i for i in range(1,6)],'c':[i for i in range(1,6)]}\n",
    "df = pd.DataFrame(data=dic)\n",
    "df.to_csv('CsvWithOutIdx2.csv',index=False,header=['Radhe','Shyam','Nikki'])"
   ]
  },
  {
   "cell_type": "code",
   "execution_count": 2,
   "id": "25fc9493-134f-46e7-a413-95c68a5864b9",
   "metadata": {},
   "outputs": [
    {
     "name": "stdout",
     "output_type": "stream",
     "text": [
      "    Unnamed: 0 Gross domestic product 2022  Unnamed: 2           Unnamed: 3  \\\n",
      "0          NaN                         NaN         NaN                  NaN   \n",
      "1          NaN                         NaN         NaN                  NaN   \n",
      "2          NaN                     Ranking         NaN              Economy   \n",
      "3          NaN                         NaN         NaN                  NaN   \n",
      "4          USA                           1         NaN        United States   \n",
      "..         ...                         ...         ...                  ...   \n",
      "233        SSF                         NaN         NaN   Sub-Saharan Africa   \n",
      "234        LIC                         NaN         NaN           Low income   \n",
      "235        LMC                         NaN         NaN  Lower middle income   \n",
      "236        UMC                         NaN         NaN  Upper middle income   \n",
      "237        HIC                         NaN         NaN          High income   \n",
      "\n",
      "       Unnamed: 4 Unnamed: 5  \n",
      "0             NaN        NaN  \n",
      "1    (millions of        NaN  \n",
      "2     US dollars)        NaN  \n",
      "3             NaN        NaN  \n",
      "4     2,54,62,700        NaN  \n",
      "..            ...        ...  \n",
      "233     20,47,347        NaN  \n",
      "234      5,21,634        NaN  \n",
      "235     81,09,650        NaN  \n",
      "236   3,04,95,972        NaN  \n",
      "237   6,15,35,769        NaN  \n",
      "\n",
      "[238 rows x 6 columns]\n"
     ]
    }
   ],
   "source": [
    "import pandas as pd\n",
    "First_Csv = pd.read_csv(r'E:\\NotepadPlusPlus\\Python\\Pandas\\GDP.csv')\n",
    "print(First_Csv)"
   ]
  },
  {
   "cell_type": "code",
   "execution_count": 8,
   "id": "0def1478-25be-4191-8aa9-cea721a0c98e",
   "metadata": {},
   "outputs": [
    {
     "name": "stdout",
     "output_type": "stream",
     "text": [
      "  Country Name  Ranking        Economy millions of US dollars\n",
      "0          USA        1  United States            2,54,62,700\n"
     ]
    }
   ],
   "source": [
    "import pandas as pd\n",
    "# To get the first row data\n",
    "csv_1 = pd.read_csv(r'E:\\NotepadPlusPlus\\Python\\Pandas\\GDP.csv',nrows=1)\n",
    "print(csv_1)"
   ]
  },
  {
   "cell_type": "code",
   "execution_count": 12,
   "id": "aef87e6b-c48a-4cb9-bd2f-764333c8c188",
   "metadata": {},
   "outputs": [
    {
     "name": "stdout",
     "output_type": "stream",
     "text": [
      "    millions of US dollars\n",
      "0              2,54,62,700\n",
      "1              1,79,63,171\n",
      "2                42,31,141\n",
      "3                40,72,192\n",
      "4                33,85,090\n",
      "..                     ...\n",
      "229              20,47,347\n",
      "230               5,21,634\n",
      "231              81,09,650\n",
      "232            3,04,95,972\n",
      "233            6,15,35,769\n",
      "\n",
      "[234 rows x 1 columns]\n"
     ]
    }
   ],
   "source": [
    "# To get the column data\n",
    "import pandas as pd\n",
    "csv_2 = pd.read_csv(r'E:\\NotepadPlusPlus\\Python\\Pandas\\GDP.csv',usecols=['millions of US dollars'])\n",
    "print(csv_2)"
   ]
  },
  {
   "cell_type": "code",
   "execution_count": 14,
   "id": "ec745594-4426-419c-9d55-813e10d303ce",
   "metadata": {},
   "outputs": [
    {
     "name": "stdout",
     "output_type": "stream",
     "text": [
      "                 Economy millions of US dollars\n",
      "0          United States            2,54,62,700\n",
      "1                  China            1,79,63,171\n",
      "2                  Japan              42,31,141\n",
      "3                Germany              40,72,192\n",
      "4                  India              33,85,090\n",
      "..                   ...                    ...\n",
      "229   Sub-Saharan Africa              20,47,347\n",
      "230           Low income               5,21,634\n",
      "231  Lower middle income              81,09,650\n",
      "232  Upper middle income            3,04,95,972\n",
      "233          High income            6,15,35,769\n",
      "\n",
      "[234 rows x 2 columns]\n"
     ]
    }
   ],
   "source": [
    "# To get the value from 2 columns\n",
    "import pandas as pd\n",
    "csv_3=pd.read_csv(r'E:\\NotepadPlusPlus\\Python\\Pandas\\GDP.csv',usecols=['Economy','millions of US dollars'])\n",
    "print(csv_3)"
   ]
  },
  {
   "cell_type": "code",
   "execution_count": 23,
   "id": "820cd65c-8df4-4d71-b43d-79e8acc44e1b",
   "metadata": {},
   "outputs": [
    {
     "name": "stdout",
     "output_type": "stream",
     "text": [
      "    Country Name\n",
      "0            USA\n",
      "1            CHN\n",
      "2            JPN\n",
      "3            DEU\n",
      "4            IND\n",
      "..           ...\n",
      "229          SSF\n",
      "230          LIC\n",
      "231          LMC\n",
      "232          UMC\n",
      "233          HIC\n",
      "\n",
      "[234 rows x 1 columns]\n",
      "    Country Name  Ranking\n",
      "0            USA      1.0\n",
      "1            CHN      2.0\n",
      "2            JPN      3.0\n",
      "3            DEU      4.0\n",
      "4            IND      5.0\n",
      "..           ...      ...\n",
      "229          SSF      NaN\n",
      "230          LIC      NaN\n",
      "231          LMC      NaN\n",
      "232          UMC      NaN\n",
      "233          HIC      NaN\n",
      "\n",
      "[234 rows x 2 columns]\n",
      "     USA    1\n",
      "0    CHN  2.0\n",
      "1    JPN  3.0\n",
      "2    DEU  4.0\n",
      "3    IND  5.0\n",
      "4    GBR  6.0\n",
      "..   ...  ...\n",
      "228  SSF  NaN\n",
      "229  LIC  NaN\n",
      "230  LMC  NaN\n",
      "231  UMC  NaN\n",
      "232  HIC  NaN\n",
      "\n",
      "[233 rows x 2 columns]\n",
      "    Country Name  Ranking\n",
      "0            CHN      2.0\n",
      "1            JPN      3.0\n",
      "2            DEU      4.0\n",
      "3            IND      5.0\n",
      "4            GBR      6.0\n",
      "..           ...      ...\n",
      "228          SSF      NaN\n",
      "229          LIC      NaN\n",
      "230          LMC      NaN\n",
      "231          UMC      NaN\n",
      "232          HIC      NaN\n",
      "\n",
      "[233 rows x 2 columns]\n",
      "    Country Name  Ranking\n",
      "0            CHN      2.0\n",
      "1            DEU      4.0\n",
      "2            IND      5.0\n",
      "3            GBR      6.0\n",
      "4            FRA      7.0\n",
      "..           ...      ...\n",
      "227          SSF      NaN\n",
      "228          LIC      NaN\n",
      "229          LMC      NaN\n",
      "230          UMC      NaN\n",
      "231          HIC      NaN\n",
      "\n",
      "[232 rows x 2 columns]\n"
     ]
    }
   ],
   "source": [
    "# To get the column by using index numnber\n",
    "import pandas as pd\n",
    "csv_4 = pd.read_csv(r'E:\\NotepadPlusPlus\\Python\\Pandas\\GDP.csv',usecols=[0])\n",
    "print(csv_4)\n",
    "csv_5 = pd.read_csv(r'E:\\NotepadPlusPlus\\Python\\Pandas\\GDP.csv',usecols=[0,1])\n",
    "print(csv_5)\n",
    "csv_6 = pd.read_csv(r'E:\\NotepadPlusPlus\\Python\\Pandas\\GDP.csv',usecols=[0,1],skiprows=1)\n",
    "print(csv_6)\n",
    "csv_7 = pd.read_csv(r'E:\\NotepadPlusPlus\\Python\\Pandas\\GDP.csv',usecols=[0,1],skiprows=[1])\n",
    "print(csv_7)\n",
    "csv_8 = pd.read_csv(r'E:\\NotepadPlusPlus\\Python\\Pandas\\GDP.csv',usecols=[0,1],skiprows=[1,3])\n",
    "print(csv_8)"
   ]
  },
  {
   "cell_type": "code",
   "execution_count": 31,
   "id": "2abb07ee-40c8-4ce0-9ef0-771f0bd71741",
   "metadata": {},
   "outputs": [
    {
     "name": "stdout",
     "output_type": "stream",
     "text": [
      "RangeIndex(start=0, stop=234, step=1)\n",
      "Index(['Country Name', 'Ranking', 'Economy', 'millions of US dollars'], dtype='object')\n",
      "          Ranking\n",
      "count  209.000000\n",
      "mean   105.000000\n",
      "std     60.477268\n",
      "min      1.000000\n",
      "25%     53.000000\n",
      "50%    105.000000\n",
      "75%    157.000000\n",
      "max    209.000000\n"
     ]
    }
   ],
   "source": [
    "import pandas as pd\n",
    "df = pd.read_csv(r'E:\\NotepadPlusPlus\\Python\\Pandas\\GDP.csv')\n",
    "# print(type(df))\n",
    "print(df.index)\n",
    "print(df.columns)\n",
    "print(df.describe())"
   ]
  },
  {
   "cell_type": "code",
   "execution_count": 33,
   "id": "4dcd7516-ea60-4af9-a096-966ec1adda7e",
   "metadata": {},
   "outputs": [
    {
     "name": "stdout",
     "output_type": "stream",
     "text": [
      "  Country Name  Ranking             Economy millions of US dollars\n",
      "0          USA      1.0       United States            2,54,62,700\n",
      "1          CHN      2.0               China            1,79,63,171\n",
      "2          JPN      3.0               Japan              42,31,141\n",
      "3          DEU      4.0             Germany              40,72,192\n",
      "4          IND      5.0               India              33,85,090\n",
      "5          GBR      6.0      United Kingdom              30,70,668\n",
      "6          FRA      7.0              France              27,82,905\n",
      "7          RUS      8.0  Russian Federation              22,40,422\n",
      "8          CAN      9.0              Canada              21,39,840\n",
      "9          ITA     10.0               Italy              20,10,432\n"
     ]
    }
   ],
   "source": [
    "# Slicing the dataframe\n",
    "import pandas as pd\n",
    "df = pd.read_csv(r'E:\\NotepadPlusPlus\\Python\\Pandas\\GDP.csv')\n",
    "print(df[:10])"
   ]
  },
  {
   "cell_type": "code",
   "execution_count": 6,
   "id": "ab3808ed-da87-4774-bbe1-29d94923d2cf",
   "metadata": {},
   "outputs": [
    {
     "name": "stdout",
     "output_type": "stream",
     "text": [
      "0     1.0\n",
      "1     2.0\n",
      "2     3.0\n",
      "3     4.0\n",
      "4     5.0\n",
      "5     6.0\n",
      "6     7.0\n",
      "7     8.0\n",
      "8     9.0\n",
      "9    10.0\n",
      "Name: Ranking, dtype: float64\n"
     ]
    }
   ],
   "source": [
    "import pandas as pd\n",
    "import numpy as np\n",
    "import matplotlib.pyplot as plt\n",
    "# print(\"Hello\")\n",
    "df = pd.read_csv(r'E:\\NotepadPlusPlus\\Python\\Pandas\\GDP.csv')\n",
    "print(df[\"Ranking\"][:10])"
   ]
  },
  {
   "cell_type": "code",
   "execution_count": 11,
   "id": "50f98678-26b7-4948-8ee1-7f2441f4be63",
   "metadata": {},
   "outputs": [
    {
     "name": "stdout",
     "output_type": "stream",
     "text": [
      "0    2,54,62,700\n",
      "1    1,79,63,171\n",
      "2      42,31,141\n",
      "3      40,72,192\n",
      "4      33,85,090\n",
      "Name: millions of US dollars, dtype: object\n"
     ]
    }
   ],
   "source": [
    "import pandas as pd\n",
    "import numpy as np\n",
    "import matplotlib.pyplot as plt\n",
    "df = pd.read_csv(r'E:\\NotepadPlusPlus\\Python\\Pandas\\GDP.csv')\n",
    "# print(df[\"millions of US dollars\"][:20])\n",
    "print(df.head()[\"millions of US dollars\"])"
   ]
  },
  {
   "cell_type": "code",
   "execution_count": 12,
   "id": "09b25987-6118-4f9c-a444-945633343787",
   "metadata": {},
   "outputs": [
    {
     "name": "stdout",
     "output_type": "stream",
     "text": [
      "    Country Name  Ranking              Economy millions of US dollars\n",
      "229          SSF      NaN   Sub-Saharan Africa              20,47,347\n",
      "230          LIC      NaN           Low income               5,21,634\n",
      "231          LMC      NaN  Lower middle income              81,09,650\n",
      "232          UMC      NaN  Upper middle income            3,04,95,972\n",
      "233          HIC      NaN          High income            6,15,35,769\n"
     ]
    }
   ],
   "source": [
    "import pandas as pd\n",
    "import numpy as np\n",
    "import matplotlib.pyplot as plt\n",
    "df = pd.read_csv(r'E:\\NotepadPlusPlus\\Python\\Pandas\\GDP.csv')\n",
    "print(df.tail())"
   ]
  },
  {
   "cell_type": "code",
   "execution_count": 13,
   "id": "bcabb84e-b900-451a-8ce3-7d1d75fb636b",
   "metadata": {},
   "outputs": [
    {
     "name": "stdout",
     "output_type": "stream",
     "text": [
      "  Country Name  Ranking        Economy millions of US dollars\n",
      "0          USA        1  United States            2,54,62,700\n",
      "1          CHN        2          China            1,79,63,171\n"
     ]
    }
   ],
   "source": [
    "import pandas as pd\n",
    "import numpy as np\n",
    "import matplotlib.pyplot as plt\n",
    "df = pd.read_csv(r'E:\\NotepadPlusPlus\\Python\\Pandas\\GDP.csv',nrows=2)\n",
    "print(df)"
   ]
  },
  {
   "cell_type": "code",
   "execution_count": 14,
   "id": "02db16fd-f1c2-407c-948d-90b08dbc55b8",
   "metadata": {},
   "outputs": [
    {
     "name": "stdout",
     "output_type": "stream",
     "text": [
      "  Country Name  Ranking        Economy millions of US dollars\n",
      "0          USA        1  United States            2,54,62,700\n",
      "1          CHN        2          China            1,79,63,171\n",
      "2          JPN        3          Japan              42,31,141\n",
      "3          DEU        4        Germany              40,72,192\n",
      "4          IND        5          India              33,85,090\n"
     ]
    }
   ],
   "source": [
    "import pandas as pd\n",
    "import numpy as np\n",
    "import matplotlib.pyplot as plt\n",
    "df = pd.read_csv(r'E:\\NotepadPlusPlus\\Python\\Pandas\\GDP.csv',nrows=5)\n",
    "print(df)"
   ]
  },
  {
   "cell_type": "code",
   "execution_count": 15,
   "id": "5ac4eab3-9ddf-4ac4-be54-d1205810b33b",
   "metadata": {},
   "outputs": [
    {
     "name": "stdout",
     "output_type": "stream",
     "text": [
      "  Country Name  Ranking\n",
      "0          USA        1\n",
      "1          CHN        2\n",
      "2          JPN        3\n",
      "3          DEU        4\n",
      "4          IND        5\n",
      "5          GBR        6\n",
      "6          FRA        7\n",
      "7          RUS        8\n",
      "8          CAN        9\n",
      "9          ITA       10\n"
     ]
    }
   ],
   "source": [
    "import numpy as np\n",
    "import pandas as pd\n",
    "import matplotlib.pyplot as plt\n",
    "df = pd.read_csv(r'E:\\NotepadPlusPlus\\Python\\Pandas\\GDP.csv',usecols=[\"Country Name\",\"Ranking\"],nrows=10)\n",
    "print(df)"
   ]
  },
  {
   "cell_type": "code",
   "execution_count": 21,
   "id": "e97fb1ea-679c-48db-be78-b62171428fa2",
   "metadata": {},
   "outputs": [
    {
     "name": "stdout",
     "output_type": "stream",
     "text": [
      "  Country Name  Ranking             Economy millions of US dollars\n",
      "0          USA        1       United States            2,54,62,700\n",
      "1          CHN        2               China            1,79,63,171\n",
      "2          JPN        3               Japan              42,31,141\n",
      "3          DEU        4             Germany              40,72,192\n",
      "4          IND        5               India              33,85,090\n",
      "5          GBR        6      United Kingdom              30,70,668\n",
      "6          FRA        7              France              27,82,905\n",
      "7          RUS        8  Russian Federation              22,40,422\n",
      "8          CAN        9              Canada              21,39,840\n",
      "9          ITA       10               Italy              20,10,432\n",
      "\n",
      "  Country Name  Ranking             Economy millions of US dollars\n",
      "0          USA        1       United States            2,54,62,700\n",
      "1          CHN        2               China            1,79,63,171\n",
      "2          JPN        3               Japan              42,31,141\n",
      "3          DEU        4             Germany              40,72,192\n",
      "4          IND        5               India              33,85,090\n",
      "5          GBR        6      United Kingdom              30,70,668\n",
      "6          FRA        7              France              27,82,905\n",
      "7          RUS        8  Russian Federation              22,40,422\n",
      "8          CAN        9              Canada              21,39,840\n",
      "9          ITA       10               Italy              20,10,432\n"
     ]
    }
   ],
   "source": [
    "# using the column indexes\n",
    "import pandas as pd\n",
    "import matplotlib.pyplot as plt\n",
    "import numpy as np\n",
    "df = pd.read_csv(r'E:\\NotepadPlusPlus\\Python\\Pandas\\GDP.csv',usecols=[0,1,2,3],nrows=10)\n",
    "print(df,end=\"\\n\\n\")\n",
    "df1 = pd.read_csv(r'E:\\NotepadPlusPlus\\Python\\Pandas\\GDP.csv',usecols=[1,3,2],nrows=5)\n",
    "print(df)"
   ]
  },
  {
   "cell_type": "code",
   "execution_count": 26,
   "id": "b3b9c92b-5db5-4b95-a2ba-fb6481ef6d54",
   "metadata": {},
   "outputs": [
    {
     "name": "stdout",
     "output_type": "stream",
     "text": [
      "     USA    1        United States  2,54,62,700\n",
      "0    CHN  2.0                China  1,79,63,171\n",
      "1    JPN  3.0                Japan    42,31,141\n",
      "2    DEU  4.0              Germany    40,72,192\n",
      "3    IND  5.0                India    33,85,090\n",
      "4    GBR  6.0       United Kingdom    30,70,668\n",
      "..   ...  ...                  ...          ...\n",
      "228  SSF  NaN   Sub-Saharan Africa    20,47,347\n",
      "229  LIC  NaN           Low income     5,21,634\n",
      "230  LMC  NaN  Lower middle income    81,09,650\n",
      "231  UMC  NaN  Upper middle income  3,04,95,972\n",
      "232  HIC  NaN          High income  6,15,35,769\n",
      "\n",
      "[233 rows x 4 columns]\n"
     ]
    }
   ],
   "source": [
    "# skip rows\n",
    "import pandas as pd\n",
    "import numpy as np\n",
    "import matplotlib.pyplot as plt\n",
    "df = pd.read_csv(r'E:\\NotepadPlusPlus\\Python\\Pandas\\GDP.csv',skiprows=[0])\n",
    "print(df)"
   ]
  },
  {
   "cell_type": "code",
   "execution_count": 27,
   "id": "76ee6540-2524-461a-91ce-5c8cdd8d9e39",
   "metadata": {},
   "outputs": [
    {
     "name": "stdout",
     "output_type": "stream",
     "text": [
      "              Ranking              Economy millions of US dollars\n",
      "Country Name                                                     \n",
      "USA               1.0        United States            2,54,62,700\n",
      "CHN               2.0                China            1,79,63,171\n",
      "JPN               3.0                Japan              42,31,141\n",
      "DEU               4.0              Germany              40,72,192\n",
      "IND               5.0                India              33,85,090\n",
      "...               ...                  ...                    ...\n",
      "SSF               NaN   Sub-Saharan Africa              20,47,347\n",
      "LIC               NaN           Low income               5,21,634\n",
      "LMC               NaN  Lower middle income              81,09,650\n",
      "UMC               NaN  Upper middle income            3,04,95,972\n",
      "HIC               NaN          High income            6,15,35,769\n",
      "\n",
      "[234 rows x 3 columns]\n"
     ]
    }
   ],
   "source": [
    "# To se the index\n",
    "import numpy as np\n",
    "import pandas as pd\n",
    "import matplotlib.pyplot as plt\n",
    "df = pd.read_csv(r'E:\\NotepadPlusPlus\\Python\\Pandas\\GDP.csv',index_col=\"Country Name\")\n",
    "print(df)"
   ]
  },
  {
   "cell_type": "code",
   "execution_count": 2,
   "id": "72585ea2-412f-4e5e-a872-943002ca6389",
   "metadata": {},
   "outputs": [
    {
     "name": "stdout",
     "output_type": "stream",
     "text": [
      "                 Economy millions of US dollars\n",
      "0          United States            2,54,62,700\n",
      "1                  China            1,79,63,171\n",
      "2                  Japan              42,31,141\n",
      "3                Germany              40,72,192\n",
      "4                  India              33,85,090\n",
      "..                   ...                    ...\n",
      "229   Sub-Saharan Africa              20,47,347\n",
      "230           Low income               5,21,634\n",
      "231  Lower middle income              81,09,650\n",
      "232  Upper middle income            3,04,95,972\n",
      "233          High income            6,15,35,769\n",
      "\n",
      "[234 rows x 2 columns]\n"
     ]
    }
   ],
   "source": [
    "import pandas as pd\n",
    "import numpy as np\n",
    "import matplotlib.pyplot as plt\n",
    "# pandas.read_csv(filepath_or_buffer, *, sep=_NoDefault.no_default, delimiter=None, \n",
    "# header='infer', names=_NoDefault.no_default, index_col=None, usecols=None, dtype=None, \n",
    "# engine=None, converters=None, true_values=None, false_values=None, skipinitialspace=False, skiprows=None, \n",
    "# skipfooter=0, nrows=None, na_values=None, keep_default_na=True, na_filter=True, verbose=False, skip_blank_lines=True,\n",
    "# parse_dates=None, infer_datetime_format=_NoDefault.no_default, keep_date_col=False, date_parser=_NoDefault.no_default, \n",
    "# date_format=None, dayfirst=False, cache_dates=True, iterator=False, chunksize=None, compression='infer', \n",
    "# thousands=None, decimal='.', lineterminator=None, quotechar='\"', quoting=0, doublequote=True, escapechar=None, comment=None, \n",
    "# encoding=None, encoding_errors='strict', dialect=None, on_bad_lines='error', delim_whitespace=False, low_memory=True, memory_map=False, \n",
    "# float_precision=None, storage_options=None, dtype_backend=_NoDefault.no_default)\n",
    "df = pd.read_csv(r'E:\\NotepadPlusPlus\\Python\\Pandas\\GDP.csv',usecols=[3,2])\n",
    "print(df)"
   ]
  },
  {
   "cell_type": "code",
   "execution_count": 5,
   "id": "922197fd-797c-4bfb-b0df-40cbc0fb8fb7",
   "metadata": {},
   "outputs": [
    {
     "name": "stdout",
     "output_type": "stream",
     "text": [
      "<PandasArray>\n",
      "[  0,   1,   2,   3,   4,   5,   6,   7,   8,   9,\n",
      " ...\n",
      " 224, 225, 226, 227, 228, 229, 230, 231, 232, 233]\n",
      "Length: 234, dtype: int64\n"
     ]
    }
   ],
   "source": [
    "import pandas as pd\n",
    "import numpy as np\n",
    "import matplotlib.pyplot as plt\n",
    "df = pd.read_csv(r'E:\\NotepadPlusPlus\\Python\\Pandas\\GDP.csv')\n",
    "print(df.index.array)"
   ]
  },
  {
   "cell_type": "code",
   "execution_count": 6,
   "id": "0d96bb1f-eb8d-4e35-af73-b95902ae7940",
   "metadata": {},
   "outputs": [
    {
     "data": {
      "text/plain": [
       "array([['USA', 1.0, 'United States', '2,54,62,700'],\n",
       "       ['CHN', 2.0, 'China', '1,79,63,171'],\n",
       "       ['JPN', 3.0, 'Japan', '42,31,141'],\n",
       "       ['DEU', 4.0, 'Germany', '40,72,192'],\n",
       "       ['IND', 5.0, 'India', '33,85,090'],\n",
       "       ['GBR', 6.0, 'United Kingdom', '30,70,668'],\n",
       "       ['FRA', 7.0, 'France', '27,82,905'],\n",
       "       ['RUS', 8.0, 'Russian Federation', '22,40,422'],\n",
       "       ['CAN', 9.0, 'Canada', '21,39,840'],\n",
       "       ['ITA', 10.0, 'Italy', '20,10,432'],\n",
       "       ['BRA', 11.0, 'Brazil', '19,20,096'],\n",
       "       ['AUS', 12.0, 'Australia', '16,75,419'],\n",
       "       ['KOR', 13.0, 'Korea, Rep.', '16,65,246'],\n",
       "       ['MEX', 14.0, 'Mexico', '14,14,187'],\n",
       "       ['ESP', 15.0, 'Spain', '13,97,509'],\n",
       "       ['IDN', 16.0, 'Indonesia', '13,19,100'],\n",
       "       ['SAU', 17.0, 'Saudi Arabia', '11,08,149'],\n",
       "       ['NLD', 18.0, 'Netherlands', '9,91,115'],\n",
       "       ['TUR', 19.0, 'Türkiye', '9,05,988'],\n",
       "       ['CHE', 20.0, 'Switzerland', '8,07,706'],\n",
       "       ['POL', 21.0, 'Poland', '6,88,177'],\n",
       "       ['ARG', 22.0, 'Argentina', '6,32,770'],\n",
       "       ['SWE', 23.0, 'Sweden', '5,85,939'],\n",
       "       ['NOR', 24.0, 'Norway', '5,79,267'],\n",
       "       ['BEL', 25.0, 'Belgium', '5,78,604'],\n",
       "       ['CUB', 26.0, 'Cuba', '5,45,218'],\n",
       "       ['IRL', 27.0, 'Ireland', '5,29,245'],\n",
       "       ['ISR', 28.0, 'Israel', '5,22,033'],\n",
       "       ['ARE', 29.0, 'United Arab Emirates', '5,07,535'],\n",
       "       ['THA', 30.0, 'Thailand', '4,95,341'],\n",
       "       ['NGA', 31.0, 'Nigeria', '4,77,386'],\n",
       "       ['EGY', 32.0, 'Egypt, Arab Rep.', '4,76,748'],\n",
       "       ['AUT', 33.0, 'Austria', '4,71,400'],\n",
       "       ['SGP', 34.0, 'Singapore', '4,66,789'],\n",
       "       ['BGD', 35.0, 'Bangladesh', '4,60,201'],\n",
       "       ['VNM', 36.0, 'Vietnam', '4,08,802'],\n",
       "       ['MYS', 37.0, 'Malaysia', '4,06,306'],\n",
       "       ['ZAF', 38.0, 'South Africa', '4,05,870'],\n",
       "       ['PHL', 39.0, 'Philippines', '4,04,284'],\n",
       "       ['DNK', 40.0, 'Denmark', '3,95,404'],\n",
       "       ['IRN', 41.0, 'Iran, Islamic Rep.', '3,88,544'],\n",
       "       ['PAK', 42.0, 'Pakistan', '3,76,533'],\n",
       "       ['HKG', 43.0, 'Hong Kong SAR, China', '3,59,839'],\n",
       "       ['COL', 44.0, 'Colombia', '3,43,939'],\n",
       "       ['ROU', 45.0, 'Romania', '3,01,262'],\n",
       "       ['CHL', 46.0, 'Chile', '3,01,025'],\n",
       "       ['CZE', 47.0, 'Czech Republic', '2,90,924'],\n",
       "       ['FIN', 48.0, 'Finland', '2,80,826'],\n",
       "       ['IRQ', 49.0, 'Iraq', '2,64,182'],\n",
       "       ['PRT', 50.0, 'Portugal', '2,51,945'],\n",
       "       ['NZL', 51.0, 'New Zealand', '2,47,234'],\n",
       "       ['PER', 52.0, 'Peru', '2,42,632'],\n",
       "       ['QAT', 53.0, 'Qatar', '2,37,296'],\n",
       "       ['KAZ', 54.0, 'Kazakhstan', '2,20,623'],\n",
       "       ['GRC', 55.0, 'Greece', '2,19,066'],\n",
       "       ['DZA', 56.0, 'Algeria', '1,91,913'],\n",
       "       ['KWT', 57.0, 'Kuwait', '1,84,558'],\n",
       "       ['HUN', 58.0, 'Hungary', '1,78,789'],\n",
       "       ['UKR', 59.0, 'Ukraine', '1,60,503'],\n",
       "       ['MAR', 60.0, 'Morocco', '1,34,182'],\n",
       "       ['ETH', 61.0, 'Ethiopia', '1,26,783'],\n",
       "       ['SVK', 62.0, 'Slovak Republic', '1,15,469'],\n",
       "       ['ECU', 63.0, 'Ecuador', '1,15,049'],\n",
       "       ['OMN', 64.0, 'Oman', '1,14,667'],\n",
       "       ['DOM', 65.0, 'Dominican Republic', '1,13,642'],\n",
       "       ['PRI', 66.0, 'Puerto Rico', '1,13,435'],\n",
       "       ['KEN', 67.0, 'Kenya', '1,13,420'],\n",
       "       ['AGO', 68.0, 'Angola', '1,06,714'],\n",
       "       ['GTM', 69.0, 'Guatemala', '95,003'],\n",
       "       ['BGR', 70.0, 'Bulgaria', '89,040'],\n",
       "       ['LUX', 71.0, 'Luxembourg', '82,275'],\n",
       "       ['UZB', 72.0, 'Uzbekistan', '80,392'],\n",
       "       ['AZE', 73.0, 'Azerbaijan', '78,721'],\n",
       "       ['PAN', 74.0, 'Panama', '76,523'],\n",
       "       ['TZA', 75.0, 'Tanzania', '75,709'],\n",
       "       ['LKA', 76.0, 'Sri Lanka', '74,404'],\n",
       "       ['GHA', 77.0, 'Ghana', '72,839'],\n",
       "       ['BLR', 78.0, 'Belarus', '72,793'],\n",
       "       ['URY', 79.0, 'Uruguay', '71,177'],\n",
       "       ['HRV', 80.0, 'Croatia', '70,965'],\n",
       "       ['LTU', 81.0, 'Lithuania', '70,334'],\n",
       "       ['CIV', 82.0, \"Côte d'Ivoire\", '70,019'],\n",
       "       ['CRI', 83.0, 'Costa Rica', '68,381'],\n",
       "       ['SRB', 84.0, 'Serbia', '63,502'],\n",
       "       ['SVN', 85.0, 'Slovenia', '62,118'],\n",
       "       ['MMR', 86.0, 'Myanmar', '59,364'],\n",
       "       ['COD', 87.0, 'Congo, Dem. Rep.', '58,066'],\n",
       "       ['SDN', 88.0, 'Sudan', '51,662'],\n",
       "       ['JOR', 89.0, 'Jordan', '47,451'],\n",
       "       ['TUN', 90.0, 'Tunisia', '46,665'],\n",
       "       ['LBY', 91.0, 'Libya', '45,752'],\n",
       "       ['TKM', 92.0, 'Turkmenistan', '45,611'],\n",
       "       ['UGA', 93.0, 'Uganda', '45,559'],\n",
       "       ['BHR', 94.0, 'Bahrain', '44,391'],\n",
       "       ['CMR', 95.0, 'Cameroon', '44,342'],\n",
       "       ['BOL', 96.0, 'Bolivia', '43,069'],\n",
       "       ['PRY', 97.0, 'Paraguay', '41,722'],\n",
       "       ['LVA', 98.0, 'Latvia', '41,154'],\n",
       "       ['NPL', 99.0, 'Nepal', '40,828'],\n",
       "       ['EST', 100.0, 'Estonia', '38,101'],\n",
       "       ['SLV', 101.0, 'El Salvador', '32,489'],\n",
       "       ['HND', 102.0, 'Honduras', '31,718'],\n",
       "       ['PNG', 103.0, 'Papua New Guinea', '30,633'],\n",
       "       ['KHM', 104.0, 'Cambodia', '29,957'],\n",
       "       ['ZMB', 105.0, 'Zambia', '29,784'],\n",
       "       ['CYP', 106.0, 'Cyprus', '28,439'],\n",
       "       ['TTO', 107.0, 'Trinidad and Tobago', '27,899'],\n",
       "       ['ISL', 108.0, 'Iceland', '27,842'],\n",
       "       ['SEN', 109.0, 'Senegal', '27,684'],\n",
       "       ['GEO', 110.0, 'Georgia', '24,605'],\n",
       "       ['BIH', 111.0, 'Bosnia and Herzegovina', '24,528'],\n",
       "       ['LBN', 112.0, 'Lebanon', '23,132'],\n",
       "       ['MAC', 113.0, 'Macao SAR, China', '21,979'],\n",
       "       ['GIN', 114.0, 'Guinea', '21,228'],\n",
       "       ['GAB', 115.0, 'Gabon', '21,072'],\n",
       "       ['ZWE', 116.0, 'Zimbabwe', '20,678'],\n",
       "       ['BWA', 117.0, 'Botswana', '20,352'],\n",
       "       ['HTI', 118.0, 'Haiti', '20,254'],\n",
       "       ['ARM', 119.0, 'Armenia', '19,503'],\n",
       "       ['PSE', 120.0, 'West Bank and Gaza', '19,112'],\n",
       "       ['BFA', 121.0, 'Burkina Faso', '18,885'],\n",
       "       ['ALB', 122.0, 'Albania', '18,882'],\n",
       "       ['MLI', 123.0, 'Mali', '18,827'],\n",
       "       ['MOZ', 124.0, 'Mozambique', '17,851'],\n",
       "       ['MLT', 125.0, 'Malta', '17,765'],\n",
       "       ['BEN', 126.0, 'Benin', '17,402'],\n",
       "       ['JAM', 127.0, 'Jamaica', '17,098'],\n",
       "       ['MNG', 128.0, 'Mongolia', '16,811'],\n",
       "       ['BRN', 129.0, 'Brunei Darussalam', '16,682'],\n",
       "       ['LAO', 130.0, 'Lao PDR', '15,724'],\n",
       "       ['NIC', 131.0, 'Nicaragua', '15,672'],\n",
       "       ['GUY', 132.0, 'Guyana', '15,358'],\n",
       "       ['MDG', 133.0, 'Madagascar', '14,955'],\n",
       "       ['COG', 134.0, 'Congo, Rep.', '14,616'],\n",
       "       ['AFG', 135.0, 'Afghanistan', '14,583'],\n",
       "       ['MDA', 136.0, 'Moldova', '14,421'],\n",
       "       ['NER', 137.0, 'Niger', '13,970'],\n",
       "       ['MKD', 138.0, 'North Macedonia', '13,563'],\n",
       "       ['RWA', 139.0, 'Rwanda', '13,313'],\n",
       "       ['MWI', 140.0, 'Malawi', '13,165'],\n",
       "       ['MUS', 141.0, 'Mauritius', '12,898'],\n",
       "       ['BHS', 142.0, 'Bahamas, The', '12,897'],\n",
       "       ['TCD', 143.0, 'Chad', '12,704'],\n",
       "       ['NAM', 144.0, 'Namibia', '12,607'],\n",
       "       ['GNQ', 145.0, 'Equatorial Guinea', '11,814'],\n",
       "       ['CHI', 146.0, 'Channel Islands', '11,736'],\n",
       "       ['SYR', 147.0, 'Syrian Arab Republic', '11,159'],\n",
       "       ['KGZ', 148.0, 'Kyrgyz Republic', '10,931'],\n",
       "       ['TJK', 149.0, 'Tajikistan', '10,492'],\n",
       "       ['MRT', 150.0, 'Mauritania', '10,375'],\n",
       "       ['NCL', 151.0, 'New Caledonia', '10,071'],\n",
       "       ['XKX', 152.0, 'Kosovo', '9,429'],\n",
       "       ['MCO', 153.0, 'Monaco', '8,596'],\n",
       "       ['TGO', 154.0, 'Togo', '8,126'],\n",
       "       ['SOM', 155.0, 'Somalia', '8,126'],\n",
       "       ['BMU', 156.0, 'Bermuda', '7,551'],\n",
       "       ['LIE', 157.0, 'Liechtenstein', '7,186'],\n",
       "       ['IMN', 158.0, 'Isle of Man', '6,684'],\n",
       "       ['MDV', 159.0, 'Maldives', '6,190'],\n",
       "       ['GUM', 160.0, 'Guam', '6,123'],\n",
       "       ['MNE', 161.0, 'Montenegro', '6,096'],\n",
       "       ['PYF', 162.0, 'French Polynesia', '6,080'],\n",
       "       ['CYM', 163.0, 'Cayman Islands', '6,028'],\n",
       "       ['BRB', 164.0, 'Barbados', '5,638'],\n",
       "       ['FJI', 165.0, 'Fiji', '4,943'],\n",
       "       ['SWZ', 166.0, 'Eswatini', '4,854'],\n",
       "       ['VIR', 167.0, 'Virgin Islands (U.S.)', '4,204'],\n",
       "       ['LBR', 168.0, 'Liberia', '4,001'],\n",
       "       ['SLE', 169.0, 'Sierra Leone', '3,970'],\n",
       "       ['FRO', 170.0, 'Faroe Islands', '3,650'],\n",
       "       ['SUR', 171.0, 'Suriname', '3,621'],\n",
       "       ['DJI', 172.0, 'Djibouti', '3,515'],\n",
       "       ['AND', 173.0, 'Andorra', '3,352'],\n",
       "       ['GRL', 174.0, 'Greenland', '3,236'],\n",
       "       ['TLS', 175.0, 'Timor-Leste', '3,163'],\n",
       "       ['ABW', 176.0, 'Aruba', '3,126'],\n",
       "       ['BDI', 177.0, 'Burundi', '3,073'],\n",
       "       ['BLZ', 178.0, 'Belize', '2,824'],\n",
       "       ['CUW', 179.0, 'Curaçao', '2,700'],\n",
       "       ['LSO', 180.0, 'Lesotho', '2,553'],\n",
       "       ['BTN', 181.0, 'Bhutan', '2,540'],\n",
       "       ['CAF', 182.0, 'Central African Republic', '2,383'],\n",
       "       ['CPV', 183.0, 'Cabo Verde', '2,315'],\n",
       "       ['GMB', 184.0, 'Gambia, The', '2,273'],\n",
       "       ['LCA', 185.0, 'St. Lucia', '2,065'],\n",
       "       ['SMR', 186.0, 'San Marino', '1,855'],\n",
       "       ['ATG', 187.0, 'Antigua and Barbuda', '1,758'],\n",
       "       ['GNB', 188.0, 'Guinea-Bissau', '1,634'],\n",
       "       ['SLB', 189.0, 'Solomon Islands', '1,596'],\n",
       "       ['SYC', 190.0, 'Seychelles', '1,588'],\n",
       "       ['SXM', 191.0, 'Sint Maarten (Dutch part)', '1,572'],\n",
       "       ['GRD', 192.0, 'Grenada', '1,256'],\n",
       "       ['COM', 193.0, 'Comoros', '1,243'],\n",
       "       ['TCA', 194.0, 'Turks and Caicos Islands', '1,139'],\n",
       "       ['VUT', 195.0, 'Vanuatu', '984'],\n",
       "       ['KNA', 196.0, 'St. Kitts and Nevis', '962'],\n",
       "       ['VCT', 197.0, 'St. Vincent and the Grenadines', '949'],\n",
       "       ['MNP', 198.0, 'Northern Mariana Islands', '858'],\n",
       "       ['WSM', 199.0, 'Samoa', '832'],\n",
       "       ['ASM', 200.0, 'American Samoa', '709'],\n",
       "       ['DMA', 201.0, 'Dominica', '612'],\n",
       "       ['STP', 202.0, 'São Tomé and Principe', '547'],\n",
       "       ['TON', 203.0, 'Tonga', '469'],\n",
       "       ['FSM', 204.0, 'Micronesia, Fed. Sts.', '427'],\n",
       "       ['MHL', 205.0, 'Marshall Islands', '280'],\n",
       "       ['KIR', 206.0, 'Kiribati', '223'],\n",
       "       ['PLW', 207.0, 'Palau', '218'],\n",
       "       ['NRU', 208.0, 'Nauru', '151'],\n",
       "       ['TUV', 209.0, 'Tuvalu', '60'],\n",
       "       ['VGB', nan, 'British Virgin Islands', ' -   '],\n",
       "       ['ERI', nan, 'Eritrea', ' -   '],\n",
       "       ['GIB', nan, 'Gibraltar', ' -   '],\n",
       "       ['PRK', nan, \"Korea, Dem. People's Rep.\", ' -   '],\n",
       "       ['SSD', nan, 'South Sudan', ' -   '],\n",
       "       ['MAF', nan, 'St. Martin (French part)', ' -   '],\n",
       "       ['VEN', nan, 'Venezuela, RB', ' -   '],\n",
       "       ['YEM', nan, 'Yemen, Rep.', ' -   '],\n",
       "       [nan, nan, nan, nan],\n",
       "       [nan, nan, nan, nan],\n",
       "       [nan, nan, nan, nan],\n",
       "       ['WLD', nan, 'World', '10,10,02,997'],\n",
       "       [nan, nan, nan, nan],\n",
       "       [nan, nan, nan, nan],\n",
       "       ['EAS', nan, 'East Asia & Pacific', '3,06,55,246'],\n",
       "       ['ECS', nan, 'Europe & Central Asia', '2,51,92,038'],\n",
       "       ['LCN', nan, 'Latin America & Caribbean', '67,48,778'],\n",
       "       ['MEA', nan, 'Middle East & North Africa', '44,14,423'],\n",
       "       ['NAC', nan, 'North America', '2,76,10,091'],\n",
       "       ['SAS', nan, 'South Asia', '43,61,631'],\n",
       "       ['SSF', nan, 'Sub-Saharan Africa', '20,47,347'],\n",
       "       ['LIC', nan, 'Low income', '5,21,634'],\n",
       "       ['LMC', nan, 'Lower middle income', '81,09,650'],\n",
       "       ['UMC', nan, 'Upper middle income', '3,04,95,972'],\n",
       "       ['HIC', nan, 'High income', '6,15,35,769']], dtype=object)"
      ]
     },
     "execution_count": 6,
     "metadata": {},
     "output_type": "execute_result"
    }
   ],
   "source": [
    "import pandas as pd\n",
    "import numpy as np\n",
    "import matplotlib.pyplot as plt\n",
    "df = pd.read_csv(r'E:\\NotepadPlusPlus\\Python\\Pandas\\GDP.csv')\n",
    "df.to_numpy()"
   ]
  },
  {
   "cell_type": "code",
   "execution_count": 8,
   "id": "e86e7b75-b309-4082-a75a-d634c097ba08",
   "metadata": {},
   "outputs": [
    {
     "name": "stdout",
     "output_type": "stream",
     "text": [
      "[['USA' 1.0 'United States' '2,54,62,700']\n",
      " ['CHN' 2.0 'China' '1,79,63,171']\n",
      " ['JPN' 3.0 'Japan' '42,31,141']\n",
      " ['DEU' 4.0 'Germany' '40,72,192']\n",
      " ['IND' 5.0 'India' '33,85,090']\n",
      " ['GBR' 6.0 'United Kingdom' '30,70,668']\n",
      " ['FRA' 7.0 'France' '27,82,905']\n",
      " ['RUS' 8.0 'Russian Federation' '22,40,422']\n",
      " ['CAN' 9.0 'Canada' '21,39,840']\n",
      " ['ITA' 10.0 'Italy' '20,10,432']\n",
      " ['BRA' 11.0 'Brazil' '19,20,096']\n",
      " ['AUS' 12.0 'Australia' '16,75,419']\n",
      " ['KOR' 13.0 'Korea, Rep.' '16,65,246']\n",
      " ['MEX' 14.0 'Mexico' '14,14,187']\n",
      " ['ESP' 15.0 'Spain' '13,97,509']\n",
      " ['IDN' 16.0 'Indonesia' '13,19,100']\n",
      " ['SAU' 17.0 'Saudi Arabia' '11,08,149']\n",
      " ['NLD' 18.0 'Netherlands' '9,91,115']\n",
      " ['TUR' 19.0 'Türkiye' '9,05,988']\n",
      " ['CHE' 20.0 'Switzerland' '8,07,706']\n",
      " ['POL' 21.0 'Poland' '6,88,177']\n",
      " ['ARG' 22.0 'Argentina' '6,32,770']\n",
      " ['SWE' 23.0 'Sweden' '5,85,939']\n",
      " ['NOR' 24.0 'Norway' '5,79,267']\n",
      " ['BEL' 25.0 'Belgium' '5,78,604']\n",
      " ['CUB' 26.0 'Cuba' '5,45,218']\n",
      " ['IRL' 27.0 'Ireland' '5,29,245']\n",
      " ['ISR' 28.0 'Israel' '5,22,033']\n",
      " ['ARE' 29.0 'United Arab Emirates' '5,07,535']\n",
      " ['THA' 30.0 'Thailand' '4,95,341']\n",
      " ['NGA' 31.0 'Nigeria' '4,77,386']\n",
      " ['EGY' 32.0 'Egypt, Arab Rep.' '4,76,748']\n",
      " ['AUT' 33.0 'Austria' '4,71,400']\n",
      " ['SGP' 34.0 'Singapore' '4,66,789']\n",
      " ['BGD' 35.0 'Bangladesh' '4,60,201']\n",
      " ['VNM' 36.0 'Vietnam' '4,08,802']\n",
      " ['MYS' 37.0 'Malaysia' '4,06,306']\n",
      " ['ZAF' 38.0 'South Africa' '4,05,870']\n",
      " ['PHL' 39.0 'Philippines' '4,04,284']\n",
      " ['DNK' 40.0 'Denmark' '3,95,404']\n",
      " ['IRN' 41.0 'Iran, Islamic Rep.' '3,88,544']\n",
      " ['PAK' 42.0 'Pakistan' '3,76,533']\n",
      " ['HKG' 43.0 'Hong Kong SAR, China' '3,59,839']\n",
      " ['COL' 44.0 'Colombia' '3,43,939']\n",
      " ['ROU' 45.0 'Romania' '3,01,262']\n",
      " ['CHL' 46.0 'Chile' '3,01,025']\n",
      " ['CZE' 47.0 'Czech Republic' '2,90,924']\n",
      " ['FIN' 48.0 'Finland' '2,80,826']\n",
      " ['IRQ' 49.0 'Iraq' '2,64,182']\n",
      " ['PRT' 50.0 'Portugal' '2,51,945']\n",
      " ['NZL' 51.0 'New Zealand' '2,47,234']\n",
      " ['PER' 52.0 'Peru' '2,42,632']\n",
      " ['QAT' 53.0 'Qatar' '2,37,296']\n",
      " ['KAZ' 54.0 'Kazakhstan' '2,20,623']\n",
      " ['GRC' 55.0 'Greece' '2,19,066']\n",
      " ['DZA' 56.0 'Algeria' '1,91,913']\n",
      " ['KWT' 57.0 'Kuwait' '1,84,558']\n",
      " ['HUN' 58.0 'Hungary' '1,78,789']\n",
      " ['UKR' 59.0 'Ukraine' '1,60,503']\n",
      " ['MAR' 60.0 'Morocco' '1,34,182']\n",
      " ['ETH' 61.0 'Ethiopia' '1,26,783']\n",
      " ['SVK' 62.0 'Slovak Republic' '1,15,469']\n",
      " ['ECU' 63.0 'Ecuador' '1,15,049']\n",
      " ['OMN' 64.0 'Oman' '1,14,667']\n",
      " ['DOM' 65.0 'Dominican Republic' '1,13,642']\n",
      " ['PRI' 66.0 'Puerto Rico' '1,13,435']\n",
      " ['KEN' 67.0 'Kenya' '1,13,420']\n",
      " ['AGO' 68.0 'Angola' '1,06,714']\n",
      " ['GTM' 69.0 'Guatemala' '95,003']\n",
      " ['BGR' 70.0 'Bulgaria' '89,040']\n",
      " ['LUX' 71.0 'Luxembourg' '82,275']\n",
      " ['UZB' 72.0 'Uzbekistan' '80,392']\n",
      " ['AZE' 73.0 'Azerbaijan' '78,721']\n",
      " ['PAN' 74.0 'Panama' '76,523']\n",
      " ['TZA' 75.0 'Tanzania' '75,709']\n",
      " ['LKA' 76.0 'Sri Lanka' '74,404']\n",
      " ['GHA' 77.0 'Ghana' '72,839']\n",
      " ['BLR' 78.0 'Belarus' '72,793']\n",
      " ['URY' 79.0 'Uruguay' '71,177']\n",
      " ['HRV' 80.0 'Croatia' '70,965']\n",
      " ['LTU' 81.0 'Lithuania' '70,334']\n",
      " ['CIV' 82.0 \"Côte d'Ivoire\" '70,019']\n",
      " ['CRI' 83.0 'Costa Rica' '68,381']\n",
      " ['SRB' 84.0 'Serbia' '63,502']\n",
      " ['SVN' 85.0 'Slovenia' '62,118']\n",
      " ['MMR' 86.0 'Myanmar' '59,364']\n",
      " ['COD' 87.0 'Congo, Dem. Rep.' '58,066']\n",
      " ['SDN' 88.0 'Sudan' '51,662']\n",
      " ['JOR' 89.0 'Jordan' '47,451']\n",
      " ['TUN' 90.0 'Tunisia' '46,665']\n",
      " ['LBY' 91.0 'Libya' '45,752']\n",
      " ['TKM' 92.0 'Turkmenistan' '45,611']\n",
      " ['UGA' 93.0 'Uganda' '45,559']\n",
      " ['BHR' 94.0 'Bahrain' '44,391']\n",
      " ['CMR' 95.0 'Cameroon' '44,342']\n",
      " ['BOL' 96.0 'Bolivia' '43,069']\n",
      " ['PRY' 97.0 'Paraguay' '41,722']\n",
      " ['LVA' 98.0 'Latvia' '41,154']\n",
      " ['NPL' 99.0 'Nepal' '40,828']\n",
      " ['EST' 100.0 'Estonia' '38,101']\n",
      " ['SLV' 101.0 'El Salvador' '32,489']\n",
      " ['HND' 102.0 'Honduras' '31,718']\n",
      " ['PNG' 103.0 'Papua New Guinea' '30,633']\n",
      " ['KHM' 104.0 'Cambodia' '29,957']\n",
      " ['ZMB' 105.0 'Zambia' '29,784']\n",
      " ['CYP' 106.0 'Cyprus' '28,439']\n",
      " ['TTO' 107.0 'Trinidad and Tobago' '27,899']\n",
      " ['ISL' 108.0 'Iceland' '27,842']\n",
      " ['SEN' 109.0 'Senegal' '27,684']\n",
      " ['GEO' 110.0 'Georgia' '24,605']\n",
      " ['BIH' 111.0 'Bosnia and Herzegovina' '24,528']\n",
      " ['LBN' 112.0 'Lebanon' '23,132']\n",
      " ['MAC' 113.0 'Macao SAR, China' '21,979']\n",
      " ['GIN' 114.0 'Guinea' '21,228']\n",
      " ['GAB' 115.0 'Gabon' '21,072']\n",
      " ['ZWE' 116.0 'Zimbabwe' '20,678']\n",
      " ['BWA' 117.0 'Botswana' '20,352']\n",
      " ['HTI' 118.0 'Haiti' '20,254']\n",
      " ['ARM' 119.0 'Armenia' '19,503']\n",
      " ['PSE' 120.0 'West Bank and Gaza' '19,112']\n",
      " ['BFA' 121.0 'Burkina Faso' '18,885']\n",
      " ['ALB' 122.0 'Albania' '18,882']\n",
      " ['MLI' 123.0 'Mali' '18,827']\n",
      " ['MOZ' 124.0 'Mozambique' '17,851']\n",
      " ['MLT' 125.0 'Malta' '17,765']\n",
      " ['BEN' 126.0 'Benin' '17,402']\n",
      " ['JAM' 127.0 'Jamaica' '17,098']\n",
      " ['MNG' 128.0 'Mongolia' '16,811']\n",
      " ['BRN' 129.0 'Brunei Darussalam' '16,682']\n",
      " ['LAO' 130.0 'Lao PDR' '15,724']\n",
      " ['NIC' 131.0 'Nicaragua' '15,672']\n",
      " ['GUY' 132.0 'Guyana' '15,358']\n",
      " ['MDG' 133.0 'Madagascar' '14,955']\n",
      " ['COG' 134.0 'Congo, Rep.' '14,616']\n",
      " ['AFG' 135.0 'Afghanistan' '14,583']\n",
      " ['MDA' 136.0 'Moldova' '14,421']\n",
      " ['NER' 137.0 'Niger' '13,970']\n",
      " ['MKD' 138.0 'North Macedonia' '13,563']\n",
      " ['RWA' 139.0 'Rwanda' '13,313']\n",
      " ['MWI' 140.0 'Malawi' '13,165']\n",
      " ['MUS' 141.0 'Mauritius' '12,898']\n",
      " ['BHS' 142.0 'Bahamas, The' '12,897']\n",
      " ['TCD' 143.0 'Chad' '12,704']\n",
      " ['NAM' 144.0 'Namibia' '12,607']\n",
      " ['GNQ' 145.0 'Equatorial Guinea' '11,814']\n",
      " ['CHI' 146.0 'Channel Islands' '11,736']\n",
      " ['SYR' 147.0 'Syrian Arab Republic' '11,159']\n",
      " ['KGZ' 148.0 'Kyrgyz Republic' '10,931']\n",
      " ['TJK' 149.0 'Tajikistan' '10,492']\n",
      " ['MRT' 150.0 'Mauritania' '10,375']\n",
      " ['NCL' 151.0 'New Caledonia' '10,071']\n",
      " ['XKX' 152.0 'Kosovo' '9,429']\n",
      " ['MCO' 153.0 'Monaco' '8,596']\n",
      " ['TGO' 154.0 'Togo' '8,126']\n",
      " ['SOM' 155.0 'Somalia' '8,126']\n",
      " ['BMU' 156.0 'Bermuda' '7,551']\n",
      " ['LIE' 157.0 'Liechtenstein' '7,186']\n",
      " ['IMN' 158.0 'Isle of Man' '6,684']\n",
      " ['MDV' 159.0 'Maldives' '6,190']\n",
      " ['GUM' 160.0 'Guam' '6,123']\n",
      " ['MNE' 161.0 'Montenegro' '6,096']\n",
      " ['PYF' 162.0 'French Polynesia' '6,080']\n",
      " ['CYM' 163.0 'Cayman Islands' '6,028']\n",
      " ['BRB' 164.0 'Barbados' '5,638']\n",
      " ['FJI' 165.0 'Fiji' '4,943']\n",
      " ['SWZ' 166.0 'Eswatini' '4,854']\n",
      " ['VIR' 167.0 'Virgin Islands (U.S.)' '4,204']\n",
      " ['LBR' 168.0 'Liberia' '4,001']\n",
      " ['SLE' 169.0 'Sierra Leone' '3,970']\n",
      " ['FRO' 170.0 'Faroe Islands' '3,650']\n",
      " ['SUR' 171.0 'Suriname' '3,621']\n",
      " ['DJI' 172.0 'Djibouti' '3,515']\n",
      " ['AND' 173.0 'Andorra' '3,352']\n",
      " ['GRL' 174.0 'Greenland' '3,236']\n",
      " ['TLS' 175.0 'Timor-Leste' '3,163']\n",
      " ['ABW' 176.0 'Aruba' '3,126']\n",
      " ['BDI' 177.0 'Burundi' '3,073']\n",
      " ['BLZ' 178.0 'Belize' '2,824']\n",
      " ['CUW' 179.0 'Curaçao' '2,700']\n",
      " ['LSO' 180.0 'Lesotho' '2,553']\n",
      " ['BTN' 181.0 'Bhutan' '2,540']\n",
      " ['CAF' 182.0 'Central African Republic' '2,383']\n",
      " ['CPV' 183.0 'Cabo Verde' '2,315']\n",
      " ['GMB' 184.0 'Gambia, The' '2,273']\n",
      " ['LCA' 185.0 'St. Lucia' '2,065']\n",
      " ['SMR' 186.0 'San Marino' '1,855']\n",
      " ['ATG' 187.0 'Antigua and Barbuda' '1,758']\n",
      " ['GNB' 188.0 'Guinea-Bissau' '1,634']\n",
      " ['SLB' 189.0 'Solomon Islands' '1,596']\n",
      " ['SYC' 190.0 'Seychelles' '1,588']\n",
      " ['SXM' 191.0 'Sint Maarten (Dutch part)' '1,572']\n",
      " ['GRD' 192.0 'Grenada' '1,256']\n",
      " ['COM' 193.0 'Comoros' '1,243']\n",
      " ['TCA' 194.0 'Turks and Caicos Islands' '1,139']\n",
      " ['VUT' 195.0 'Vanuatu' '984']\n",
      " ['KNA' 196.0 'St. Kitts and Nevis' '962']\n",
      " ['VCT' 197.0 'St. Vincent and the Grenadines' '949']\n",
      " ['MNP' 198.0 'Northern Mariana Islands' '858']\n",
      " ['WSM' 199.0 'Samoa' '832']\n",
      " ['ASM' 200.0 'American Samoa' '709']\n",
      " ['DMA' 201.0 'Dominica' '612']\n",
      " ['STP' 202.0 'São Tomé and Principe' '547']\n",
      " ['TON' 203.0 'Tonga' '469']\n",
      " ['FSM' 204.0 'Micronesia, Fed. Sts.' '427']\n",
      " ['MHL' 205.0 'Marshall Islands' '280']\n",
      " ['KIR' 206.0 'Kiribati' '223']\n",
      " ['PLW' 207.0 'Palau' '218']\n",
      " ['NRU' 208.0 'Nauru' '151']\n",
      " ['TUV' 209.0 'Tuvalu' '60']\n",
      " ['VGB' nan 'British Virgin Islands' ' -   ']\n",
      " ['ERI' nan 'Eritrea' ' -   ']\n",
      " ['GIB' nan 'Gibraltar' ' -   ']\n",
      " ['PRK' nan \"Korea, Dem. People's Rep.\" ' -   ']\n",
      " ['SSD' nan 'South Sudan' ' -   ']\n",
      " ['MAF' nan 'St. Martin (French part)' ' -   ']\n",
      " ['VEN' nan 'Venezuela, RB' ' -   ']\n",
      " ['YEM' nan 'Yemen, Rep.' ' -   ']\n",
      " [nan nan nan nan]\n",
      " [nan nan nan nan]\n",
      " [nan nan nan nan]\n",
      " ['WLD' nan 'World' '10,10,02,997']\n",
      " [nan nan nan nan]\n",
      " [nan nan nan nan]\n",
      " ['EAS' nan 'East Asia & Pacific' '3,06,55,246']\n",
      " ['ECS' nan 'Europe & Central Asia' '2,51,92,038']\n",
      " ['LCN' nan 'Latin America & Caribbean' '67,48,778']\n",
      " ['MEA' nan 'Middle East & North Africa' '44,14,423']\n",
      " ['NAC' nan 'North America' '2,76,10,091']\n",
      " ['SAS' nan 'South Asia' '43,61,631']\n",
      " ['SSF' nan 'Sub-Saharan Africa' '20,47,347']\n",
      " ['LIC' nan 'Low income' '5,21,634']\n",
      " ['LMC' nan 'Lower middle income' '81,09,650']\n",
      " ['UMC' nan 'Upper middle income' '3,04,95,972']\n",
      " ['HIC' nan 'High income' '6,15,35,769']]\n"
     ]
    }
   ],
   "source": [
    "# np array\n",
    "import pandas as pd\n",
    "import numpy as np\n",
    "import matplotlib.pyplot as plt\n",
    "df = pd.read_csv(r'E:\\NotepadPlusPlus\\Python\\Pandas\\GDP.csv')\n",
    "np_df = np.asarray(df)\n",
    "print(np_df)"
   ]
  },
  {
   "cell_type": "code",
   "execution_count": 9,
   "id": "b7bc2400-2ad1-4065-82ed-cd2aad077711",
   "metadata": {},
   "outputs": [
    {
     "name": "stdout",
     "output_type": "stream",
     "text": [
      "    Country Name  Ranking              Economy millions of US dollars\n",
      "233          HIC      NaN          High income            6,15,35,769\n",
      "232          UMC      NaN  Upper middle income            3,04,95,972\n",
      "231          LMC      NaN  Lower middle income              81,09,650\n",
      "230          LIC      NaN           Low income               5,21,634\n",
      "229          SSF      NaN   Sub-Saharan Africa              20,47,347\n",
      "..           ...      ...                  ...                    ...\n",
      "4            IND      5.0                India              33,85,090\n",
      "3            DEU      4.0              Germany              40,72,192\n",
      "2            JPN      3.0                Japan              42,31,141\n",
      "1            CHN      2.0                China            1,79,63,171\n",
      "0            USA      1.0        United States            2,54,62,700\n",
      "\n",
      "[234 rows x 4 columns]\n"
     ]
    }
   ],
   "source": [
    "import pandas as pd\n",
    "import numpy as np\n",
    "import matplotlib.pyplot as plt\n",
    "df = pd.read_csv(r'E:\\NotepadPlusPlus\\Python\\Pandas\\GDP.csv')\n",
    "sort_df=df.sort_index(axis=0,ascending=False)\n",
    "print(sort_df)"
   ]
  },
  {
   "cell_type": "code",
   "execution_count": 9,
   "id": "d31be94e-fd2c-40e2-ae60-b4e6e8312eaa",
   "metadata": {},
   "outputs": [
    {
     "name": "stdout",
     "output_type": "stream",
     "text": [
      "USA\n",
      "  Country Name  Economy\n",
      "2          JPN    Japan\n",
      "3          DEU  Germany\n",
      "    Country Name              Economy\n",
      "0            USA        United States\n",
      "1            CHN                China\n",
      "2            JPN                Japan\n",
      "3            DEU              Germany\n",
      "4            IND                India\n",
      "..           ...                  ...\n",
      "229          SSF   Sub-Saharan Africa\n",
      "230          LIC           Low income\n",
      "231          LMC  Lower middle income\n",
      "232          UMC  Upper middle income\n",
      "233          HIC          High income\n",
      "\n",
      "[234 rows x 2 columns]\n",
      "  Country Name  Ranking  Economy millions of US dollars\n",
      "2          JPN      3.0    Japan              42,31,141\n",
      "3          DEU      4.0  Germany              40,72,192\n"
     ]
    }
   ],
   "source": [
    "import pandas as pd\n",
    "import numpy as np\n",
    "import matplotlib.pyplot as plt\n",
    "df = pd.read_csv(r'E:\\NotepadPlusPlus\\Python\\Pandas\\GDP.csv')\n",
    "# df[\"USA\"]\n",
    "print(df.loc[0,\"Country Name\"])\n",
    "print(df.loc[[2,3],[\"Country Name\",\"Economy\"]])\n",
    "print(df.loc[:,[\"Country Name\",\"Economy\"]])\n",
    "print(df.loc[[2,3],:])"
   ]
  },
  {
   "cell_type": "code",
   "execution_count": 11,
   "id": "a70f04cd-de96-4811-96f1-ae73530ae358",
   "metadata": {},
   "outputs": [
    {
     "name": "stdout",
     "output_type": "stream",
     "text": [
      "United States\n"
     ]
    }
   ],
   "source": [
    "import pandas as pd\n",
    "import numpy as np\n",
    "import os\n",
    "import pathlib\n",
    "import sys\n",
    "df = pd.read_csv(r'E:\\NotepadPlusPlus\\Python\\Pandas\\GDP.csv')\n",
    "print(df.iloc[0,2])"
   ]
  },
  {
   "cell_type": "code",
   "execution_count": 15,
   "id": "6dd0b840-de0c-418d-bae8-442bc34d8e85",
   "metadata": {},
   "outputs": [
    {
     "name": "stdout",
     "output_type": "stream",
     "text": [
      "    Country Name              Economy millions of US dollars\n",
      "0            USA        United States            2,54,62,700\n",
      "1            CHN                China            1,79,63,171\n",
      "2            JPN                Japan              42,31,141\n",
      "3            DEU              Germany              40,72,192\n",
      "4            IND                India              33,85,090\n",
      "..           ...                  ...                    ...\n",
      "229          SSF   Sub-Saharan Africa              20,47,347\n",
      "230          LIC           Low income               5,21,634\n",
      "231          LMC  Lower middle income              81,09,650\n",
      "232          UMC  Upper middle income            3,04,95,972\n",
      "233          HIC          High income            6,15,35,769\n",
      "\n",
      "[234 rows x 3 columns]\n"
     ]
    }
   ],
   "source": [
    "import pandas as pd\n",
    "import numpy as np\n",
    "import matplotlib.pyplot as plt\n",
    "import os\n",
    "import re\n",
    "import sys\n",
    "import io\n",
    "import random\n",
    "# import thread\n",
    "import seaborn\n",
    "df = pd.read_csv(r'E:\\NotepadPlusPlus\\Python\\Pandas\\GDP.csv')\n",
    "print(df.drop(\"Ranking\",axis=1))\n",
    "# If you want to drop 0'th column just change the axis and column name"
   ]
  },
  {
   "cell_type": "markdown",
   "id": "9a18495f-90ea-4a18-a624-f87c65eb04ea",
   "metadata": {},
   "source": [
    "# Handling Missing Values"
   ]
  },
  {
   "cell_type": "code",
   "execution_count": 18,
   "id": "d0d4ba94-6e40-43d6-b02b-66983ae0b3b2",
   "metadata": {},
   "outputs": [
    {
     "name": "stdout",
     "output_type": "stream",
     "text": [
      "    Country Name  Ranking           Economy millions of US dollars\n",
      "0            USA      1.0     United States            2,54,62,700\n",
      "1            CHN      2.0             China            1,79,63,171\n",
      "2            JPN      3.0             Japan              42,31,141\n",
      "3            DEU      4.0           Germany              40,72,192\n",
      "4            IND      5.0             India              33,85,090\n",
      "..           ...      ...               ...                    ...\n",
      "204          MHL    205.0  Marshall Islands                    280\n",
      "205          KIR    206.0          Kiribati                    223\n",
      "206          PLW    207.0             Palau                    218\n",
      "207          NRU    208.0             Nauru                    151\n",
      "208          TUV    209.0            Tuvalu                     60\n",
      "\n",
      "[209 rows x 4 columns]\n"
     ]
    }
   ],
   "source": [
    "import pandas as pd\n",
    "import numpy as np\n",
    "import matplotlib.pyplot as plt\n",
    "import os\n",
    "import sys\n",
    "import re\n",
    "# dropna and fillna\n",
    "df = pd.read_csv(r'E:\\NotepadPlusPlus\\Python\\Pandas\\GDP.csv')\n",
    "# By default it will drop row wise\n",
    "print(df.dropna())"
   ]
  },
  {
   "cell_type": "code",
   "execution_count": 23,
   "id": "c082e216-d2c7-40b8-a80d-730db017fbd3",
   "metadata": {},
   "outputs": [
    {
     "name": "stdout",
     "output_type": "stream",
     "text": [
      "    Country Name  Ranking              Economy millions of US dollars\n",
      "0            USA      1.0        United States            2,54,62,700\n",
      "1            CHN      2.0                China            1,79,63,171\n",
      "2            JPN      3.0                Japan              42,31,141\n",
      "3            DEU      4.0              Germany              40,72,192\n",
      "4            IND      5.0                India              33,85,090\n",
      "..           ...      ...                  ...                    ...\n",
      "229          SSF      NaN   Sub-Saharan Africa              20,47,347\n",
      "230          LIC      NaN           Low income               5,21,634\n",
      "231          LMC      NaN  Lower middle income              81,09,650\n",
      "232          UMC      NaN  Upper middle income            3,04,95,972\n",
      "233          HIC      NaN          High income            6,15,35,769\n",
      "\n",
      "[234 rows x 4 columns]\n",
      "Empty DataFrame\n",
      "Columns: []\n",
      "Index: [0, 1, 2, 3, 4, 5, 6, 7, 8, 9, 10, 11, 12, 13, 14, 15, 16, 17, 18, 19, 20, 21, 22, 23, 24, 25, 26, 27, 28, 29, 30, 31, 32, 33, 34, 35, 36, 37, 38, 39, 40, 41, 42, 43, 44, 45, 46, 47, 48, 49, 50, 51, 52, 53, 54, 55, 56, 57, 58, 59, 60, 61, 62, 63, 64, 65, 66, 67, 68, 69, 70, 71, 72, 73, 74, 75, 76, 77, 78, 79, 80, 81, 82, 83, 84, 85, 86, 87, 88, 89, 90, 91, 92, 93, 94, 95, 96, 97, 98, 99, ...]\n",
      "\n",
      "[234 rows x 0 columns]\n"
     ]
    }
   ],
   "source": [
    "import pandas as pd\n",
    "import numpy as np\n",
    "import matplotlib.pyplot as plt\n",
    "df = pd.read_csv(r'E:\\NotepadPlusPlus\\Python\\Pandas\\GDP.csv')\n",
    "print(df)\n",
    "# axis 0 means along row axis 1 means along column\n",
    "print(df.dropna(axis=1))"
   ]
  },
  {
   "cell_type": "code",
   "execution_count": 25,
   "id": "838f1c85-ac0f-47ac-91f7-b5f5b8d425db",
   "metadata": {},
   "outputs": [
    {
     "name": "stdout",
     "output_type": "stream",
     "text": [
      "    Country Name  Ranking           Economy millions of US dollars\n",
      "0            USA      1.0     United States            2,54,62,700\n",
      "1            CHN      2.0             China            1,79,63,171\n",
      "2            JPN      3.0             Japan              42,31,141\n",
      "3            DEU      4.0           Germany              40,72,192\n",
      "4            IND      5.0             India              33,85,090\n",
      "..           ...      ...               ...                    ...\n",
      "204          MHL    205.0  Marshall Islands                    280\n",
      "205          KIR    206.0          Kiribati                    223\n",
      "206          PLW    207.0             Palau                    218\n",
      "207          NRU    208.0             Nauru                    151\n",
      "208          TUV    209.0            Tuvalu                     60\n",
      "\n",
      "[209 rows x 4 columns]\n"
     ]
    }
   ],
   "source": [
    "import pandas as pd\n",
    "import numpy as np\n",
    "import sys\n",
    "import os\n",
    "df = pd.read_csv(r'E:\\NotepadPlusPlus\\Python\\Pandas\\GDP.csv')\n",
    "# It will remove the rows containing Null values\n",
    "print(df.dropna(how=\"any\"))"
   ]
  },
  {
   "cell_type": "code",
   "execution_count": 26,
   "id": "0cdcf5ed-b6b0-414f-a13b-2566ea1020e5",
   "metadata": {},
   "outputs": [
    {
     "name": "stdout",
     "output_type": "stream",
     "text": [
      "    Country Name  Ranking              Economy millions of US dollars\n",
      "0            USA      1.0        United States            2,54,62,700\n",
      "1            CHN      2.0                China            1,79,63,171\n",
      "2            JPN      3.0                Japan              42,31,141\n",
      "3            DEU      4.0              Germany              40,72,192\n",
      "4            IND      5.0                India              33,85,090\n",
      "..           ...      ...                  ...                    ...\n",
      "229          SSF      NaN   Sub-Saharan Africa              20,47,347\n",
      "230          LIC      NaN           Low income               5,21,634\n",
      "231          LMC      NaN  Lower middle income              81,09,650\n",
      "232          UMC      NaN  Upper middle income            3,04,95,972\n",
      "233          HIC      NaN          High income            6,15,35,769\n",
      "\n",
      "[229 rows x 4 columns]\n"
     ]
    }
   ],
   "source": [
    "import pandas as pd\n",
    "import numpy as np\n",
    "df = pd.read_csv(r'E:\\NotepadPlusPlus\\Python\\Pandas\\GDP.csv')\n",
    "# It will remove only NULL rows\n",
    "print(df.dropna(how=\"all\"))"
   ]
  },
  {
   "cell_type": "code",
   "execution_count": 27,
   "id": "2dc3b06a-4149-4d9b-9189-72347e4e2d64",
   "metadata": {},
   "outputs": [
    {
     "name": "stdout",
     "output_type": "stream",
     "text": [
      "    Country Name  Ranking           Economy millions of US dollars\n",
      "0            USA      1.0     United States            2,54,62,700\n",
      "1            CHN      2.0             China            1,79,63,171\n",
      "2            JPN      3.0             Japan              42,31,141\n",
      "3            DEU      4.0           Germany              40,72,192\n",
      "4            IND      5.0             India              33,85,090\n",
      "..           ...      ...               ...                    ...\n",
      "204          MHL    205.0  Marshall Islands                    280\n",
      "205          KIR    206.0          Kiribati                    223\n",
      "206          PLW    207.0             Palau                    218\n",
      "207          NRU    208.0             Nauru                    151\n",
      "208          TUV    209.0            Tuvalu                     60\n",
      "\n",
      "[209 rows x 4 columns]\n"
     ]
    }
   ],
   "source": [
    "import pandas as pd\n",
    "import numpy as np\n",
    "import os\n",
    "df = pd.read_csv(r'E:\\NotepadPlusPlus\\Python\\Pandas\\GDP.csv')\n",
    "print(df.dropna(subset=[\"Ranking\"]))"
   ]
  },
  {
   "cell_type": "code",
   "execution_count": 29,
   "id": "487ea08f-09ee-4a27-8b8b-c0fd80f6f12c",
   "metadata": {},
   "outputs": [
    {
     "name": "stdout",
     "output_type": "stream",
     "text": [
      "    Country Name  Ranking           Economy millions of US dollars\n",
      "0            USA      1.0     United States            2,54,62,700\n",
      "1            CHN      2.0             China            1,79,63,171\n",
      "2            JPN      3.0             Japan              42,31,141\n",
      "3            DEU      4.0           Germany              40,72,192\n",
      "4            IND      5.0             India              33,85,090\n",
      "..           ...      ...               ...                    ...\n",
      "204          MHL    205.0  Marshall Islands                    280\n",
      "205          KIR    206.0          Kiribati                    223\n",
      "206          PLW    207.0             Palau                    218\n",
      "207          NRU    208.0             Nauru                    151\n",
      "208          TUV    209.0            Tuvalu                     60\n",
      "\n",
      "[209 rows x 4 columns]\n"
     ]
    }
   ],
   "source": [
    "import pandas as pd\n",
    "import numpy as np\n",
    "df = pd.read_csv(r'E:\\NotepadPlusPlus\\Python\\Pandas\\GDP.csv')\n",
    "df.dropna(inplace=True)\n",
    "print(df)"
   ]
  },
  {
   "cell_type": "code",
   "execution_count": 32,
   "id": "b4b57694-3ffc-43de-a3b5-766cfbd2a400",
   "metadata": {},
   "outputs": [
    {
     "data": {
      "text/html": [
       "<div>\n",
       "<style scoped>\n",
       "    .dataframe tbody tr th:only-of-type {\n",
       "        vertical-align: middle;\n",
       "    }\n",
       "\n",
       "    .dataframe tbody tr th {\n",
       "        vertical-align: top;\n",
       "    }\n",
       "\n",
       "    .dataframe thead th {\n",
       "        text-align: right;\n",
       "    }\n",
       "</style>\n",
       "<table border=\"1\" class=\"dataframe\">\n",
       "  <thead>\n",
       "    <tr style=\"text-align: right;\">\n",
       "      <th></th>\n",
       "      <th>Country Name</th>\n",
       "      <th>Ranking</th>\n",
       "      <th>Economy</th>\n",
       "      <th>millions of US dollars</th>\n",
       "    </tr>\n",
       "  </thead>\n",
       "  <tbody>\n",
       "    <tr>\n",
       "      <th>0</th>\n",
       "      <td>USA</td>\n",
       "      <td>1.0</td>\n",
       "      <td>United States</td>\n",
       "      <td>2,54,62,700</td>\n",
       "    </tr>\n",
       "    <tr>\n",
       "      <th>1</th>\n",
       "      <td>CHN</td>\n",
       "      <td>2.0</td>\n",
       "      <td>China</td>\n",
       "      <td>1,79,63,171</td>\n",
       "    </tr>\n",
       "    <tr>\n",
       "      <th>2</th>\n",
       "      <td>JPN</td>\n",
       "      <td>3.0</td>\n",
       "      <td>Japan</td>\n",
       "      <td>42,31,141</td>\n",
       "    </tr>\n",
       "    <tr>\n",
       "      <th>3</th>\n",
       "      <td>DEU</td>\n",
       "      <td>4.0</td>\n",
       "      <td>Germany</td>\n",
       "      <td>40,72,192</td>\n",
       "    </tr>\n",
       "    <tr>\n",
       "      <th>4</th>\n",
       "      <td>IND</td>\n",
       "      <td>5.0</td>\n",
       "      <td>India</td>\n",
       "      <td>33,85,090</td>\n",
       "    </tr>\n",
       "    <tr>\n",
       "      <th>...</th>\n",
       "      <td>...</td>\n",
       "      <td>...</td>\n",
       "      <td>...</td>\n",
       "      <td>...</td>\n",
       "    </tr>\n",
       "    <tr>\n",
       "      <th>229</th>\n",
       "      <td>SSF</td>\n",
       "      <td>NaN</td>\n",
       "      <td>Sub-Saharan Africa</td>\n",
       "      <td>20,47,347</td>\n",
       "    </tr>\n",
       "    <tr>\n",
       "      <th>230</th>\n",
       "      <td>LIC</td>\n",
       "      <td>NaN</td>\n",
       "      <td>Low income</td>\n",
       "      <td>5,21,634</td>\n",
       "    </tr>\n",
       "    <tr>\n",
       "      <th>231</th>\n",
       "      <td>LMC</td>\n",
       "      <td>NaN</td>\n",
       "      <td>Lower middle income</td>\n",
       "      <td>81,09,650</td>\n",
       "    </tr>\n",
       "    <tr>\n",
       "      <th>232</th>\n",
       "      <td>UMC</td>\n",
       "      <td>NaN</td>\n",
       "      <td>Upper middle income</td>\n",
       "      <td>3,04,95,972</td>\n",
       "    </tr>\n",
       "    <tr>\n",
       "      <th>233</th>\n",
       "      <td>HIC</td>\n",
       "      <td>NaN</td>\n",
       "      <td>High income</td>\n",
       "      <td>6,15,35,769</td>\n",
       "    </tr>\n",
       "  </tbody>\n",
       "</table>\n",
       "<p>229 rows × 4 columns</p>\n",
       "</div>"
      ],
      "text/plain": [
       "    Country Name  Ranking              Economy millions of US dollars\n",
       "0            USA      1.0        United States            2,54,62,700\n",
       "1            CHN      2.0                China            1,79,63,171\n",
       "2            JPN      3.0                Japan              42,31,141\n",
       "3            DEU      4.0              Germany              40,72,192\n",
       "4            IND      5.0                India              33,85,090\n",
       "..           ...      ...                  ...                    ...\n",
       "229          SSF      NaN   Sub-Saharan Africa              20,47,347\n",
       "230          LIC      NaN           Low income               5,21,634\n",
       "231          LMC      NaN  Lower middle income              81,09,650\n",
       "232          UMC      NaN  Upper middle income            3,04,95,972\n",
       "233          HIC      NaN          High income            6,15,35,769\n",
       "\n",
       "[229 rows x 4 columns]"
      ]
     },
     "execution_count": 32,
     "metadata": {},
     "output_type": "execute_result"
    }
   ],
   "source": [
    "import pandas as pd\n",
    "import numpy as np\n",
    "df = pd.read_csv(r'E:\\NotepadPlusPlus\\Python\\Pandas\\GDP.csv')\n",
    "df.dropna(thresh=2)"
   ]
  },
  {
   "cell_type": "code",
   "execution_count": 34,
   "id": "a774e804-7695-4c8b-b31c-3bae1c173d4b",
   "metadata": {},
   "outputs": [
    {
     "name": "stdout",
     "output_type": "stream",
     "text": [
      "    Country Name Ranking              Economy millions of US dollars\n",
      "0            USA     1.0        United States            2,54,62,700\n",
      "1            CHN     2.0                China            1,79,63,171\n",
      "2            JPN     3.0                Japan              42,31,141\n",
      "3            DEU     4.0              Germany              40,72,192\n",
      "4            IND     5.0                India              33,85,090\n",
      "..           ...     ...                  ...                    ...\n",
      "229          SSF    True   Sub-Saharan Africa              20,47,347\n",
      "230          LIC    True           Low income               5,21,634\n",
      "231          LMC    True  Lower middle income              81,09,650\n",
      "232          UMC    True  Upper middle income            3,04,95,972\n",
      "233          HIC    True          High income            6,15,35,769\n",
      "\n",
      "[234 rows x 4 columns]\n"
     ]
    }
   ],
   "source": [
    "import pandas as pd\n",
    "import numpy as np\n",
    "df = pd.read_csv(r'E:\\NotepadPlusPlus\\Python\\Pandas\\GDP.csv')\n",
    "print(df.fillna(\"True\"))"
   ]
  },
  {
   "cell_type": "code",
   "execution_count": 37,
   "id": "cf6b922c-f029-442b-bf26-49c23df6268c",
   "metadata": {},
   "outputs": [
    {
     "name": "stdout",
     "output_type": "stream",
     "text": [
      "    Country Name  Ranking              Economy millions of US dollars\n",
      "0            USA      1.0        United States            2,54,62,700\n",
      "1            CHN      2.0                China            1,79,63,171\n",
      "2            JPN      3.0                Japan              42,31,141\n",
      "3            DEU      4.0              Germany              40,72,192\n",
      "4            IND      5.0                India              33,85,090\n",
      "..           ...      ...                  ...                    ...\n",
      "229          SSF      1.0   Sub-Saharan Africa              20,47,347\n",
      "230          LIC      1.0           Low income               5,21,634\n",
      "231          LMC      1.0  Lower middle income              81,09,650\n",
      "232          UMC      1.0  Upper middle income            3,04,95,972\n",
      "233          HIC      1.0          High income            6,15,35,769\n",
      "\n",
      "[234 rows x 4 columns]\n"
     ]
    }
   ],
   "source": [
    "import pandas as pd\n",
    "import numpy as np\n",
    "df = pd.read_csv(r'E:\\NotepadPlusPlus\\Python\\Pandas\\GDP.csv')\n",
    "# It will fill every null of \"Country Name\" with \"India\" and so on\n",
    "print(df.fillna({\"Country Name\":\"India\",\"Ranking\":1,\"Economy\":\"India\",\"millions of US dollars\":23456776}))"
   ]
  },
  {
   "cell_type": "code",
   "execution_count": 38,
   "id": "b9017b2e-99fa-4037-a0b6-d833b6b565f4",
   "metadata": {},
   "outputs": [
    {
     "data": {
      "text/html": [
       "<div>\n",
       "<style scoped>\n",
       "    .dataframe tbody tr th:only-of-type {\n",
       "        vertical-align: middle;\n",
       "    }\n",
       "\n",
       "    .dataframe tbody tr th {\n",
       "        vertical-align: top;\n",
       "    }\n",
       "\n",
       "    .dataframe thead th {\n",
       "        text-align: right;\n",
       "    }\n",
       "</style>\n",
       "<table border=\"1\" class=\"dataframe\">\n",
       "  <thead>\n",
       "    <tr style=\"text-align: right;\">\n",
       "      <th></th>\n",
       "      <th>Country Name</th>\n",
       "      <th>Ranking</th>\n",
       "      <th>Economy</th>\n",
       "      <th>millions of US dollars</th>\n",
       "    </tr>\n",
       "  </thead>\n",
       "  <tbody>\n",
       "    <tr>\n",
       "      <th>0</th>\n",
       "      <td>USA</td>\n",
       "      <td>1.0</td>\n",
       "      <td>United States</td>\n",
       "      <td>2,54,62,700</td>\n",
       "    </tr>\n",
       "    <tr>\n",
       "      <th>1</th>\n",
       "      <td>CHN</td>\n",
       "      <td>2.0</td>\n",
       "      <td>China</td>\n",
       "      <td>1,79,63,171</td>\n",
       "    </tr>\n",
       "    <tr>\n",
       "      <th>2</th>\n",
       "      <td>JPN</td>\n",
       "      <td>3.0</td>\n",
       "      <td>Japan</td>\n",
       "      <td>42,31,141</td>\n",
       "    </tr>\n",
       "    <tr>\n",
       "      <th>3</th>\n",
       "      <td>DEU</td>\n",
       "      <td>4.0</td>\n",
       "      <td>Germany</td>\n",
       "      <td>40,72,192</td>\n",
       "    </tr>\n",
       "    <tr>\n",
       "      <th>4</th>\n",
       "      <td>IND</td>\n",
       "      <td>5.0</td>\n",
       "      <td>India</td>\n",
       "      <td>33,85,090</td>\n",
       "    </tr>\n",
       "    <tr>\n",
       "      <th>...</th>\n",
       "      <td>...</td>\n",
       "      <td>...</td>\n",
       "      <td>...</td>\n",
       "      <td>...</td>\n",
       "    </tr>\n",
       "    <tr>\n",
       "      <th>229</th>\n",
       "      <td>SSF</td>\n",
       "      <td>209.0</td>\n",
       "      <td>Sub-Saharan Africa</td>\n",
       "      <td>20,47,347</td>\n",
       "    </tr>\n",
       "    <tr>\n",
       "      <th>230</th>\n",
       "      <td>LIC</td>\n",
       "      <td>209.0</td>\n",
       "      <td>Low income</td>\n",
       "      <td>5,21,634</td>\n",
       "    </tr>\n",
       "    <tr>\n",
       "      <th>231</th>\n",
       "      <td>LMC</td>\n",
       "      <td>209.0</td>\n",
       "      <td>Lower middle income</td>\n",
       "      <td>81,09,650</td>\n",
       "    </tr>\n",
       "    <tr>\n",
       "      <th>232</th>\n",
       "      <td>UMC</td>\n",
       "      <td>209.0</td>\n",
       "      <td>Upper middle income</td>\n",
       "      <td>3,04,95,972</td>\n",
       "    </tr>\n",
       "    <tr>\n",
       "      <th>233</th>\n",
       "      <td>HIC</td>\n",
       "      <td>209.0</td>\n",
       "      <td>High income</td>\n",
       "      <td>6,15,35,769</td>\n",
       "    </tr>\n",
       "  </tbody>\n",
       "</table>\n",
       "<p>234 rows × 4 columns</p>\n",
       "</div>"
      ],
      "text/plain": [
       "    Country Name  Ranking              Economy millions of US dollars\n",
       "0            USA      1.0        United States            2,54,62,700\n",
       "1            CHN      2.0                China            1,79,63,171\n",
       "2            JPN      3.0                Japan              42,31,141\n",
       "3            DEU      4.0              Germany              40,72,192\n",
       "4            IND      5.0                India              33,85,090\n",
       "..           ...      ...                  ...                    ...\n",
       "229          SSF    209.0   Sub-Saharan Africa              20,47,347\n",
       "230          LIC    209.0           Low income               5,21,634\n",
       "231          LMC    209.0  Lower middle income              81,09,650\n",
       "232          UMC    209.0  Upper middle income            3,04,95,972\n",
       "233          HIC    209.0          High income            6,15,35,769\n",
       "\n",
       "[234 rows x 4 columns]"
      ]
     },
     "execution_count": 38,
     "metadata": {},
     "output_type": "execute_result"
    }
   ],
   "source": [
    "import pandas as pd\n",
    "import numpy as np\n",
    "df = pd.read_csv(r'E:\\NotepadPlusPlus\\Python\\Pandas\\GDP.csv')\n",
    "# Farward fillling and backward filling\n",
    "df.fillna(method=\"ffill\")"
   ]
  },
  {
   "cell_type": "code",
   "execution_count": 39,
   "id": "6cdaef66-a79c-4dee-aec0-bd45984b350e",
   "metadata": {},
   "outputs": [
    {
     "name": "stdout",
     "output_type": "stream",
     "text": [
      "    Country Name  Ranking              Economy millions of US dollars\n",
      "0            USA      1.0        United States            2,54,62,700\n",
      "1            CHN      2.0                China            1,79,63,171\n",
      "2            JPN      3.0                Japan              42,31,141\n",
      "3            DEU      4.0              Germany              40,72,192\n",
      "4            IND      5.0                India              33,85,090\n",
      "..           ...      ...                  ...                    ...\n",
      "229          SSF      NaN   Sub-Saharan Africa              20,47,347\n",
      "230          LIC      NaN           Low income               5,21,634\n",
      "231          LMC      NaN  Lower middle income              81,09,650\n",
      "232          UMC      NaN  Upper middle income            3,04,95,972\n",
      "233          HIC      NaN          High income            6,15,35,769\n",
      "\n",
      "[234 rows x 4 columns]\n"
     ]
    }
   ],
   "source": [
    "import pandas as pd\n",
    "import numpy as np\n",
    "import os\n",
    "df = pd.read_csv(r'E:\\NotepadPlusPlus\\Python\\Pandas\\GDP.csv')\n",
    "print(df.fillna(method=\"bfill\"))"
   ]
  },
  {
   "cell_type": "code",
   "execution_count": 44,
   "id": "67c540c9-f8a7-49a8-98a2-75440b90cbfa",
   "metadata": {},
   "outputs": [
    {
     "name": "stdout",
     "output_type": "stream",
     "text": [
      "    Country Name Ranking              Economy millions of US dollars\n",
      "0            USA     1.0        United States            2,54,62,700\n",
      "1            CHN     2.0                China            1,79,63,171\n",
      "2            JPN     3.0                Japan              42,31,141\n",
      "3            DEU     4.0              Germany              40,72,192\n",
      "4            IND     5.0                India              33,85,090\n",
      "..           ...     ...                  ...                    ...\n",
      "229          SSF     SSF   Sub-Saharan Africa              20,47,347\n",
      "230          LIC     LIC           Low income               5,21,634\n",
      "231          LMC     LMC  Lower middle income              81,09,650\n",
      "232          UMC     UMC  Upper middle income            3,04,95,972\n",
      "233          HIC     HIC          High income            6,15,35,769\n",
      "\n",
      "[234 rows x 4 columns]\n"
     ]
    }
   ],
   "source": [
    "import pandas as pd\n",
    "import  numpy as np\n",
    "df = pd.read_csv(r'E:\\NotepadPlusPlus\\Python\\Pandas\\GDP.csv')\n",
    "# It will fill along the column\n",
    "print(df.fillna(method=\"ffill\",axis=1))"
   ]
  },
  {
   "cell_type": "code",
   "execution_count": 43,
   "id": "09b885fd-75c4-447b-85d7-4d134f80a304",
   "metadata": {},
   "outputs": [
    {
     "name": "stdout",
     "output_type": "stream",
     "text": [
      "    Country Name  Ranking              Economy millions of US dollars\n",
      "0            USA      1.0        United States            2,54,62,700\n",
      "1            CHN      2.0                China            1,79,63,171\n",
      "2            JPN      3.0                Japan              42,31,141\n",
      "3            DEU      4.0              Germany              40,72,192\n",
      "4            IND      5.0                India              33,85,090\n",
      "..           ...      ...                  ...                    ...\n",
      "229          SSF    209.0   Sub-Saharan Africa              20,47,347\n",
      "230          LIC    209.0           Low income               5,21,634\n",
      "231          LMC    209.0  Lower middle income              81,09,650\n",
      "232          UMC    209.0  Upper middle income            3,04,95,972\n",
      "233          HIC    209.0          High income            6,15,35,769\n",
      "\n",
      "[234 rows x 4 columns]\n"
     ]
    }
   ],
   "source": [
    "import pandas as pd\n",
    "import numpy as np\n",
    "df = pd.read_csv(r'E:\\NotepadPlusPlus\\Python\\Pandas\\GDP.csv')\n",
    "# It will fill along the row\n",
    "print(df.fillna(method=\"ffill\",axis=0))"
   ]
  },
  {
   "cell_type": "code",
   "execution_count": 45,
   "id": "dfac6b6e-0e56-4d77-b3da-0337d4287ce2",
   "metadata": {},
   "outputs": [
    {
     "ename": "ValueError",
     "evalue": "Must specify a fill 'value' or 'method'.",
     "output_type": "error",
     "traceback": [
      "\u001b[1;31m---------------------------------------------------------------------------\u001b[0m",
      "\u001b[1;31mValueError\u001b[0m                                Traceback (most recent call last)",
      "Cell \u001b[1;32mIn[45], line 4\u001b[0m\n\u001b[0;32m      2\u001b[0m \u001b[38;5;28;01mimport\u001b[39;00m \u001b[38;5;21;01mnumpy\u001b[39;00m \u001b[38;5;28;01mas\u001b[39;00m \u001b[38;5;21;01mnp\u001b[39;00m\n\u001b[0;32m      3\u001b[0m df \u001b[38;5;241m=\u001b[39m pd\u001b[38;5;241m.\u001b[39mread_csv(\u001b[38;5;124mr\u001b[39m\u001b[38;5;124m'\u001b[39m\u001b[38;5;124mE:\u001b[39m\u001b[38;5;124m\\\u001b[39m\u001b[38;5;124mNotepadPlusPlus\u001b[39m\u001b[38;5;124m\\\u001b[39m\u001b[38;5;124mPython\u001b[39m\u001b[38;5;124m\\\u001b[39m\u001b[38;5;124mPandas\u001b[39m\u001b[38;5;124m\\\u001b[39m\u001b[38;5;124mGDP.csv\u001b[39m\u001b[38;5;124m'\u001b[39m)\n\u001b[1;32m----> 4\u001b[0m \u001b[43mdf\u001b[49m\u001b[38;5;241;43m.\u001b[39;49m\u001b[43mfillna\u001b[49m\u001b[43m(\u001b[49m\u001b[43minplace\u001b[49m\u001b[38;5;241;43m=\u001b[39;49m\u001b[38;5;28;43;01mTrue\u001b[39;49;00m\u001b[43m)\u001b[49m\n",
      "File \u001b[1;32mC:\\Program Files\\Python311\\Lib\\site-packages\\pandas\\core\\frame.py:5493\u001b[0m, in \u001b[0;36mDataFrame.fillna\u001b[1;34m(self, value, method, axis, inplace, limit, downcast)\u001b[0m\n\u001b[0;32m   5482\u001b[0m \u001b[38;5;129m@doc\u001b[39m(NDFrame\u001b[38;5;241m.\u001b[39mfillna, \u001b[38;5;241m*\u001b[39m\u001b[38;5;241m*\u001b[39m_shared_doc_kwargs)\n\u001b[0;32m   5483\u001b[0m \u001b[38;5;28;01mdef\u001b[39;00m \u001b[38;5;21mfillna\u001b[39m(\n\u001b[0;32m   5484\u001b[0m     \u001b[38;5;28mself\u001b[39m,\n\u001b[1;32m   (...)\u001b[0m\n\u001b[0;32m   5491\u001b[0m     downcast: \u001b[38;5;28mdict\u001b[39m \u001b[38;5;241m|\u001b[39m \u001b[38;5;28;01mNone\u001b[39;00m \u001b[38;5;241m=\u001b[39m \u001b[38;5;28;01mNone\u001b[39;00m,\n\u001b[0;32m   5492\u001b[0m ) \u001b[38;5;241m-\u001b[39m\u001b[38;5;241m>\u001b[39m DataFrame \u001b[38;5;241m|\u001b[39m \u001b[38;5;28;01mNone\u001b[39;00m:\n\u001b[1;32m-> 5493\u001b[0m     \u001b[38;5;28;01mreturn\u001b[39;00m \u001b[38;5;28;43msuper\u001b[39;49m\u001b[43m(\u001b[49m\u001b[43m)\u001b[49m\u001b[38;5;241;43m.\u001b[39;49m\u001b[43mfillna\u001b[49m\u001b[43m(\u001b[49m\n\u001b[0;32m   5494\u001b[0m \u001b[43m        \u001b[49m\u001b[43mvalue\u001b[49m\u001b[38;5;241;43m=\u001b[39;49m\u001b[43mvalue\u001b[49m\u001b[43m,\u001b[49m\n\u001b[0;32m   5495\u001b[0m \u001b[43m        \u001b[49m\u001b[43mmethod\u001b[49m\u001b[38;5;241;43m=\u001b[39;49m\u001b[43mmethod\u001b[49m\u001b[43m,\u001b[49m\n\u001b[0;32m   5496\u001b[0m \u001b[43m        \u001b[49m\u001b[43maxis\u001b[49m\u001b[38;5;241;43m=\u001b[39;49m\u001b[43maxis\u001b[49m\u001b[43m,\u001b[49m\n\u001b[0;32m   5497\u001b[0m \u001b[43m        \u001b[49m\u001b[43minplace\u001b[49m\u001b[38;5;241;43m=\u001b[39;49m\u001b[43minplace\u001b[49m\u001b[43m,\u001b[49m\n\u001b[0;32m   5498\u001b[0m \u001b[43m        \u001b[49m\u001b[43mlimit\u001b[49m\u001b[38;5;241;43m=\u001b[39;49m\u001b[43mlimit\u001b[49m\u001b[43m,\u001b[49m\n\u001b[0;32m   5499\u001b[0m \u001b[43m        \u001b[49m\u001b[43mdowncast\u001b[49m\u001b[38;5;241;43m=\u001b[39;49m\u001b[43mdowncast\u001b[49m\u001b[43m,\u001b[49m\n\u001b[0;32m   5500\u001b[0m \u001b[43m    \u001b[49m\u001b[43m)\u001b[49m\n",
      "File \u001b[1;32mC:\\Program Files\\Python311\\Lib\\site-packages\\pandas\\core\\generic.py:6859\u001b[0m, in \u001b[0;36mNDFrame.fillna\u001b[1;34m(self, value, method, axis, inplace, limit, downcast)\u001b[0m\n\u001b[0;32m   6746\u001b[0m \u001b[38;5;250m\u001b[39m\u001b[38;5;124;03m\"\"\"\u001b[39;00m\n\u001b[0;32m   6747\u001b[0m \u001b[38;5;124;03mFill NA/NaN values using the specified method.\u001b[39;00m\n\u001b[0;32m   6748\u001b[0m \n\u001b[1;32m   (...)\u001b[0m\n\u001b[0;32m   6856\u001b[0m \u001b[38;5;124;03mNote that column D is not affected since it is not present in df2.\u001b[39;00m\n\u001b[0;32m   6857\u001b[0m \u001b[38;5;124;03m\"\"\"\u001b[39;00m\n\u001b[0;32m   6858\u001b[0m inplace \u001b[38;5;241m=\u001b[39m validate_bool_kwarg(inplace, \u001b[38;5;124m\"\u001b[39m\u001b[38;5;124minplace\u001b[39m\u001b[38;5;124m\"\u001b[39m)\n\u001b[1;32m-> 6859\u001b[0m value, method \u001b[38;5;241m=\u001b[39m \u001b[43mvalidate_fillna_kwargs\u001b[49m\u001b[43m(\u001b[49m\u001b[43mvalue\u001b[49m\u001b[43m,\u001b[49m\u001b[43m \u001b[49m\u001b[43mmethod\u001b[49m\u001b[43m)\u001b[49m\n\u001b[0;32m   6861\u001b[0m \u001b[38;5;66;03m# set the default here, so functions examining the signaure\u001b[39;00m\n\u001b[0;32m   6862\u001b[0m \u001b[38;5;66;03m# can detect if something was set (e.g. in groupby) (GH9221)\u001b[39;00m\n\u001b[0;32m   6863\u001b[0m \u001b[38;5;28;01mif\u001b[39;00m axis \u001b[38;5;129;01mis\u001b[39;00m \u001b[38;5;28;01mNone\u001b[39;00m:\n",
      "File \u001b[1;32mC:\\Program Files\\Python311\\Lib\\site-packages\\pandas\\util\\_validators.py:288\u001b[0m, in \u001b[0;36mvalidate_fillna_kwargs\u001b[1;34m(value, method, validate_scalar_dict_value)\u001b[0m\n\u001b[0;32m    285\u001b[0m \u001b[38;5;28;01mfrom\u001b[39;00m \u001b[38;5;21;01mpandas\u001b[39;00m\u001b[38;5;21;01m.\u001b[39;00m\u001b[38;5;21;01mcore\u001b[39;00m\u001b[38;5;21;01m.\u001b[39;00m\u001b[38;5;21;01mmissing\u001b[39;00m \u001b[38;5;28;01mimport\u001b[39;00m clean_fill_method\n\u001b[0;32m    287\u001b[0m \u001b[38;5;28;01mif\u001b[39;00m value \u001b[38;5;129;01mis\u001b[39;00m \u001b[38;5;28;01mNone\u001b[39;00m \u001b[38;5;129;01mand\u001b[39;00m method \u001b[38;5;129;01mis\u001b[39;00m \u001b[38;5;28;01mNone\u001b[39;00m:\n\u001b[1;32m--> 288\u001b[0m     \u001b[38;5;28;01mraise\u001b[39;00m \u001b[38;5;167;01mValueError\u001b[39;00m(\u001b[38;5;124m\"\u001b[39m\u001b[38;5;124mMust specify a fill \u001b[39m\u001b[38;5;124m'\u001b[39m\u001b[38;5;124mvalue\u001b[39m\u001b[38;5;124m'\u001b[39m\u001b[38;5;124m or \u001b[39m\u001b[38;5;124m'\u001b[39m\u001b[38;5;124mmethod\u001b[39m\u001b[38;5;124m'\u001b[39m\u001b[38;5;124m.\u001b[39m\u001b[38;5;124m\"\u001b[39m)\n\u001b[0;32m    289\u001b[0m \u001b[38;5;28;01mif\u001b[39;00m value \u001b[38;5;129;01mis\u001b[39;00m \u001b[38;5;28;01mNone\u001b[39;00m \u001b[38;5;129;01mand\u001b[39;00m method \u001b[38;5;129;01mis\u001b[39;00m \u001b[38;5;129;01mnot\u001b[39;00m \u001b[38;5;28;01mNone\u001b[39;00m:\n\u001b[0;32m    290\u001b[0m     method \u001b[38;5;241m=\u001b[39m clean_fill_method(method)\n",
      "\u001b[1;31mValueError\u001b[0m: Must specify a fill 'value' or 'method'."
     ]
    }
   ],
   "source": [
    "import pandas as pd\n",
    "import numpy as np\n",
    "df = pd.read_csv(r'E:\\NotepadPlusPlus\\Python\\Pandas\\GDP.csv')\n",
    "df.fillna(inplace=True)"
   ]
  },
  {
   "cell_type": "code",
   "execution_count": 46,
   "id": "7bd9da1c-d587-452c-9d9e-8af126fa78d7",
   "metadata": {},
   "outputs": [
    {
     "name": "stdout",
     "output_type": "stream",
     "text": [
      "    Country Name  Ranking              Economy millions of US dollars\n",
      "0            USA      1.0        United States            2,54,62,700\n",
      "1            CHN      2.0                China            1,79,63,171\n",
      "2            JPN      3.0                Japan              42,31,141\n",
      "3            DEU      4.0              Germany              40,72,192\n",
      "4            IND      5.0                India              33,85,090\n",
      "..           ...      ...                  ...                    ...\n",
      "229          SSF     12.0   Sub-Saharan Africa              20,47,347\n",
      "230          LIC     12.0           Low income               5,21,634\n",
      "231          LMC     12.0  Lower middle income              81,09,650\n",
      "232          UMC     12.0  Upper middle income            3,04,95,972\n",
      "233          HIC     12.0          High income            6,15,35,769\n",
      "\n",
      "[234 rows x 4 columns]\n"
     ]
    }
   ],
   "source": [
    "import pandas as pd\n",
    "import numpy as np\n",
    "df = pd.read_csv(r'E:\\NotepadPlusPlus\\Python\\Pandas\\GDP.csv')\n",
    "# It will repalce all the Nan with 12\n",
    "df.fillna(12,inplace=True)\n",
    "print(df)"
   ]
  },
  {
   "cell_type": "code",
   "execution_count": 54,
   "id": "65cfd7c4-145a-4702-8cfa-8a709130a1b1",
   "metadata": {},
   "outputs": [
    {
     "name": "stdout",
     "output_type": "stream",
     "text": [
      "    Country Name  Ranking              Economy millions of US dollars\n",
      "0            USA      1.0        United States            2,54,62,700\n",
      "1            CHN      2.0                China            1,79,63,171\n",
      "2            JPN      3.0                Japan              42,31,141\n",
      "3            DEU      4.0              Germany              40,72,192\n",
      "4            IND      5.0                India              33,85,090\n",
      "..           ...      ...                  ...                    ...\n",
      "229          SSF      NaN   Sub-Saharan Africa              20,47,347\n",
      "230          LIC      NaN           Low income               5,21,634\n",
      "231          LMC      NaN  Lower middle income              81,09,650\n",
      "232          UMC      NaN  Upper middle income            3,04,95,972\n",
      "233          HIC      NaN          High income            6,15,35,769\n",
      "\n",
      "[234 rows x 4 columns]\n"
     ]
    }
   ],
   "source": [
    "import pandas as pd\n",
    "import numpy as np\n",
    "df = pd.read_csv(r'E:\\NotepadPlusPlus\\Python\\Pandas\\GDP.csv')\n",
    "# It will repalce only which is having Nan upto 2 only, we can change that limit\n",
    "print(df.fillna(10,limit=2))"
   ]
  },
  {
   "cell_type": "code",
   "execution_count": null,
   "id": "62589933-7eee-4686-b8c7-4207801a77f2",
   "metadata": {},
   "outputs": [],
   "source": [
    "import pandas as pd\n",
    "import numpy as np\n",
    "import matplotlib.pyplot as plt\n",
    "df = pd.read_csv(r'E:\\NotepadPlusPlus\\Python\\Pandas\\GDP.csv')\n",
    "df.replace(to_)"
   ]
  }
 ],
 "metadata": {
  "kernelspec": {
   "display_name": "Python 3 (ipykernel)",
   "language": "python",
   "name": "python3"
  },
  "language_info": {
   "codemirror_mode": {
    "name": "ipython",
    "version": 3
   },
   "file_extension": ".py",
   "mimetype": "text/x-python",
   "name": "python",
   "nbconvert_exporter": "python",
   "pygments_lexer": "ipython3",
   "version": "3.11.4"
  }
 },
 "nbformat": 4,
 "nbformat_minor": 5
}
